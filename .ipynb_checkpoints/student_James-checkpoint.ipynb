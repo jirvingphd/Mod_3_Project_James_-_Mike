{
 "cells": [
  {
   "cell_type": "markdown",
   "metadata": {},
   "source": [
    "# Final Project Submission\n",
    "\n",
    "Please fill out:\n",
    "* Student name: \n",
    "* Student pace: self paced / part time / full time\n",
    "* Scheduled project review date/time: \n",
    "* Instructor name: \n",
    "* Blog post URL:\n"
   ]
  },
  {
   "cell_type": "code",
   "execution_count": 1,
   "metadata": {},
   "outputs": [],
   "source": [
    "# # Attempting multi-core processing\n",
    "# import ipyparallel as ipp\n",
    "# rc = ipp.Client()\n",
    "# with rc[:].sync_imports():\n",
    "#     import bs_ds.bs_ds as bs\n",
    "#     import bs_ds.bamboo as bb"
   ]
  },
  {
   "cell_type": "code",
   "execution_count": 2,
   "metadata": {},
   "outputs": [],
   "source": [
    "# rc.ids\n",
    "# dview=rc[:]"
   ]
  },
  {
   "cell_type": "markdown",
   "metadata": {},
   "source": [
    "# OSEMN Model\n",
    "1. **OBTAIN:**\n",
    "    - **Import data, inspect, check for datatypes to convert and null values**<br>\n",
    "        - Display header and info\n",
    "        - Drop any unneeded columns (df.drop(['col1','col2'],axis=1)\n",
    "\n",
    "2. **SCRUB: cast data types, identify outliers, check for multicollinearity, normalize data**<br>\n",
    "    - Check and cast data types\n",
    "        - [x] Check for #'s that are store as objects (df.info())\n",
    "            - when converting to #'s, look for odd values (like many 0's), or strings that can't be converted\n",
    "            - Decide how to deal weird/null values (df.unique(), df.isna().sum(), df.describe()-min/max, etc\n",
    "        - [x]  Check for categorical variables stored as integers\n",
    "    - [x] Check for missing values  (df.isna().sum())\n",
    "        - Can drop rows or colums\n",
    "        - For missing numeric data with median or bin/convert to categorical\n",
    "        - For missing categorical data: make NaN own category OR replace with most common category\n",
    "    - [x] Check for multicollinearity\n",
    "        - Good rule of thumb is anything over 0.75 corr is high, remove the variable that has the most correl with the largest # of variables\n",
    "    - [ ] Normalize data (may want to do after some exploring)\n",
    "        - Most popular is Z-scoring (but won't fix skew) \n",
    "        - Can log-transform to fix skewed data\n",
    "    \n",
    "            \n",
    "3. **EXPLORE:Check distributions, outliers, etc**\n",
    "    - [ ] Check scales, ranges (df.describe())\n",
    "    - [ ] Check histograms to get an idea of distributions (df.hist()) and dat transformations to perform\n",
    "        - Can also do kernel density estimates\n",
    "    - [ ] Use scatterplots to check for linearity and possible categorical variables (df.plot(kind-'scatter')\n",
    "        - categoricals will look like vertical lines\n",
    "    - [ ] Use pd.plotting.scatter_matrix to visualize possible relationships\n",
    "    - [ ] Check for linearity\n",
    "\n",
    "   \n",
    "4. **FIT AN INITIAL MODEL:** \n",
    "    - Various forms, detail later...\n",
    "    - **Assessing the model:**\n",
    "        - Assess parameters (slope,intercept)\n",
    "        - Check if the model explains the variation in the data (RMSE, F, R_square)\n",
    "        - *Are the coeffs, slopes, intercepts in appropriate units?*\n",
    "        - *Whats the impact of collinearity? Can we ignore?*\n",
    "5. **Revise the fitted model**\n",
    "    - Multicollinearity is big issue for lin regression and cannot fully remove it\n",
    "    - Use the predictive ability of model to test it (like R2 and RMSE)\n",
    "    - Check for missed non-linearity\n",
    "6. **Holdout validation / Train/test split**\n",
    "    - use sklearn train_test_split \n",
    "___"
   ]
  },
  {
   "cell_type": "code",
   "execution_count": 3,
   "metadata": {},
   "outputs": [
    {
     "name": "stdout",
     "output_type": "stream",
     "text": [
      "View our documentation at https://bs-ds.readthedocs.io/en/latest/bs_ds.html\n",
      "For convenient loading of standard modules :\n",
      ">> from bs_ds.imports import *\n",
      "\n"
     ]
    }
   ],
   "source": [
    "from bs_ds.bamboo import *\n",
    "# import bs_ds as bs"
   ]
  },
  {
   "cell_type": "code",
   "execution_count": 4,
   "metadata": {},
   "outputs": [
    {
     "name": "stdout",
     "output_type": "stream",
     "text": [
      "display.max_columns=None\n",
      "display.expand_frame_repr=False\n",
      "display.max_rows=None\n",
      "display.precision=4\n"
     ]
    }
   ],
   "source": [
    "big_pandas()\n",
    "ignore_warnings()"
   ]
  },
  {
   "cell_type": "markdown",
   "metadata": {},
   "source": [
    "# Iowa Prisoner Recidivism Data\n",
    "\n",
    "- Source: https://www.kaggle.com/slonnadube/recidivism-for-offenders-released-from-prison\n",
    "- **Statistics about recidivism in prisoners from a 3 year prisoner**\n",
    "- **Target:**\n",
    "    - Recidivism - Return to Prison\n",
    "- **Features:**\n",
    "    - Fiscal Year Released\n",
    "    - Recidivism Reporting Year\n",
    "    - Race - Ethnicity\n",
    "    - Age At Release\n",
    "    - Convicting Offense Classification\n",
    "    - Convicting Offense Type\n",
    "    - Convicting Offense Subtype\n",
    "    - Main Supervising District\n",
    "    - Release Type\n",
    "    - Release type: Paroled to Detainder united\n",
    "    - Part of Target Population"
   ]
  },
  {
   "cell_type": "markdown",
   "metadata": {},
   "source": [
    "**From Kaggle Listing:**\n",
    ">For recidivism prediction the full dataset containing 26021 records was used. The name of the data set is: \"3-Year_Recidivism_for_Offenders_Released_from_Prison_in_Iowa_elaborated\". All the variables related to recidivism were excluded from the dataset, except the response variable: 'Recidivism - return to prison'. The response variable was turned into a numeric vector of (0,1), where 1 means 'yes recidivism' and 0 means 'no recidivism'. \n",
    "Other variables related to recidivism were of course not used in the predictive analysis. There are 26021 records in this dataset.\n",
    "\n",
    "> Another dataset was constructed using the initial one. This dataset is called 'prison_recidivists_with_recidivism_type_only'. It contains the records of those recidivists from the initial file for whom the type of recidivism has been recorded and documented.\n",
    "\n",
    "> This one done in order to enable the comparison between the seriousness of the initial offense and the type of recidivism. Therefore, only the records containing both types were left in this dataset, and the rest were filtered out. The second dataset containing data recidivists only is comprised of 6718 records."
   ]
  },
  {
   "cell_type": "markdown",
   "metadata": {},
   "source": [
    "<img src=\"https://raw.githubusercontent.com/jirvingphd/dsc-3-final-project-online-ds-ft-021119/master/districtmap09122014.jpg\" width=800>"
   ]
  },
  {
   "cell_type": "markdown",
   "metadata": {},
   "source": [
    "### **The variables in the data set:**\n",
    "\n",
    "- Fiscal Year Released Fiscal year (year ending June 30) for which the offender was released from prison.\n",
    "\n",
    "- Recidivism Reporting Year \n",
    "    - Fiscal year (year ending June 30) that marks the end of the 3-year tracking period. For example, offenders exited prison in FY 2012 are found in recidivism reporting year FY 2015.\n",
    "\n",
    "- Race - Ethnicity \n",
    "    - Offender's Race and Ethnicity\n",
    "\n",
    "- Convicting Offense Classification \n",
    "    - Maximum penalties: A Felony = Life; B Felony = 25 or 50 years; C Felony = 10 years; D Felony = 5 years; Aggravated Misdemeanor = 2 years; Serious Misdemeanor = 1 year; Simple Misdemeanor = 30 days\n",
    "\n",
    "- Convicting Offense Type General category for the most serious offense for which the offender was placed in prison.\n",
    "\n",
    "- Convicting Offense Subtype \n",
    "    - Further classification of the most serious offense for which the offender was placed in prison.\n",
    "\n",
    "- Release Type \n",
    "    - Reasoning for Offender's release from prison.\n",
    "\n",
    "- Main Supervising District \n",
    "    - The Judicial District supervising the offender for the longest time during the tracking period.\n",
    "\n",
    "- Recidivism - Return to Prison \n",
    "    - No = No Recidivism; Yes = Prison admission for any reason within the 3-year tracking period\n",
    "\n",
    "- Days to Recidivism \n",
    "    - Number of days it took before the offender returned to prison.\n",
    "\n",
    "- New Conviction Offense Classification The same as the initial offense classification.\n",
    "\n",
    "- New Conviction Offense Type The same as the initial offense type.\n",
    "\n",
    "- New Conviction Offense Sub Type The same as the initial offense subtype.\n",
    "\n",
    "- Part of Target Population \n",
    "    - The Department of Corrections has undertaken specific strategies to reduce recidivism rates for prisoners who are on parole and are part of the target population.\n",
    "    ___"
   ]
  },
  {
   "cell_type": "code",
   "execution_count": 5,
   "metadata": {},
   "outputs": [
    {
     "data": {
      "text/html": [
       "<div>\n",
       "<style scoped>\n",
       "    .dataframe tbody tr th:only-of-type {\n",
       "        vertical-align: middle;\n",
       "    }\n",
       "\n",
       "    .dataframe tbody tr th {\n",
       "        vertical-align: top;\n",
       "    }\n",
       "\n",
       "    .dataframe thead th {\n",
       "        text-align: right;\n",
       "    }\n",
       "</style>\n",
       "<table border=\"1\" class=\"dataframe\">\n",
       "  <thead>\n",
       "    <tr style=\"text-align: right;\">\n",
       "      <th></th>\n",
       "      <th>Module/Package Handle</th>\n",
       "    </tr>\n",
       "  </thead>\n",
       "  <tbody>\n",
       "    <tr>\n",
       "      <th>pandas</th>\n",
       "      <td>pd</td>\n",
       "    </tr>\n",
       "    <tr>\n",
       "      <th>numpy</th>\n",
       "      <td>np</td>\n",
       "    </tr>\n",
       "    <tr>\n",
       "      <th>matplotlib</th>\n",
       "      <td>mpl</td>\n",
       "    </tr>\n",
       "    <tr>\n",
       "      <th>matplotlib.pyplot</th>\n",
       "      <td>plt</td>\n",
       "    </tr>\n",
       "    <tr>\n",
       "      <th>seaborn</th>\n",
       "      <td>sns</td>\n",
       "    </tr>\n",
       "  </tbody>\n",
       "</table>\n",
       "</div>"
      ],
      "text/plain": [
       "                  Module/Package Handle\n",
       "pandas                               pd\n",
       "numpy                                np\n",
       "matplotlib                          mpl\n",
       "matplotlib.pyplot                   plt\n",
       "seaborn                             sns"
      ]
     },
     "metadata": {},
     "output_type": "display_data"
    }
   ],
   "source": [
    "# Importing custom-library of functions.\n",
    "# from bs_ds.bamboo import *\n",
    "import bs_ds\n",
    "from bs_ds.imports import *"
   ]
  },
  {
   "cell_type": "markdown",
   "metadata": {},
   "source": [
    "## Loading in the Dataset"
   ]
  },
  {
   "cell_type": "code",
   "execution_count": 6,
   "metadata": {},
   "outputs": [],
   "source": [
    "# Dataset Links\n",
    "mike_csv ='3-Year_Recidivism_for_Offenders_Released_from_Prison_in_Iowa.csv'\n",
    "# all_prisoners_url = 'https://raw.githubusercontent.com/jirvingphd/dsc-3-final-project-online-ds-ft-021119/master/dataset/3-Year_Recidivism_for_Offenders_Released_from_Prison_in_Iowa_elaborated.csv'\n",
    "all_prisoners_file = \"datasets/3-Year_Recidivism_for_Offenders_Released_from_Prison_in_Iowa_elaborated.csv\"\n",
    "full_all_prisoners_file = \"datasets/FULL_3-Year_Recidivism_for_Offenders_Released_from_Prison_in_Iowa.csv\"\n",
    "# only_repeat_criminals_w_new_crime_url = \"https://raw.githubusercontent.com/jirvingphd/dsc-3-final-project-online-ds-ft-021119/master/dataset/prison_recidivists_with_recidivism_type_only.csv\"\n",
    "only_repeat_criminals_w_new_crime_file= \"datasets/prison_recidivists_with_recidivism_type_only.csv\""
   ]
  },
  {
   "cell_type": "code",
   "execution_count": 7,
   "metadata": {},
   "outputs": [],
   "source": [
    "# Will be using the all_prisoners file to predict recidivism\n",
    "df = pd.read_csv(mike_csv)"
   ]
  },
  {
   "cell_type": "code",
   "execution_count": 8,
   "metadata": {},
   "outputs": [
    {
     "name": "stdout",
     "output_type": "stream",
     "text": [
      "<class 'pandas.core.frame.DataFrame'>\n",
      "RangeIndex: 26020 entries, 0 to 26019\n",
      "Data columns (total 17 columns):\n",
      "Fiscal Year Released                     26020 non-null int64\n",
      "Recidivism Reporting Year                26020 non-null int64\n",
      "Race - Ethnicity                         25990 non-null object\n",
      "Age At Release                           26017 non-null object\n",
      "Convicting Offense Classification        26020 non-null object\n",
      "Convicting Offense Type                  26020 non-null object\n",
      "Convicting Offense Subtype               26020 non-null object\n",
      "Release Type                             24258 non-null object\n",
      "Main Supervising District                16439 non-null object\n",
      "Recidivism - Return to Prison            26020 non-null object\n",
      "Days to Recidivism                       8681 non-null float64\n",
      "New Conviction Offense Classification    6718 non-null object\n",
      "New Conviction Offense Type              6718 non-null object\n",
      "New Conviction Offense Sub Type          6699 non-null object\n",
      "Part of Target Population                26020 non-null object\n",
      "Recidivism Type                          26020 non-null object\n",
      "Sex                                      26017 non-null object\n",
      "dtypes: float64(1), int64(2), object(14)\n",
      "memory usage: 3.4+ MB\n"
     ]
    },
    {
     "data": {
      "text/plain": [
       "None"
      ]
     },
     "metadata": {},
     "output_type": "display_data"
    },
    {
     "data": {
      "text/html": [
       "<div>\n",
       "<style scoped>\n",
       "    .dataframe tbody tr th:only-of-type {\n",
       "        vertical-align: middle;\n",
       "    }\n",
       "\n",
       "    .dataframe tbody tr th {\n",
       "        vertical-align: top;\n",
       "    }\n",
       "\n",
       "    .dataframe thead th {\n",
       "        text-align: right;\n",
       "    }\n",
       "</style>\n",
       "<table border=\"1\" class=\"dataframe\">\n",
       "  <thead>\n",
       "    <tr style=\"text-align: right;\">\n",
       "      <th></th>\n",
       "      <th>Fiscal Year Released</th>\n",
       "      <th>Recidivism Reporting Year</th>\n",
       "      <th>Days to Recidivism</th>\n",
       "    </tr>\n",
       "  </thead>\n",
       "  <tbody>\n",
       "    <tr>\n",
       "      <th>count</th>\n",
       "      <td>26020.0000</td>\n",
       "      <td>26020.0000</td>\n",
       "      <td>8681.0000</td>\n",
       "    </tr>\n",
       "    <tr>\n",
       "      <th>mean</th>\n",
       "      <td>2012.6008</td>\n",
       "      <td>2015.6008</td>\n",
       "      <td>469.9315</td>\n",
       "    </tr>\n",
       "    <tr>\n",
       "      <th>std</th>\n",
       "      <td>1.6610</td>\n",
       "      <td>1.6610</td>\n",
       "      <td>282.3034</td>\n",
       "    </tr>\n",
       "    <tr>\n",
       "      <th>min</th>\n",
       "      <td>2010.0000</td>\n",
       "      <td>2013.0000</td>\n",
       "      <td>0.0000</td>\n",
       "    </tr>\n",
       "    <tr>\n",
       "      <th>25%</th>\n",
       "      <td>2011.0000</td>\n",
       "      <td>2014.0000</td>\n",
       "      <td>238.0000</td>\n",
       "    </tr>\n",
       "    <tr>\n",
       "      <th>50%</th>\n",
       "      <td>2013.0000</td>\n",
       "      <td>2016.0000</td>\n",
       "      <td>418.0000</td>\n",
       "    </tr>\n",
       "    <tr>\n",
       "      <th>75%</th>\n",
       "      <td>2014.0000</td>\n",
       "      <td>2017.0000</td>\n",
       "      <td>682.0000</td>\n",
       "    </tr>\n",
       "    <tr>\n",
       "      <th>max</th>\n",
       "      <td>2015.0000</td>\n",
       "      <td>2018.0000</td>\n",
       "      <td>1095.0000</td>\n",
       "    </tr>\n",
       "  </tbody>\n",
       "</table>\n",
       "</div>"
      ],
      "text/plain": [
       "       Fiscal Year Released  Recidivism Reporting Year  Days to Recidivism\n",
       "count            26020.0000                 26020.0000           8681.0000\n",
       "mean              2012.6008                  2015.6008            469.9315\n",
       "std                  1.6610                     1.6610            282.3034\n",
       "min               2010.0000                  2013.0000              0.0000\n",
       "25%               2011.0000                  2014.0000            238.0000\n",
       "50%               2013.0000                  2016.0000            418.0000\n",
       "75%               2014.0000                  2017.0000            682.0000\n",
       "max               2015.0000                  2018.0000           1095.0000"
      ]
     },
     "metadata": {},
     "output_type": "display_data"
    },
    {
     "name": "stdout",
     "output_type": "stream",
     "text": [
      "\n",
      "---------------------------------------------------\n",
      "\n",
      "# of Identified Numeric Values in \"Object\" columns:\n",
      "\n"
     ]
    },
    {
     "data": {
      "text/html": [
       "<div>\n",
       "<style scoped>\n",
       "    .dataframe tbody tr th:only-of-type {\n",
       "        vertical-align: middle;\n",
       "    }\n",
       "\n",
       "    .dataframe tbody tr th {\n",
       "        vertical-align: top;\n",
       "    }\n",
       "\n",
       "    .dataframe thead th {\n",
       "        text-align: right;\n",
       "    }\n",
       "</style>\n",
       "<table border=\"1\" class=\"dataframe\">\n",
       "  <thead>\n",
       "    <tr style=\"text-align: right;\">\n",
       "      <th></th>\n",
       "      <th>Numeric values</th>\n",
       "      <th>Total Values</th>\n",
       "      <th>Percent</th>\n",
       "    </tr>\n",
       "    <tr>\n",
       "      <th>Column</th>\n",
       "      <th></th>\n",
       "      <th></th>\n",
       "      <th></th>\n",
       "    </tr>\n",
       "  </thead>\n",
       "  <tbody>\n",
       "  </tbody>\n",
       "</table>\n",
       "</div>"
      ],
      "text/plain": [
       "Empty DataFrame\n",
       "Columns: [Numeric values, Total Values, Percent]\n",
       "Index: []"
      ]
     },
     "metadata": {},
     "output_type": "display_data"
    },
    {
     "name": "stdout",
     "output_type": "stream",
     "text": [
      "\n",
      "----------------------------\n",
      "\n",
      "# of Identified Null Values:\n",
      "\n"
     ]
    },
    {
     "data": {
      "text/html": [
       "<div>\n",
       "<style scoped>\n",
       "    .dataframe tbody tr th:only-of-type {\n",
       "        vertical-align: middle;\n",
       "    }\n",
       "\n",
       "    .dataframe tbody tr th {\n",
       "        vertical-align: top;\n",
       "    }\n",
       "\n",
       "    .dataframe thead th {\n",
       "        text-align: right;\n",
       "    }\n",
       "</style>\n",
       "<table border=\"1\" class=\"dataframe\">\n",
       "  <thead>\n",
       "    <tr style=\"text-align: right;\">\n",
       "      <th></th>\n",
       "      <th>Null values</th>\n",
       "      <th>Total Values</th>\n",
       "      <th>Percent</th>\n",
       "    </tr>\n",
       "    <tr>\n",
       "      <th>Column</th>\n",
       "      <th></th>\n",
       "      <th></th>\n",
       "      <th></th>\n",
       "    </tr>\n",
       "  </thead>\n",
       "  <tbody>\n",
       "    <tr>\n",
       "      <th>Fiscal Year Released</th>\n",
       "      <td>0</td>\n",
       "      <td>26020</td>\n",
       "      <td>0.000</td>\n",
       "    </tr>\n",
       "    <tr>\n",
       "      <th>Recidivism Reporting Year</th>\n",
       "      <td>0</td>\n",
       "      <td>26020</td>\n",
       "      <td>0.000</td>\n",
       "    </tr>\n",
       "    <tr>\n",
       "      <th>Race - Ethnicity</th>\n",
       "      <td>30</td>\n",
       "      <td>26020</td>\n",
       "      <td>0.115</td>\n",
       "    </tr>\n",
       "    <tr>\n",
       "      <th>Age At Release</th>\n",
       "      <td>3</td>\n",
       "      <td>26020</td>\n",
       "      <td>0.012</td>\n",
       "    </tr>\n",
       "    <tr>\n",
       "      <th>Convicting Offense Classification</th>\n",
       "      <td>0</td>\n",
       "      <td>26020</td>\n",
       "      <td>0.000</td>\n",
       "    </tr>\n",
       "    <tr>\n",
       "      <th>Convicting Offense Type</th>\n",
       "      <td>0</td>\n",
       "      <td>26020</td>\n",
       "      <td>0.000</td>\n",
       "    </tr>\n",
       "    <tr>\n",
       "      <th>Convicting Offense Subtype</th>\n",
       "      <td>0</td>\n",
       "      <td>26020</td>\n",
       "      <td>0.000</td>\n",
       "    </tr>\n",
       "    <tr>\n",
       "      <th>Release Type</th>\n",
       "      <td>1762</td>\n",
       "      <td>26020</td>\n",
       "      <td>6.772</td>\n",
       "    </tr>\n",
       "    <tr>\n",
       "      <th>Main Supervising District</th>\n",
       "      <td>9581</td>\n",
       "      <td>26020</td>\n",
       "      <td>36.822</td>\n",
       "    </tr>\n",
       "    <tr>\n",
       "      <th>Recidivism - Return to Prison</th>\n",
       "      <td>0</td>\n",
       "      <td>26020</td>\n",
       "      <td>0.000</td>\n",
       "    </tr>\n",
       "    <tr>\n",
       "      <th>Days to Recidivism</th>\n",
       "      <td>17339</td>\n",
       "      <td>26020</td>\n",
       "      <td>66.637</td>\n",
       "    </tr>\n",
       "    <tr>\n",
       "      <th>New Conviction Offense Classification</th>\n",
       "      <td>19302</td>\n",
       "      <td>26020</td>\n",
       "      <td>74.181</td>\n",
       "    </tr>\n",
       "    <tr>\n",
       "      <th>New Conviction Offense Type</th>\n",
       "      <td>19302</td>\n",
       "      <td>26020</td>\n",
       "      <td>74.181</td>\n",
       "    </tr>\n",
       "    <tr>\n",
       "      <th>New Conviction Offense Sub Type</th>\n",
       "      <td>19321</td>\n",
       "      <td>26020</td>\n",
       "      <td>74.254</td>\n",
       "    </tr>\n",
       "    <tr>\n",
       "      <th>Part of Target Population</th>\n",
       "      <td>0</td>\n",
       "      <td>26020</td>\n",
       "      <td>0.000</td>\n",
       "    </tr>\n",
       "    <tr>\n",
       "      <th>Recidivism Type</th>\n",
       "      <td>0</td>\n",
       "      <td>26020</td>\n",
       "      <td>0.000</td>\n",
       "    </tr>\n",
       "    <tr>\n",
       "      <th>Sex</th>\n",
       "      <td>3</td>\n",
       "      <td>26020</td>\n",
       "      <td>0.012</td>\n",
       "    </tr>\n",
       "  </tbody>\n",
       "</table>\n",
       "</div>"
      ],
      "text/plain": [
       "                                       Null values  Total Values  Percent\n",
       "Column                                                                   \n",
       "Fiscal Year Released                             0         26020    0.000\n",
       "Recidivism Reporting Year                        0         26020    0.000\n",
       "Race - Ethnicity                                30         26020    0.115\n",
       "Age At Release                                   3         26020    0.012\n",
       "Convicting Offense Classification                0         26020    0.000\n",
       "Convicting Offense Type                          0         26020    0.000\n",
       "Convicting Offense Subtype                       0         26020    0.000\n",
       "Release Type                                  1762         26020    6.772\n",
       "Main Supervising District                     9581         26020   36.822\n",
       "Recidivism - Return to Prison                    0         26020    0.000\n",
       "Days to Recidivism                           17339         26020   66.637\n",
       "New Conviction Offense Classification        19302         26020   74.181\n",
       "New Conviction Offense Type                  19302         26020   74.181\n",
       "New Conviction Offense Sub Type              19321         26020   74.254\n",
       "Part of Target Population                        0         26020    0.000\n",
       "Recidivism Type                                  0         26020    0.000\n",
       "Sex                                              3         26020    0.012"
      ]
     },
     "metadata": {},
     "output_type": "display_data"
    },
    {
     "data": {
      "text/html": [
       "<div>\n",
       "<style scoped>\n",
       "    .dataframe tbody tr th:only-of-type {\n",
       "        vertical-align: middle;\n",
       "    }\n",
       "\n",
       "    .dataframe tbody tr th {\n",
       "        vertical-align: top;\n",
       "    }\n",
       "\n",
       "    .dataframe thead th {\n",
       "        text-align: right;\n",
       "    }\n",
       "</style>\n",
       "<table border=\"1\" class=\"dataframe\">\n",
       "  <thead>\n",
       "    <tr style=\"text-align: right;\">\n",
       "      <th></th>\n",
       "      <th>Fiscal Year Released</th>\n",
       "      <th>Recidivism Reporting Year</th>\n",
       "      <th>Race - Ethnicity</th>\n",
       "      <th>Age At Release</th>\n",
       "      <th>Convicting Offense Classification</th>\n",
       "      <th>Convicting Offense Type</th>\n",
       "      <th>Convicting Offense Subtype</th>\n",
       "      <th>Release Type</th>\n",
       "      <th>Main Supervising District</th>\n",
       "      <th>Recidivism - Return to Prison</th>\n",
       "      <th>Days to Recidivism</th>\n",
       "      <th>New Conviction Offense Classification</th>\n",
       "      <th>New Conviction Offense Type</th>\n",
       "      <th>New Conviction Offense Sub Type</th>\n",
       "      <th>Part of Target Population</th>\n",
       "      <th>Recidivism Type</th>\n",
       "      <th>Sex</th>\n",
       "    </tr>\n",
       "  </thead>\n",
       "  <tbody>\n",
       "    <tr>\n",
       "      <th>0</th>\n",
       "      <td>2010</td>\n",
       "      <td>2013</td>\n",
       "      <td>Black - Non-Hispanic</td>\n",
       "      <td>25-34</td>\n",
       "      <td>C Felony</td>\n",
       "      <td>Violent</td>\n",
       "      <td>Robbery</td>\n",
       "      <td>Parole</td>\n",
       "      <td>7JD</td>\n",
       "      <td>Yes</td>\n",
       "      <td>433.0</td>\n",
       "      <td>C Felony</td>\n",
       "      <td>Drug</td>\n",
       "      <td>Trafficking</td>\n",
       "      <td>Yes</td>\n",
       "      <td>New</td>\n",
       "      <td>Male</td>\n",
       "    </tr>\n",
       "    <tr>\n",
       "      <th>1</th>\n",
       "      <td>2010</td>\n",
       "      <td>2013</td>\n",
       "      <td>White - Non-Hispanic</td>\n",
       "      <td>25-34</td>\n",
       "      <td>D Felony</td>\n",
       "      <td>Property</td>\n",
       "      <td>Theft</td>\n",
       "      <td>Discharged – End of Sentence</td>\n",
       "      <td>NaN</td>\n",
       "      <td>Yes</td>\n",
       "      <td>453.0</td>\n",
       "      <td>NaN</td>\n",
       "      <td>NaN</td>\n",
       "      <td>NaN</td>\n",
       "      <td>No</td>\n",
       "      <td>Tech</td>\n",
       "      <td>Male</td>\n",
       "    </tr>\n",
       "    <tr>\n",
       "      <th>2</th>\n",
       "      <td>2010</td>\n",
       "      <td>2013</td>\n",
       "      <td>White - Non-Hispanic</td>\n",
       "      <td>35-44</td>\n",
       "      <td>B Felony</td>\n",
       "      <td>Drug</td>\n",
       "      <td>Trafficking</td>\n",
       "      <td>Parole</td>\n",
       "      <td>5JD</td>\n",
       "      <td>Yes</td>\n",
       "      <td>832.0</td>\n",
       "      <td>NaN</td>\n",
       "      <td>NaN</td>\n",
       "      <td>NaN</td>\n",
       "      <td>Yes</td>\n",
       "      <td>Tech</td>\n",
       "      <td>Male</td>\n",
       "    </tr>\n",
       "  </tbody>\n",
       "</table>\n",
       "</div>"
      ],
      "text/plain": [
       "   Fiscal Year Released  Recidivism Reporting Year      Race - Ethnicity Age At Release  Convicting Offense Classification Convicting Offense Type Convicting Offense Subtype                  Release Type Main Supervising District Recidivism - Return to Prison  Days to Recidivism New Conviction Offense Classification New Conviction Offense Type New Conviction Offense Sub Type Part of Target Population Recidivism Type   Sex\n",
       "0                  2010                       2013  Black - Non-Hispanic           25-34                          C Felony                 Violent                    Robbery                        Parole                       7JD                           Yes               433.0                              C Felony                        Drug                     Trafficking                       Yes             New  Male\n",
       "1                  2010                       2013  White - Non-Hispanic           25-34                          D Felony                Property                      Theft  Discharged – End of Sentence                       NaN                           Yes               453.0                                   NaN                         NaN                             NaN                        No            Tech  Male\n",
       "2                  2010                       2013  White - Non-Hispanic           35-44                          B Felony                    Drug                Trafficking                        Parole                       5JD                           Yes               832.0                                   NaN                         NaN                             NaN                       Yes            Tech  Male"
      ]
     },
     "metadata": {},
     "output_type": "display_data"
    }
   ],
   "source": [
    "from bs_ds.bamboo import inspect_df, check_null, check_unique, check_column, check_numeric\n",
    "inspect_df(df)"
   ]
  },
  {
   "cell_type": "markdown",
   "metadata": {},
   "source": [
    "**Any columns that are about New Convictions or days to recidivism should be dropped for our initial model predicting recidivism.**\n",
    "- \"New..\", \"Days to Recividism\""
   ]
  },
  {
   "cell_type": "code",
   "execution_count": 9,
   "metadata": {},
   "outputs": [
    {
     "name": "stdout",
     "output_type": "stream",
     "text": [
      "Removed New.\n",
      "Removed Days.\n",
      "Removed Recidivism Type.\n"
     ]
    }
   ],
   "source": [
    "from bs_ds.bamboo import drop_cols\n",
    "df = drop_cols(df, ['New','Days','Recidivism Type'])"
   ]
  },
  {
   "cell_type": "code",
   "execution_count": 10,
   "metadata": {},
   "outputs": [
    {
     "name": "stdout",
     "output_type": "stream",
     "text": [
      "<class 'pandas.core.frame.DataFrame'>\n",
      "RangeIndex: 26020 entries, 0 to 26019\n",
      "Data columns (total 12 columns):\n",
      "Fiscal Year Released                 26020 non-null int64\n",
      "Recidivism Reporting Year            26020 non-null int64\n",
      "Race - Ethnicity                     25990 non-null object\n",
      "Age At Release                       26017 non-null object\n",
      "Convicting Offense Classification    26020 non-null object\n",
      "Convicting Offense Type              26020 non-null object\n",
      "Convicting Offense Subtype           26020 non-null object\n",
      "Release Type                         24258 non-null object\n",
      "Main Supervising District            16439 non-null object\n",
      "Recidivism - Return to Prison        26020 non-null object\n",
      "Part of Target Population            26020 non-null object\n",
      "Sex                                  26017 non-null object\n",
      "dtypes: int64(2), object(10)\n",
      "memory usage: 2.4+ MB\n"
     ]
    }
   ],
   "source": [
    "df.info()"
   ]
  },
  {
   "cell_type": "code",
   "execution_count": 11,
   "metadata": {},
   "outputs": [
    {
     "name": "stdout",
     "output_type": "stream",
     "text": [
      "<class 'pandas.core.frame.DataFrame'>\n",
      "RangeIndex: 26020 entries, 0 to 26019\n",
      "Data columns (total 12 columns):\n",
      "Fiscal Year Released                 26020 non-null int64\n",
      "Recidivism Reporting Year            26020 non-null int64\n",
      "Race - Ethnicity                     25990 non-null object\n",
      "Age At Release                       26017 non-null object\n",
      "Convicting Offense Classification    26020 non-null object\n",
      "Convicting Offense Type              26020 non-null object\n",
      "Convicting Offense Subtype           26020 non-null object\n",
      "Release Type                         24258 non-null object\n",
      "Main Supervising District            16439 non-null object\n",
      "Recidivism - Return to Prison        26020 non-null object\n",
      "Part of Target Population            26020 non-null object\n",
      "Sex                                  26017 non-null object\n",
      "dtypes: int64(2), object(10)\n",
      "memory usage: 2.4+ MB\n"
     ]
    },
    {
     "data": {
      "text/plain": [
       "None"
      ]
     },
     "metadata": {},
     "output_type": "display_data"
    },
    {
     "data": {
      "text/html": [
       "<div>\n",
       "<style scoped>\n",
       "    .dataframe tbody tr th:only-of-type {\n",
       "        vertical-align: middle;\n",
       "    }\n",
       "\n",
       "    .dataframe tbody tr th {\n",
       "        vertical-align: top;\n",
       "    }\n",
       "\n",
       "    .dataframe thead th {\n",
       "        text-align: right;\n",
       "    }\n",
       "</style>\n",
       "<table border=\"1\" class=\"dataframe\">\n",
       "  <thead>\n",
       "    <tr style=\"text-align: right;\">\n",
       "      <th></th>\n",
       "      <th>Fiscal Year Released</th>\n",
       "      <th>Recidivism Reporting Year</th>\n",
       "    </tr>\n",
       "  </thead>\n",
       "  <tbody>\n",
       "    <tr>\n",
       "      <th>count</th>\n",
       "      <td>26020.0000</td>\n",
       "      <td>26020.0000</td>\n",
       "    </tr>\n",
       "    <tr>\n",
       "      <th>mean</th>\n",
       "      <td>2012.6008</td>\n",
       "      <td>2015.6008</td>\n",
       "    </tr>\n",
       "    <tr>\n",
       "      <th>std</th>\n",
       "      <td>1.6610</td>\n",
       "      <td>1.6610</td>\n",
       "    </tr>\n",
       "    <tr>\n",
       "      <th>min</th>\n",
       "      <td>2010.0000</td>\n",
       "      <td>2013.0000</td>\n",
       "    </tr>\n",
       "    <tr>\n",
       "      <th>25%</th>\n",
       "      <td>2011.0000</td>\n",
       "      <td>2014.0000</td>\n",
       "    </tr>\n",
       "    <tr>\n",
       "      <th>50%</th>\n",
       "      <td>2013.0000</td>\n",
       "      <td>2016.0000</td>\n",
       "    </tr>\n",
       "    <tr>\n",
       "      <th>75%</th>\n",
       "      <td>2014.0000</td>\n",
       "      <td>2017.0000</td>\n",
       "    </tr>\n",
       "    <tr>\n",
       "      <th>max</th>\n",
       "      <td>2015.0000</td>\n",
       "      <td>2018.0000</td>\n",
       "    </tr>\n",
       "  </tbody>\n",
       "</table>\n",
       "</div>"
      ],
      "text/plain": [
       "       Fiscal Year Released  Recidivism Reporting Year\n",
       "count            26020.0000                 26020.0000\n",
       "mean              2012.6008                  2015.6008\n",
       "std                  1.6610                     1.6610\n",
       "min               2010.0000                  2013.0000\n",
       "25%               2011.0000                  2014.0000\n",
       "50%               2013.0000                  2016.0000\n",
       "75%               2014.0000                  2017.0000\n",
       "max               2015.0000                  2018.0000"
      ]
     },
     "metadata": {},
     "output_type": "display_data"
    },
    {
     "name": "stdout",
     "output_type": "stream",
     "text": [
      "\n",
      "---------------------------------------------------\n",
      "\n",
      "# of Identified Numeric Values in \"Object\" columns:\n",
      "\n"
     ]
    },
    {
     "data": {
      "text/html": [
       "<div>\n",
       "<style scoped>\n",
       "    .dataframe tbody tr th:only-of-type {\n",
       "        vertical-align: middle;\n",
       "    }\n",
       "\n",
       "    .dataframe tbody tr th {\n",
       "        vertical-align: top;\n",
       "    }\n",
       "\n",
       "    .dataframe thead th {\n",
       "        text-align: right;\n",
       "    }\n",
       "</style>\n",
       "<table border=\"1\" class=\"dataframe\">\n",
       "  <thead>\n",
       "    <tr style=\"text-align: right;\">\n",
       "      <th></th>\n",
       "      <th>Numeric values</th>\n",
       "      <th>Total Values</th>\n",
       "      <th>Percent</th>\n",
       "    </tr>\n",
       "    <tr>\n",
       "      <th>Column</th>\n",
       "      <th></th>\n",
       "      <th></th>\n",
       "      <th></th>\n",
       "    </tr>\n",
       "  </thead>\n",
       "  <tbody>\n",
       "  </tbody>\n",
       "</table>\n",
       "</div>"
      ],
      "text/plain": [
       "Empty DataFrame\n",
       "Columns: [Numeric values, Total Values, Percent]\n",
       "Index: []"
      ]
     },
     "metadata": {},
     "output_type": "display_data"
    },
    {
     "name": "stdout",
     "output_type": "stream",
     "text": [
      "\n",
      "----------------------------\n",
      "\n",
      "# of Identified Null Values:\n",
      "\n"
     ]
    },
    {
     "data": {
      "text/html": [
       "<div>\n",
       "<style scoped>\n",
       "    .dataframe tbody tr th:only-of-type {\n",
       "        vertical-align: middle;\n",
       "    }\n",
       "\n",
       "    .dataframe tbody tr th {\n",
       "        vertical-align: top;\n",
       "    }\n",
       "\n",
       "    .dataframe thead th {\n",
       "        text-align: right;\n",
       "    }\n",
       "</style>\n",
       "<table border=\"1\" class=\"dataframe\">\n",
       "  <thead>\n",
       "    <tr style=\"text-align: right;\">\n",
       "      <th></th>\n",
       "      <th>Null values</th>\n",
       "      <th>Total Values</th>\n",
       "      <th>Percent</th>\n",
       "    </tr>\n",
       "    <tr>\n",
       "      <th>Column</th>\n",
       "      <th></th>\n",
       "      <th></th>\n",
       "      <th></th>\n",
       "    </tr>\n",
       "  </thead>\n",
       "  <tbody>\n",
       "    <tr>\n",
       "      <th>Fiscal Year Released</th>\n",
       "      <td>0</td>\n",
       "      <td>26020</td>\n",
       "      <td>0.000</td>\n",
       "    </tr>\n",
       "    <tr>\n",
       "      <th>Recidivism Reporting Year</th>\n",
       "      <td>0</td>\n",
       "      <td>26020</td>\n",
       "      <td>0.000</td>\n",
       "    </tr>\n",
       "    <tr>\n",
       "      <th>Race - Ethnicity</th>\n",
       "      <td>30</td>\n",
       "      <td>26020</td>\n",
       "      <td>0.115</td>\n",
       "    </tr>\n",
       "    <tr>\n",
       "      <th>Age At Release</th>\n",
       "      <td>3</td>\n",
       "      <td>26020</td>\n",
       "      <td>0.012</td>\n",
       "    </tr>\n",
       "    <tr>\n",
       "      <th>Convicting Offense Classification</th>\n",
       "      <td>0</td>\n",
       "      <td>26020</td>\n",
       "      <td>0.000</td>\n",
       "    </tr>\n",
       "    <tr>\n",
       "      <th>Convicting Offense Type</th>\n",
       "      <td>0</td>\n",
       "      <td>26020</td>\n",
       "      <td>0.000</td>\n",
       "    </tr>\n",
       "    <tr>\n",
       "      <th>Convicting Offense Subtype</th>\n",
       "      <td>0</td>\n",
       "      <td>26020</td>\n",
       "      <td>0.000</td>\n",
       "    </tr>\n",
       "    <tr>\n",
       "      <th>Release Type</th>\n",
       "      <td>1762</td>\n",
       "      <td>26020</td>\n",
       "      <td>6.772</td>\n",
       "    </tr>\n",
       "    <tr>\n",
       "      <th>Main Supervising District</th>\n",
       "      <td>9581</td>\n",
       "      <td>26020</td>\n",
       "      <td>36.822</td>\n",
       "    </tr>\n",
       "    <tr>\n",
       "      <th>Recidivism - Return to Prison</th>\n",
       "      <td>0</td>\n",
       "      <td>26020</td>\n",
       "      <td>0.000</td>\n",
       "    </tr>\n",
       "    <tr>\n",
       "      <th>Part of Target Population</th>\n",
       "      <td>0</td>\n",
       "      <td>26020</td>\n",
       "      <td>0.000</td>\n",
       "    </tr>\n",
       "    <tr>\n",
       "      <th>Sex</th>\n",
       "      <td>3</td>\n",
       "      <td>26020</td>\n",
       "      <td>0.012</td>\n",
       "    </tr>\n",
       "  </tbody>\n",
       "</table>\n",
       "</div>"
      ],
      "text/plain": [
       "                                   Null values  Total Values  Percent\n",
       "Column                                                               \n",
       "Fiscal Year Released                         0         26020    0.000\n",
       "Recidivism Reporting Year                    0         26020    0.000\n",
       "Race - Ethnicity                            30         26020    0.115\n",
       "Age At Release                               3         26020    0.012\n",
       "Convicting Offense Classification            0         26020    0.000\n",
       "Convicting Offense Type                      0         26020    0.000\n",
       "Convicting Offense Subtype                   0         26020    0.000\n",
       "Release Type                              1762         26020    6.772\n",
       "Main Supervising District                 9581         26020   36.822\n",
       "Recidivism - Return to Prison                0         26020    0.000\n",
       "Part of Target Population                    0         26020    0.000\n",
       "Sex                                          3         26020    0.012"
      ]
     },
     "metadata": {},
     "output_type": "display_data"
    },
    {
     "data": {
      "text/html": [
       "<div>\n",
       "<style scoped>\n",
       "    .dataframe tbody tr th:only-of-type {\n",
       "        vertical-align: middle;\n",
       "    }\n",
       "\n",
       "    .dataframe tbody tr th {\n",
       "        vertical-align: top;\n",
       "    }\n",
       "\n",
       "    .dataframe thead th {\n",
       "        text-align: right;\n",
       "    }\n",
       "</style>\n",
       "<table border=\"1\" class=\"dataframe\">\n",
       "  <thead>\n",
       "    <tr style=\"text-align: right;\">\n",
       "      <th></th>\n",
       "      <th>Fiscal Year Released</th>\n",
       "      <th>Recidivism Reporting Year</th>\n",
       "      <th>Race - Ethnicity</th>\n",
       "      <th>Age At Release</th>\n",
       "      <th>Convicting Offense Classification</th>\n",
       "      <th>Convicting Offense Type</th>\n",
       "      <th>Convicting Offense Subtype</th>\n",
       "      <th>Release Type</th>\n",
       "      <th>Main Supervising District</th>\n",
       "      <th>Recidivism - Return to Prison</th>\n",
       "      <th>Part of Target Population</th>\n",
       "      <th>Sex</th>\n",
       "    </tr>\n",
       "  </thead>\n",
       "  <tbody>\n",
       "    <tr>\n",
       "      <th>0</th>\n",
       "      <td>2010</td>\n",
       "      <td>2013</td>\n",
       "      <td>Black - Non-Hispanic</td>\n",
       "      <td>25-34</td>\n",
       "      <td>C Felony</td>\n",
       "      <td>Violent</td>\n",
       "      <td>Robbery</td>\n",
       "      <td>Parole</td>\n",
       "      <td>7JD</td>\n",
       "      <td>Yes</td>\n",
       "      <td>Yes</td>\n",
       "      <td>Male</td>\n",
       "    </tr>\n",
       "    <tr>\n",
       "      <th>1</th>\n",
       "      <td>2010</td>\n",
       "      <td>2013</td>\n",
       "      <td>White - Non-Hispanic</td>\n",
       "      <td>25-34</td>\n",
       "      <td>D Felony</td>\n",
       "      <td>Property</td>\n",
       "      <td>Theft</td>\n",
       "      <td>Discharged – End of Sentence</td>\n",
       "      <td>NaN</td>\n",
       "      <td>Yes</td>\n",
       "      <td>No</td>\n",
       "      <td>Male</td>\n",
       "    </tr>\n",
       "    <tr>\n",
       "      <th>2</th>\n",
       "      <td>2010</td>\n",
       "      <td>2013</td>\n",
       "      <td>White - Non-Hispanic</td>\n",
       "      <td>35-44</td>\n",
       "      <td>B Felony</td>\n",
       "      <td>Drug</td>\n",
       "      <td>Trafficking</td>\n",
       "      <td>Parole</td>\n",
       "      <td>5JD</td>\n",
       "      <td>Yes</td>\n",
       "      <td>Yes</td>\n",
       "      <td>Male</td>\n",
       "    </tr>\n",
       "  </tbody>\n",
       "</table>\n",
       "</div>"
      ],
      "text/plain": [
       "   Fiscal Year Released  Recidivism Reporting Year      Race - Ethnicity Age At Release  Convicting Offense Classification Convicting Offense Type Convicting Offense Subtype                  Release Type Main Supervising District Recidivism - Return to Prison Part of Target Population   Sex\n",
       "0                  2010                       2013  Black - Non-Hispanic           25-34                          C Felony                 Violent                    Robbery                        Parole                       7JD                           Yes                       Yes  Male\n",
       "1                  2010                       2013  White - Non-Hispanic           25-34                          D Felony                Property                      Theft  Discharged – End of Sentence                       NaN                           Yes                        No  Male\n",
       "2                  2010                       2013  White - Non-Hispanic           35-44                          B Felony                    Drug                Trafficking                        Parole                       5JD                           Yes                       Yes  Male"
      ]
     },
     "metadata": {},
     "output_type": "display_data"
    }
   ],
   "source": [
    "inspect_df(df)"
   ]
  },
  {
   "cell_type": "markdown",
   "metadata": {},
   "source": [
    "### Save original names vs short names in column_legend\n",
    "- then map names onto columns"
   ]
  },
  {
   "cell_type": "code",
   "execution_count": 12,
   "metadata": {},
   "outputs": [
    {
     "data": {
      "text/plain": [
       "Index(['Fiscal Year Released', 'Recidivism Reporting Year', 'Race - Ethnicity',\n",
       "       'Age At Release ', 'Convicting Offense Classification',\n",
       "       'Convicting Offense Type', 'Convicting Offense Subtype', 'Release Type',\n",
       "       'Main Supervising District', 'Recidivism - Return to Prison',\n",
       "       'Part of Target Population', 'Sex'],\n",
       "      dtype='object')"
      ]
     },
     "execution_count": 12,
     "metadata": {},
     "output_type": "execute_result"
    }
   ],
   "source": [
    "colnames_orig = df.columns\n",
    "colnames_orig"
   ]
  },
  {
   "cell_type": "code",
   "execution_count": 13,
   "metadata": {},
   "outputs": [
    {
     "data": {
      "text/plain": [
       "{'Fiscal Year Released': 'yr_released',\n",
       " 'Recidivism Reporting Year': 'report_year',\n",
       " 'Race - Ethnicity': 'race_ethnicity',\n",
       " 'Age At Release ': 'age_released',\n",
       " 'Convicting Offense Classification': 'crime_class',\n",
       " 'Convicting Offense Type': 'crime_type',\n",
       " 'Convicting Offense Subtype': 'crime_subtype',\n",
       " 'Release Type': 'release_type',\n",
       " 'Main Supervising District': 'super_dist',\n",
       " 'Recidivism - Return to Prison': 'recidivist',\n",
       " 'Part of Target Population': 'target_pop',\n",
       " 'Sex': 'sex'}"
      ]
     },
     "execution_count": 13,
     "metadata": {},
     "output_type": "execute_result"
    }
   ],
   "source": [
    "colnames_short = ('yr_released','report_year','race_ethnicity','age_released','crime_class','crime_type','crime_subtype','release_type','super_dist','recidivist','target_pop','sex')\n",
    "\n",
    "column_legend = dict(zip(colnames_orig,colnames_short))\n",
    "column_legend"
   ]
  },
  {
   "cell_type": "code",
   "execution_count": 14,
   "metadata": {},
   "outputs": [
    {
     "data": {
      "text/html": [
       "<div>\n",
       "<style scoped>\n",
       "    .dataframe tbody tr th:only-of-type {\n",
       "        vertical-align: middle;\n",
       "    }\n",
       "\n",
       "    .dataframe tbody tr th {\n",
       "        vertical-align: top;\n",
       "    }\n",
       "\n",
       "    .dataframe thead th {\n",
       "        text-align: right;\n",
       "    }\n",
       "</style>\n",
       "<table border=\"1\" class=\"dataframe\">\n",
       "  <thead>\n",
       "    <tr style=\"text-align: right;\">\n",
       "      <th></th>\n",
       "      <th>yr_released</th>\n",
       "      <th>report_year</th>\n",
       "      <th>race_ethnicity</th>\n",
       "      <th>age_released</th>\n",
       "      <th>crime_class</th>\n",
       "      <th>crime_type</th>\n",
       "      <th>crime_subtype</th>\n",
       "      <th>release_type</th>\n",
       "      <th>super_dist</th>\n",
       "      <th>recidivist</th>\n",
       "      <th>target_pop</th>\n",
       "      <th>sex</th>\n",
       "    </tr>\n",
       "  </thead>\n",
       "  <tbody>\n",
       "    <tr>\n",
       "      <th>0</th>\n",
       "      <td>2010</td>\n",
       "      <td>2013</td>\n",
       "      <td>Black - Non-Hispanic</td>\n",
       "      <td>25-34</td>\n",
       "      <td>C Felony</td>\n",
       "      <td>Violent</td>\n",
       "      <td>Robbery</td>\n",
       "      <td>Parole</td>\n",
       "      <td>7JD</td>\n",
       "      <td>Yes</td>\n",
       "      <td>Yes</td>\n",
       "      <td>Male</td>\n",
       "    </tr>\n",
       "    <tr>\n",
       "      <th>1</th>\n",
       "      <td>2010</td>\n",
       "      <td>2013</td>\n",
       "      <td>White - Non-Hispanic</td>\n",
       "      <td>25-34</td>\n",
       "      <td>D Felony</td>\n",
       "      <td>Property</td>\n",
       "      <td>Theft</td>\n",
       "      <td>Discharged – End of Sentence</td>\n",
       "      <td>NaN</td>\n",
       "      <td>Yes</td>\n",
       "      <td>No</td>\n",
       "      <td>Male</td>\n",
       "    </tr>\n",
       "    <tr>\n",
       "      <th>2</th>\n",
       "      <td>2010</td>\n",
       "      <td>2013</td>\n",
       "      <td>White - Non-Hispanic</td>\n",
       "      <td>35-44</td>\n",
       "      <td>B Felony</td>\n",
       "      <td>Drug</td>\n",
       "      <td>Trafficking</td>\n",
       "      <td>Parole</td>\n",
       "      <td>5JD</td>\n",
       "      <td>Yes</td>\n",
       "      <td>Yes</td>\n",
       "      <td>Male</td>\n",
       "    </tr>\n",
       "    <tr>\n",
       "      <th>3</th>\n",
       "      <td>2010</td>\n",
       "      <td>2013</td>\n",
       "      <td>White - Non-Hispanic</td>\n",
       "      <td>25-34</td>\n",
       "      <td>B Felony</td>\n",
       "      <td>Other</td>\n",
       "      <td>Other Criminal</td>\n",
       "      <td>Parole</td>\n",
       "      <td>6JD</td>\n",
       "      <td>No</td>\n",
       "      <td>Yes</td>\n",
       "      <td>Male</td>\n",
       "    </tr>\n",
       "    <tr>\n",
       "      <th>4</th>\n",
       "      <td>2010</td>\n",
       "      <td>2013</td>\n",
       "      <td>Black - Non-Hispanic</td>\n",
       "      <td>35-44</td>\n",
       "      <td>D Felony</td>\n",
       "      <td>Violent</td>\n",
       "      <td>Assault</td>\n",
       "      <td>Discharged – End of Sentence</td>\n",
       "      <td>NaN</td>\n",
       "      <td>Yes</td>\n",
       "      <td>No</td>\n",
       "      <td>Male</td>\n",
       "    </tr>\n",
       "  </tbody>\n",
       "</table>\n",
       "</div>"
      ],
      "text/plain": [
       "   yr_released  report_year        race_ethnicity age_released crime_class crime_type   crime_subtype                  release_type super_dist recidivist target_pop   sex\n",
       "0         2010         2013  Black - Non-Hispanic        25-34    C Felony    Violent         Robbery                        Parole        7JD        Yes        Yes  Male\n",
       "1         2010         2013  White - Non-Hispanic        25-34    D Felony   Property           Theft  Discharged – End of Sentence        NaN        Yes         No  Male\n",
       "2         2010         2013  White - Non-Hispanic        35-44    B Felony       Drug     Trafficking                        Parole        5JD        Yes        Yes  Male\n",
       "3         2010         2013  White - Non-Hispanic        25-34    B Felony      Other  Other Criminal                        Parole        6JD         No        Yes  Male\n",
       "4         2010         2013  Black - Non-Hispanic        35-44    D Felony    Violent         Assault  Discharged – End of Sentence        NaN        Yes         No  Male"
      ]
     },
     "execution_count": 14,
     "metadata": {},
     "output_type": "execute_result"
    }
   ],
   "source": [
    "# Rename df with shorter names\n",
    "df.rename(mapper=column_legend,axis=1,inplace=True)\n",
    "df.head()"
   ]
  },
  {
   "cell_type": "markdown",
   "metadata": {},
   "source": [
    "### Investigating Values for Each Object Column and Determining How to Handle"
   ]
  },
  {
   "cell_type": "code",
   "execution_count": 15,
   "metadata": {},
   "outputs": [
    {
     "name": "stdout",
     "output_type": "stream",
     "text": [
      "<class 'pandas.core.frame.DataFrame'>\n",
      "RangeIndex: 26020 entries, 0 to 26019\n",
      "Data columns (total 12 columns):\n",
      "yr_released       26020 non-null int64\n",
      "report_year       26020 non-null int64\n",
      "race_ethnicity    25990 non-null object\n",
      "age_released      26017 non-null object\n",
      "crime_class       26020 non-null object\n",
      "crime_type        26020 non-null object\n",
      "crime_subtype     26020 non-null object\n",
      "release_type      24258 non-null object\n",
      "super_dist        16439 non-null object\n",
      "recidivist        26020 non-null object\n",
      "target_pop        26020 non-null object\n",
      "sex               26017 non-null object\n",
      "dtypes: int64(2), object(10)\n",
      "memory usage: 2.4+ MB\n"
     ]
    }
   ],
   "source": [
    "df.info()"
   ]
  },
  {
   "cell_type": "markdown",
   "metadata": {},
   "source": [
    "## ADDRESSING NULL VALUES\n",
    "### Checking Null Values\n"
   ]
  },
  {
   "cell_type": "code",
   "execution_count": 16,
   "metadata": {},
   "outputs": [
    {
     "name": "stdout",
     "output_type": "stream",
     "text": [
      "\n",
      "----------------------------\n",
      "\n",
      "# of Identified Null Values:\n",
      "\n"
     ]
    },
    {
     "data": {
      "text/html": [
       "<div>\n",
       "<style scoped>\n",
       "    .dataframe tbody tr th:only-of-type {\n",
       "        vertical-align: middle;\n",
       "    }\n",
       "\n",
       "    .dataframe tbody tr th {\n",
       "        vertical-align: top;\n",
       "    }\n",
       "\n",
       "    .dataframe thead th {\n",
       "        text-align: right;\n",
       "    }\n",
       "</style>\n",
       "<table border=\"1\" class=\"dataframe\">\n",
       "  <thead>\n",
       "    <tr style=\"text-align: right;\">\n",
       "      <th></th>\n",
       "      <th>Null values</th>\n",
       "      <th>Total Values</th>\n",
       "      <th>Percent</th>\n",
       "    </tr>\n",
       "    <tr>\n",
       "      <th>Column</th>\n",
       "      <th></th>\n",
       "      <th></th>\n",
       "      <th></th>\n",
       "    </tr>\n",
       "  </thead>\n",
       "  <tbody>\n",
       "    <tr>\n",
       "      <th>yr_released</th>\n",
       "      <td>0</td>\n",
       "      <td>26020</td>\n",
       "      <td>0.000</td>\n",
       "    </tr>\n",
       "    <tr>\n",
       "      <th>report_year</th>\n",
       "      <td>0</td>\n",
       "      <td>26020</td>\n",
       "      <td>0.000</td>\n",
       "    </tr>\n",
       "    <tr>\n",
       "      <th>race_ethnicity</th>\n",
       "      <td>30</td>\n",
       "      <td>26020</td>\n",
       "      <td>0.115</td>\n",
       "    </tr>\n",
       "    <tr>\n",
       "      <th>age_released</th>\n",
       "      <td>3</td>\n",
       "      <td>26020</td>\n",
       "      <td>0.012</td>\n",
       "    </tr>\n",
       "    <tr>\n",
       "      <th>crime_class</th>\n",
       "      <td>0</td>\n",
       "      <td>26020</td>\n",
       "      <td>0.000</td>\n",
       "    </tr>\n",
       "    <tr>\n",
       "      <th>crime_type</th>\n",
       "      <td>0</td>\n",
       "      <td>26020</td>\n",
       "      <td>0.000</td>\n",
       "    </tr>\n",
       "    <tr>\n",
       "      <th>crime_subtype</th>\n",
       "      <td>0</td>\n",
       "      <td>26020</td>\n",
       "      <td>0.000</td>\n",
       "    </tr>\n",
       "    <tr>\n",
       "      <th>release_type</th>\n",
       "      <td>1762</td>\n",
       "      <td>26020</td>\n",
       "      <td>6.772</td>\n",
       "    </tr>\n",
       "    <tr>\n",
       "      <th>super_dist</th>\n",
       "      <td>9581</td>\n",
       "      <td>26020</td>\n",
       "      <td>36.822</td>\n",
       "    </tr>\n",
       "    <tr>\n",
       "      <th>recidivist</th>\n",
       "      <td>0</td>\n",
       "      <td>26020</td>\n",
       "      <td>0.000</td>\n",
       "    </tr>\n",
       "    <tr>\n",
       "      <th>target_pop</th>\n",
       "      <td>0</td>\n",
       "      <td>26020</td>\n",
       "      <td>0.000</td>\n",
       "    </tr>\n",
       "    <tr>\n",
       "      <th>sex</th>\n",
       "      <td>3</td>\n",
       "      <td>26020</td>\n",
       "      <td>0.012</td>\n",
       "    </tr>\n",
       "  </tbody>\n",
       "</table>\n",
       "</div>"
      ],
      "text/plain": [
       "                Null values  Total Values  Percent\n",
       "Column                                            \n",
       "yr_released               0         26020    0.000\n",
       "report_year               0         26020    0.000\n",
       "race_ethnicity           30         26020    0.115\n",
       "age_released              3         26020    0.012\n",
       "crime_class               0         26020    0.000\n",
       "crime_type                0         26020    0.000\n",
       "crime_subtype             0         26020    0.000\n",
       "release_type           1762         26020    6.772\n",
       "super_dist             9581         26020   36.822\n",
       "recidivist                0         26020    0.000\n",
       "target_pop                0         26020    0.000\n",
       "sex                       3         26020    0.012"
      ]
     },
     "metadata": {},
     "output_type": "display_data"
    }
   ],
   "source": [
    "check_null(df)"
   ]
  },
  {
   "cell_type": "markdown",
   "metadata": {},
   "source": [
    "**Results of Null Check**\n",
    "- race_ethnicity has 30 (0.12% of data)\n",
    "    -  drop\n",
    "- age_at_release has 3 (0.01% of data)\n",
    "    - drop\n",
    "- sex has 3 (0.01% of data)\n",
    "    - drop\n",
    "- super_district has 9581(36.82% of data)\n",
    "    - replace\n",
    "    - with...\n",
    "- release_type has 1762 (6.77% of data)\n",
    "    - replace\n",
    "    - with\n",
    "- part_target_pop has 1762 (6.77% of data)\n",
    "    - replace\n",
    "    - with...\n",
    "    \n",
    "### Checking Columns with Nulls to Replace to Decide Method"
   ]
  },
  {
   "cell_type": "code",
   "execution_count": 17,
   "metadata": {},
   "outputs": [],
   "source": [
    "# Dropping null values from 'age_at_release','race_ethnicity'\n",
    "df.dropna(subset=['age_released','race_ethnicity','sex'],inplace=True)"
   ]
  },
  {
   "cell_type": "code",
   "execution_count": 18,
   "metadata": {},
   "outputs": [
    {
     "name": "stdout",
     "output_type": "stream",
     "text": [
      "\n",
      "----------------------------\n",
      "\n",
      "# of Identified Null Values:\n",
      "\n"
     ]
    },
    {
     "data": {
      "text/html": [
       "<div>\n",
       "<style scoped>\n",
       "    .dataframe tbody tr th:only-of-type {\n",
       "        vertical-align: middle;\n",
       "    }\n",
       "\n",
       "    .dataframe tbody tr th {\n",
       "        vertical-align: top;\n",
       "    }\n",
       "\n",
       "    .dataframe thead th {\n",
       "        text-align: right;\n",
       "    }\n",
       "</style>\n",
       "<table border=\"1\" class=\"dataframe\">\n",
       "  <thead>\n",
       "    <tr style=\"text-align: right;\">\n",
       "      <th></th>\n",
       "      <th>Null values</th>\n",
       "      <th>Total Values</th>\n",
       "      <th>Percent</th>\n",
       "    </tr>\n",
       "    <tr>\n",
       "      <th>Column</th>\n",
       "      <th></th>\n",
       "      <th></th>\n",
       "      <th></th>\n",
       "    </tr>\n",
       "  </thead>\n",
       "  <tbody>\n",
       "    <tr>\n",
       "      <th>yr_released</th>\n",
       "      <td>0</td>\n",
       "      <td>25987</td>\n",
       "      <td>0.000</td>\n",
       "    </tr>\n",
       "    <tr>\n",
       "      <th>report_year</th>\n",
       "      <td>0</td>\n",
       "      <td>25987</td>\n",
       "      <td>0.000</td>\n",
       "    </tr>\n",
       "    <tr>\n",
       "      <th>race_ethnicity</th>\n",
       "      <td>0</td>\n",
       "      <td>25987</td>\n",
       "      <td>0.000</td>\n",
       "    </tr>\n",
       "    <tr>\n",
       "      <th>age_released</th>\n",
       "      <td>0</td>\n",
       "      <td>25987</td>\n",
       "      <td>0.000</td>\n",
       "    </tr>\n",
       "    <tr>\n",
       "      <th>crime_class</th>\n",
       "      <td>0</td>\n",
       "      <td>25987</td>\n",
       "      <td>0.000</td>\n",
       "    </tr>\n",
       "    <tr>\n",
       "      <th>crime_type</th>\n",
       "      <td>0</td>\n",
       "      <td>25987</td>\n",
       "      <td>0.000</td>\n",
       "    </tr>\n",
       "    <tr>\n",
       "      <th>crime_subtype</th>\n",
       "      <td>0</td>\n",
       "      <td>25987</td>\n",
       "      <td>0.000</td>\n",
       "    </tr>\n",
       "    <tr>\n",
       "      <th>release_type</th>\n",
       "      <td>1762</td>\n",
       "      <td>25987</td>\n",
       "      <td>6.780</td>\n",
       "    </tr>\n",
       "    <tr>\n",
       "      <th>super_dist</th>\n",
       "      <td>9549</td>\n",
       "      <td>25987</td>\n",
       "      <td>36.745</td>\n",
       "    </tr>\n",
       "    <tr>\n",
       "      <th>recidivist</th>\n",
       "      <td>0</td>\n",
       "      <td>25987</td>\n",
       "      <td>0.000</td>\n",
       "    </tr>\n",
       "    <tr>\n",
       "      <th>target_pop</th>\n",
       "      <td>0</td>\n",
       "      <td>25987</td>\n",
       "      <td>0.000</td>\n",
       "    </tr>\n",
       "    <tr>\n",
       "      <th>sex</th>\n",
       "      <td>0</td>\n",
       "      <td>25987</td>\n",
       "      <td>0.000</td>\n",
       "    </tr>\n",
       "  </tbody>\n",
       "</table>\n",
       "</div>"
      ],
      "text/plain": [
       "                Null values  Total Values  Percent\n",
       "Column                                            \n",
       "yr_released               0         25987    0.000\n",
       "report_year               0         25987    0.000\n",
       "race_ethnicity            0         25987    0.000\n",
       "age_released              0         25987    0.000\n",
       "crime_class               0         25987    0.000\n",
       "crime_type                0         25987    0.000\n",
       "crime_subtype             0         25987    0.000\n",
       "release_type           1762         25987    6.780\n",
       "super_dist             9549         25987   36.745\n",
       "recidivist                0         25987    0.000\n",
       "target_pop                0         25987    0.000\n",
       "sex                       0         25987    0.000"
      ]
     },
     "metadata": {},
     "output_type": "display_data"
    }
   ],
   "source": [
    "check_null(df)"
   ]
  },
  {
   "cell_type": "markdown",
   "metadata": {},
   "source": [
    "**Results of Null Check**\n",
    "- super_district has 9549(36.75% of data)\n",
    "    - replace\n",
    "    - with 'unknown'\n",
    "- release_type has 1762 (6.78% of data)\n",
    "    - replace  (_could_ consider dropping)\n",
    "    - with 'unknown'    "
   ]
  },
  {
   "cell_type": "code",
   "execution_count": 19,
   "metadata": {},
   "outputs": [
    {
     "name": "stdout",
     "output_type": "stream",
     "text": [
      "\n",
      "super_dist Type: object\n",
      "Number unique values: 10\n"
     ]
    },
    {
     "data": {
      "text/html": [
       "<div>\n",
       "<style scoped>\n",
       "    .dataframe tbody tr th:only-of-type {\n",
       "        vertical-align: middle;\n",
       "    }\n",
       "\n",
       "    .dataframe tbody tr th {\n",
       "        vertical-align: top;\n",
       "    }\n",
       "\n",
       "    .dataframe thead th {\n",
       "        text-align: right;\n",
       "    }\n",
       "</style>\n",
       "<table border=\"1\" class=\"dataframe\">\n",
       "  <thead>\n",
       "    <tr style=\"text-align: right;\">\n",
       "      <th></th>\n",
       "      <th>super_dist</th>\n",
       "    </tr>\n",
       "  </thead>\n",
       "  <tbody>\n",
       "    <tr>\n",
       "      <th>5JD</th>\n",
       "      <td>4982</td>\n",
       "    </tr>\n",
       "    <tr>\n",
       "      <th>1JD</th>\n",
       "      <td>2787</td>\n",
       "    </tr>\n",
       "    <tr>\n",
       "      <th>2JD</th>\n",
       "      <td>1988</td>\n",
       "    </tr>\n",
       "    <tr>\n",
       "      <th>8JD</th>\n",
       "      <td>1556</td>\n",
       "    </tr>\n",
       "    <tr>\n",
       "      <th>7JD</th>\n",
       "      <td>1514</td>\n",
       "    </tr>\n",
       "    <tr>\n",
       "      <th>3JD</th>\n",
       "      <td>1188</td>\n",
       "    </tr>\n",
       "    <tr>\n",
       "      <th>6JD</th>\n",
       "      <td>1098</td>\n",
       "    </tr>\n",
       "    <tr>\n",
       "      <th>4JD</th>\n",
       "      <td>666</td>\n",
       "    </tr>\n",
       "    <tr>\n",
       "      <th>ISC</th>\n",
       "      <td>350</td>\n",
       "    </tr>\n",
       "    <tr>\n",
       "      <th>Interstate Compact</th>\n",
       "      <td>309</td>\n",
       "    </tr>\n",
       "  </tbody>\n",
       "</table>\n",
       "</div>"
      ],
      "text/plain": [
       "                    super_dist\n",
       "5JD                       4982\n",
       "1JD                       2787\n",
       "2JD                       1988\n",
       "8JD                       1556\n",
       "7JD                       1514\n",
       "3JD                       1188\n",
       "6JD                       1098\n",
       "4JD                        666\n",
       "ISC                        350\n",
       "Interstate Compact         309"
      ]
     },
     "metadata": {},
     "output_type": "display_data"
    },
    {
     "name": "stdout",
     "output_type": "stream",
     "text": [
      "\n",
      "release_type Type: object\n",
      "Number unique values: 11\n"
     ]
    },
    {
     "data": {
      "text/html": [
       "<div>\n",
       "<style scoped>\n",
       "    .dataframe tbody tr th:only-of-type {\n",
       "        vertical-align: middle;\n",
       "    }\n",
       "\n",
       "    .dataframe tbody tr th {\n",
       "        vertical-align: top;\n",
       "    }\n",
       "\n",
       "    .dataframe thead th {\n",
       "        text-align: right;\n",
       "    }\n",
       "</style>\n",
       "<table border=\"1\" class=\"dataframe\">\n",
       "  <thead>\n",
       "    <tr style=\"text-align: right;\">\n",
       "      <th></th>\n",
       "      <th>release_type</th>\n",
       "    </tr>\n",
       "  </thead>\n",
       "  <tbody>\n",
       "    <tr>\n",
       "      <th>Parole</th>\n",
       "      <td>9810</td>\n",
       "    </tr>\n",
       "    <tr>\n",
       "      <th>Parole Granted</th>\n",
       "      <td>5577</td>\n",
       "    </tr>\n",
       "    <tr>\n",
       "      <th>Discharged – End of Sentence</th>\n",
       "      <td>5007</td>\n",
       "    </tr>\n",
       "    <tr>\n",
       "      <th>Discharged - Expiration of Sentence</th>\n",
       "      <td>2335</td>\n",
       "    </tr>\n",
       "    <tr>\n",
       "      <th>Released to Special Sentence</th>\n",
       "      <td>401</td>\n",
       "    </tr>\n",
       "    <tr>\n",
       "      <th>Special Sentence</th>\n",
       "      <td>347</td>\n",
       "    </tr>\n",
       "    <tr>\n",
       "      <th>Paroled w/Immediate Discharge</th>\n",
       "      <td>334</td>\n",
       "    </tr>\n",
       "    <tr>\n",
       "      <th>Paroled to Detainer - Out of State</th>\n",
       "      <td>137</td>\n",
       "    </tr>\n",
       "    <tr>\n",
       "      <th>Paroled to Detainer - INS</th>\n",
       "      <td>134</td>\n",
       "    </tr>\n",
       "    <tr>\n",
       "      <th>Paroled to Detainer - U.S. Marshall</th>\n",
       "      <td>77</td>\n",
       "    </tr>\n",
       "    <tr>\n",
       "      <th>Paroled to Detainer - Iowa</th>\n",
       "      <td>66</td>\n",
       "    </tr>\n",
       "  </tbody>\n",
       "</table>\n",
       "</div>"
      ],
      "text/plain": [
       "                                     release_type\n",
       "Parole                                       9810\n",
       "Parole Granted                               5577\n",
       "Discharged – End of Sentence                 5007\n",
       "Discharged - Expiration of Sentence          2335\n",
       "Released to Special Sentence                  401\n",
       "Special Sentence                              347\n",
       "Paroled w/Immediate Discharge                 334\n",
       "Paroled to Detainer - Out of State            137\n",
       "Paroled to Detainer - INS                     134\n",
       "Paroled to Detainer - U.S. Marshall            77\n",
       "Paroled to Detainer - Iowa                     66"
      ]
     },
     "metadata": {},
     "output_type": "display_data"
    }
   ],
   "source": [
    "check_unique(df, columns=['super_dist','release_type']) #,'target_pop','crime_type','crime_class'])"
   ]
  },
  {
   "cell_type": "code",
   "execution_count": 20,
   "metadata": {},
   "outputs": [
    {
     "name": "stdout",
     "output_type": "stream",
     "text": [
      "\n",
      "----------------------------\n",
      "\n",
      "# of Identified Null Values:\n",
      "\n"
     ]
    },
    {
     "data": {
      "text/html": [
       "<div>\n",
       "<style scoped>\n",
       "    .dataframe tbody tr th:only-of-type {\n",
       "        vertical-align: middle;\n",
       "    }\n",
       "\n",
       "    .dataframe tbody tr th {\n",
       "        vertical-align: top;\n",
       "    }\n",
       "\n",
       "    .dataframe thead th {\n",
       "        text-align: right;\n",
       "    }\n",
       "</style>\n",
       "<table border=\"1\" class=\"dataframe\">\n",
       "  <thead>\n",
       "    <tr style=\"text-align: right;\">\n",
       "      <th></th>\n",
       "      <th>Null values</th>\n",
       "      <th>Total Values</th>\n",
       "      <th>Percent</th>\n",
       "    </tr>\n",
       "    <tr>\n",
       "      <th>Column</th>\n",
       "      <th></th>\n",
       "      <th></th>\n",
       "      <th></th>\n",
       "    </tr>\n",
       "  </thead>\n",
       "  <tbody>\n",
       "    <tr>\n",
       "      <th>yr_released</th>\n",
       "      <td>0</td>\n",
       "      <td>25987</td>\n",
       "      <td>0.0</td>\n",
       "    </tr>\n",
       "    <tr>\n",
       "      <th>report_year</th>\n",
       "      <td>0</td>\n",
       "      <td>25987</td>\n",
       "      <td>0.0</td>\n",
       "    </tr>\n",
       "    <tr>\n",
       "      <th>race_ethnicity</th>\n",
       "      <td>0</td>\n",
       "      <td>25987</td>\n",
       "      <td>0.0</td>\n",
       "    </tr>\n",
       "    <tr>\n",
       "      <th>age_released</th>\n",
       "      <td>0</td>\n",
       "      <td>25987</td>\n",
       "      <td>0.0</td>\n",
       "    </tr>\n",
       "    <tr>\n",
       "      <th>crime_class</th>\n",
       "      <td>0</td>\n",
       "      <td>25987</td>\n",
       "      <td>0.0</td>\n",
       "    </tr>\n",
       "    <tr>\n",
       "      <th>crime_type</th>\n",
       "      <td>0</td>\n",
       "      <td>25987</td>\n",
       "      <td>0.0</td>\n",
       "    </tr>\n",
       "    <tr>\n",
       "      <th>crime_subtype</th>\n",
       "      <td>0</td>\n",
       "      <td>25987</td>\n",
       "      <td>0.0</td>\n",
       "    </tr>\n",
       "    <tr>\n",
       "      <th>release_type</th>\n",
       "      <td>0</td>\n",
       "      <td>25987</td>\n",
       "      <td>0.0</td>\n",
       "    </tr>\n",
       "    <tr>\n",
       "      <th>super_dist</th>\n",
       "      <td>0</td>\n",
       "      <td>25987</td>\n",
       "      <td>0.0</td>\n",
       "    </tr>\n",
       "    <tr>\n",
       "      <th>recidivist</th>\n",
       "      <td>0</td>\n",
       "      <td>25987</td>\n",
       "      <td>0.0</td>\n",
       "    </tr>\n",
       "    <tr>\n",
       "      <th>target_pop</th>\n",
       "      <td>0</td>\n",
       "      <td>25987</td>\n",
       "      <td>0.0</td>\n",
       "    </tr>\n",
       "    <tr>\n",
       "      <th>sex</th>\n",
       "      <td>0</td>\n",
       "      <td>25987</td>\n",
       "      <td>0.0</td>\n",
       "    </tr>\n",
       "  </tbody>\n",
       "</table>\n",
       "</div>"
      ],
      "text/plain": [
       "                Null values  Total Values  Percent\n",
       "Column                                            \n",
       "yr_released               0         25987      0.0\n",
       "report_year               0         25987      0.0\n",
       "race_ethnicity            0         25987      0.0\n",
       "age_released              0         25987      0.0\n",
       "crime_class               0         25987      0.0\n",
       "crime_type                0         25987      0.0\n",
       "crime_subtype             0         25987      0.0\n",
       "release_type              0         25987      0.0\n",
       "super_dist                0         25987      0.0\n",
       "recidivist                0         25987      0.0\n",
       "target_pop                0         25987      0.0\n",
       "sex                       0         25987      0.0"
      ]
     },
     "metadata": {},
     "output_type": "display_data"
    }
   ],
   "source": [
    "# Filling NA's in super_dist and release_type\n",
    "df.fillna(\"unknown\",inplace=True)\n",
    "\n",
    "check_null(df)"
   ]
  },
  {
   "cell_type": "markdown",
   "metadata": {},
   "source": [
    "## COMBINING AND REMAPPING CLASSES"
   ]
  },
  {
   "cell_type": "markdown",
   "metadata": {},
   "source": [
    "### Remapping race_ethnicity"
   ]
  },
  {
   "cell_type": "markdown",
   "metadata": {},
   "source": [
    "- for race_ethnicity:\n",
    "    - Going to combine hispanic and non-hispanic "
   ]
  },
  {
   "cell_type": "code",
   "execution_count": 21,
   "metadata": {},
   "outputs": [],
   "source": [
    "race_ethnicity_map = {'White - Non-Hispanic':'White',\n",
    "                        'Black - Non-Hispanic': 'Black',\n",
    "                        'White - Hispanic' : 'Hispanic',\n",
    "                        'American Indian or Alaska Native - Non-Hispanic' : 'American Native',\n",
    "                        'Asian or Pacific Islander - Non-Hispanic' : 'Asian or Pacific Islander',\n",
    "                        'Black - Hispanic' : 'Black',\n",
    "                        'American Indian or Alaska Native - Hispanic':'American Native',\n",
    "                        'White -' : 'White',\n",
    "                        'Asian or Pacific Islander - Hispanic' : 'Asian or Pacific Islander',\n",
    "                        'N/A -' : np.nan,\n",
    "                        'Black -':'Black'}"
   ]
  },
  {
   "cell_type": "code",
   "execution_count": 22,
   "metadata": {},
   "outputs": [
    {
     "name": "stdout",
     "output_type": "stream",
     "text": [
      "<class 'pandas.core.frame.DataFrame'>\n",
      "Int64Index: 25987 entries, 0 to 26019\n",
      "Data columns (total 13 columns):\n",
      "yr_released           25987 non-null int64\n",
      "report_year           25987 non-null int64\n",
      "race_ethnicity        25987 non-null object\n",
      "age_released          25987 non-null object\n",
      "crime_class           25987 non-null object\n",
      "crime_type            25987 non-null object\n",
      "crime_subtype         25987 non-null object\n",
      "release_type          25987 non-null object\n",
      "super_dist            25987 non-null object\n",
      "recidivist            25987 non-null object\n",
      "target_pop            25987 non-null object\n",
      "sex                   25987 non-null object\n",
      "race_ethnicity_map    25985 non-null object\n",
      "dtypes: int64(2), object(11)\n",
      "memory usage: 2.8+ MB\n"
     ]
    }
   ],
   "source": [
    "df['race_ethnicity_map'] = df['race_ethnicity'].map(race_ethnicity_map)\n",
    "df.info()"
   ]
  },
  {
   "cell_type": "markdown",
   "metadata": {},
   "source": [
    "### Remapping crime_class\n",
    "- for crime_class:\n",
    "    - Combine 'Other Felony' and 'Other Felony (Old Code)' -> nan\n",
    "    - Other Misdemeanor -> np.nan\n",
    "    - Felony - Mandatory Minimum -> np.nan\n",
    "    - Special Sentence 2005 -> Sex Offender\n",
    "    - 'Sexual Predator Community Supervision' -> 'Sex Offender'\n",
    "    - Other Felony -> np.nan\n",
    "    "
   ]
  },
  {
   "cell_type": "code",
   "execution_count": 23,
   "metadata": {},
   "outputs": [
    {
     "data": {
      "text/plain": [
       "{'Other Felony (Old Code)': nan,\n",
       " 'Other Misdemeanor': nan,\n",
       " 'Felony - Mandatory Minimum': nan,\n",
       " 'Special Sentence 2005': 'Sex Offender',\n",
       " 'Other Felony': nan,\n",
       " 'Sexual Predator Community Supervision': 'Sex Offender',\n",
       " 'D Felony': 'D Felony',\n",
       " 'C Felony': 'C Felony',\n",
       " 'B Felony': 'B Felony',\n",
       " 'A Felony': 'A Felony',\n",
       " 'Aggravated Misdemeanor': 'Aggravated Misdemeanor',\n",
       " 'Felony - Enhancement to Original Penalty': 'Felony - Enhancement to Original Penalty',\n",
       " 'Felony - Enhanced': 'Felony - Enhanced',\n",
       " 'Serious Misdemeanor': 'Serious Misdemeanor',\n",
       " 'Simple Misdemeanor': 'Simple Misdemeanor'}"
      ]
     },
     "execution_count": 23,
     "metadata": {},
     "output_type": "execute_result"
    }
   ],
   "source": [
    "crime_class_map = {'Other Felony (Old Code)': np.nan ,#or other felony\n",
    "                  'Other Misdemeanor':np.nan,\n",
    "                   'Felony - Mandatory Minimum':np.nan, # if minimum then lowest sentence ==  D Felony\n",
    "                   'Special Sentence 2005': 'Sex Offender',\n",
    "                   'Other Felony' : np.nan ,\n",
    "                   'Sexual Predator Community Supervision' : 'Sex Offender',\n",
    "                   'D Felony': 'D Felony',\n",
    "                   'C Felony' :'C Felony',\n",
    "                   'B Felony' : 'B Felony',\n",
    "                   'A Felony' : 'A Felony',\n",
    "                   'Aggravated Misdemeanor':'Aggravated Misdemeanor',\n",
    "                   'Felony - Enhancement to Original Penalty':'Felony - Enhancement to Original Penalty',\n",
    "                   'Felony - Enhanced':'Felony - Enhanced' ,\n",
    "                   'Serious Misdemeanor':'Serious Misdemeanor',\n",
    "                   'Simple Misdemeanor':'Simple Misdemeanor'}\n",
    "crime_class_map"
   ]
  },
  {
   "cell_type": "code",
   "execution_count": 24,
   "metadata": {},
   "outputs": [
    {
     "data": {
      "text/plain": [
       "D Felony                                    10478\n",
       "C Felony                                     6796\n",
       "Aggravated Misdemeanor                       4916\n",
       "B Felony                                     1763\n",
       "Felony - Enhancement to Original Penalty     1532\n",
       "Felony - Enhanced                             220\n",
       "Serious Misdemeanor                           155\n",
       "Special Sentence 2005                          98\n",
       "Felony - Mandatory Minimum                     11\n",
       "Other Felony                                    6\n",
       "A Felony                                        4\n",
       "Simple Misdemeanor                              3\n",
       "Sexual Predator Community Supervision           2\n",
       "Other Felony (Old Code)                         2\n",
       "Other Misdemeanor                               1\n",
       "Name: crime_class, dtype: int64"
      ]
     },
     "execution_count": 24,
     "metadata": {},
     "output_type": "execute_result"
    }
   ],
   "source": [
    "crime_class = df['crime_class']\n",
    "crime_class.value_counts()"
   ]
  },
  {
   "cell_type": "code",
   "execution_count": 25,
   "metadata": {},
   "outputs": [
    {
     "name": "stdout",
     "output_type": "stream",
     "text": [
      "<class 'pandas.core.frame.DataFrame'>\n",
      "Int64Index: 25987 entries, 0 to 26019\n",
      "Data columns (total 14 columns):\n",
      "yr_released           25987 non-null int64\n",
      "report_year           25987 non-null int64\n",
      "race_ethnicity        25987 non-null object\n",
      "age_released          25987 non-null object\n",
      "crime_class           25987 non-null object\n",
      "crime_type            25987 non-null object\n",
      "crime_subtype         25987 non-null object\n",
      "release_type          25987 non-null object\n",
      "super_dist            25987 non-null object\n",
      "recidivist            25987 non-null object\n",
      "target_pop            25987 non-null object\n",
      "sex                   25987 non-null object\n",
      "race_ethnicity_map    25985 non-null object\n",
      "crime_class_map       25967 non-null object\n",
      "dtypes: int64(2), object(12)\n",
      "memory usage: 3.0+ MB\n"
     ]
    }
   ],
   "source": [
    "df['crime_class_map'] = df['crime_class'].map(crime_class_map)\n",
    "df.info()"
   ]
  },
  {
   "cell_type": "markdown",
   "metadata": {},
   "source": [
    "### Remapping release_type\n",
    "- Combine Parole Grant and Parole and Paroled w/ Immediate Discharge [?]\n",
    "- Combine Discharged - End of Sentence and Discharged - Expiration of Sentence\n",
    "- **unknown...?** (keeping but consider dropping\n",
    "- Combine Released to Special Sentence and Special Sentence\n",
    "- Combine Paroled to Detainer - Out of State, Paroled to Detainer - INS, Paroled to Detainer - U.S. Marshall, Paroled to Detainer - Iowa. "
   ]
  },
  {
   "cell_type": "code",
   "execution_count": 26,
   "metadata": {},
   "outputs": [],
   "source": [
    "release_type_map = {'Parole': 'Paroled',\n",
    "                    'Discharged – End of Sentence': 'Discharged - End of Sentence',\n",
    "                    'Special Sentence':'Special Sentence',\n",
    "                    'Parole Granted': 'Parole',\n",
    "                    'Discharged - Expiration of Sentence' : 'Discharged - End of Sentence',\n",
    "                    'Paroled w/Immediate Discharge': 'Paroled',\n",
    "                    'Paroled to Detainer - Iowa':'Paroled to Detainer',\n",
    "                    'Paroled to Detainer - U.S. Marshall':'Paroled to Detainer',\n",
    "                    'Paroled to Detainer - Out of State':'Paroled to Detainer',\n",
    "                    'Released to Special Sentence':'Special Sentence',\n",
    "                    'Paroled to Detainer - INS':'Paroled to Detainer',\n",
    "                    'unknown':'unknown'}"
   ]
  },
  {
   "cell_type": "code",
   "execution_count": 27,
   "metadata": {},
   "outputs": [
    {
     "data": {
      "text/plain": [
       "Paroled                         10144\n",
       "Discharged - End of Sentence     7342\n",
       "Parole                           5577\n",
       "unknown                          1762\n",
       "Special Sentence                  748\n",
       "Paroled to Detainer               414\n",
       "Name: release_type_map, dtype: int64"
      ]
     },
     "execution_count": 27,
     "metadata": {},
     "output_type": "execute_result"
    }
   ],
   "source": [
    "df['release_type_map'] = df['release_type'].map(release_type_map)\n",
    "df['release_type_map'].value_counts()"
   ]
  },
  {
   "cell_type": "markdown",
   "metadata": {},
   "source": [
    "### Remapping binaries ( recidivist, target_pop, sex)\n",
    "- Yes = 1\n",
    "- No = 0\n",
    "\n",
    "- Male = 0\n",
    "- Female = 1"
   ]
  },
  {
   "cell_type": "code",
   "execution_count": 28,
   "metadata": {},
   "outputs": [],
   "source": [
    "recidivist_map = {'No':0,'Yes':1}\n",
    "target_pop_map = {'No':0,'Yes':1}\n",
    "sex_map = {'Male':0,'Female':1}"
   ]
  },
  {
   "cell_type": "code",
   "execution_count": 29,
   "metadata": {},
   "outputs": [
    {
     "data": {
      "text/plain": [
       "0    17306\n",
       "1     8681\n",
       "Name: recidivist_map, dtype: int64"
      ]
     },
     "execution_count": 29,
     "metadata": {},
     "output_type": "execute_result"
    }
   ],
   "source": [
    "df['recidivist_map'] = df['recidivist'].map(recidivist_map)\n",
    "df['recidivist_map'].value_counts()"
   ]
  },
  {
   "cell_type": "code",
   "execution_count": 30,
   "metadata": {},
   "outputs": [
    {
     "data": {
      "text/plain": [
       "1    14274\n",
       "0    11713\n",
       "Name: target_pop_map, dtype: int64"
      ]
     },
     "execution_count": 30,
     "metadata": {},
     "output_type": "execute_result"
    }
   ],
   "source": [
    "df['target_pop_map'] = df['target_pop'].map(target_pop_map)\n",
    "df['target_pop_map'].value_counts()"
   ]
  },
  {
   "cell_type": "code",
   "execution_count": 31,
   "metadata": {},
   "outputs": [
    {
     "data": {
      "text/plain": [
       "0    22651\n",
       "1     3336\n",
       "Name: sex_map, dtype: int64"
      ]
     },
     "execution_count": 31,
     "metadata": {},
     "output_type": "execute_result"
    }
   ],
   "source": [
    "df['sex_map'] = df['sex'].map(sex_map)\n",
    "df['sex_map'].value_counts()"
   ]
  },
  {
   "cell_type": "code",
   "execution_count": 32,
   "metadata": {},
   "outputs": [
    {
     "name": "stdout",
     "output_type": "stream",
     "text": [
      "<class 'pandas.core.frame.DataFrame'>\n",
      "Int64Index: 25987 entries, 0 to 26019\n",
      "Data columns (total 18 columns):\n",
      "yr_released           25987 non-null int64\n",
      "report_year           25987 non-null int64\n",
      "race_ethnicity        25987 non-null object\n",
      "age_released          25987 non-null object\n",
      "crime_class           25987 non-null object\n",
      "crime_type            25987 non-null object\n",
      "crime_subtype         25987 non-null object\n",
      "release_type          25987 non-null object\n",
      "super_dist            25987 non-null object\n",
      "recidivist            25987 non-null object\n",
      "target_pop            25987 non-null object\n",
      "sex                   25987 non-null object\n",
      "race_ethnicity_map    25985 non-null object\n",
      "crime_class_map       25967 non-null object\n",
      "release_type_map      25987 non-null object\n",
      "recidivist_map        25987 non-null int64\n",
      "target_pop_map        25987 non-null int64\n",
      "sex_map               25987 non-null int64\n",
      "dtypes: int64(5), object(13)\n",
      "memory usage: 3.8+ MB\n"
     ]
    }
   ],
   "source": [
    "df.info()"
   ]
  },
  {
   "cell_type": "markdown",
   "metadata": {},
   "source": [
    "#### Dropping all  values replaced with np.nan"
   ]
  },
  {
   "cell_type": "code",
   "execution_count": 33,
   "metadata": {
    "scrolled": false
   },
   "outputs": [
    {
     "name": "stdout",
     "output_type": "stream",
     "text": [
      "\n",
      "----------------------------\n",
      "\n",
      "# of Identified Null Values:\n",
      "\n"
     ]
    },
    {
     "data": {
      "text/html": [
       "<div>\n",
       "<style scoped>\n",
       "    .dataframe tbody tr th:only-of-type {\n",
       "        vertical-align: middle;\n",
       "    }\n",
       "\n",
       "    .dataframe tbody tr th {\n",
       "        vertical-align: top;\n",
       "    }\n",
       "\n",
       "    .dataframe thead th {\n",
       "        text-align: right;\n",
       "    }\n",
       "</style>\n",
       "<table border=\"1\" class=\"dataframe\">\n",
       "  <thead>\n",
       "    <tr style=\"text-align: right;\">\n",
       "      <th></th>\n",
       "      <th>Null values</th>\n",
       "      <th>Total Values</th>\n",
       "      <th>Percent</th>\n",
       "    </tr>\n",
       "    <tr>\n",
       "      <th>Column</th>\n",
       "      <th></th>\n",
       "      <th></th>\n",
       "      <th></th>\n",
       "    </tr>\n",
       "  </thead>\n",
       "  <tbody>\n",
       "    <tr>\n",
       "      <th>yr_released</th>\n",
       "      <td>0</td>\n",
       "      <td>25987</td>\n",
       "      <td>0.000</td>\n",
       "    </tr>\n",
       "    <tr>\n",
       "      <th>report_year</th>\n",
       "      <td>0</td>\n",
       "      <td>25987</td>\n",
       "      <td>0.000</td>\n",
       "    </tr>\n",
       "    <tr>\n",
       "      <th>race_ethnicity</th>\n",
       "      <td>0</td>\n",
       "      <td>25987</td>\n",
       "      <td>0.000</td>\n",
       "    </tr>\n",
       "    <tr>\n",
       "      <th>age_released</th>\n",
       "      <td>0</td>\n",
       "      <td>25987</td>\n",
       "      <td>0.000</td>\n",
       "    </tr>\n",
       "    <tr>\n",
       "      <th>crime_class</th>\n",
       "      <td>0</td>\n",
       "      <td>25987</td>\n",
       "      <td>0.000</td>\n",
       "    </tr>\n",
       "    <tr>\n",
       "      <th>crime_type</th>\n",
       "      <td>0</td>\n",
       "      <td>25987</td>\n",
       "      <td>0.000</td>\n",
       "    </tr>\n",
       "    <tr>\n",
       "      <th>crime_subtype</th>\n",
       "      <td>0</td>\n",
       "      <td>25987</td>\n",
       "      <td>0.000</td>\n",
       "    </tr>\n",
       "    <tr>\n",
       "      <th>release_type</th>\n",
       "      <td>0</td>\n",
       "      <td>25987</td>\n",
       "      <td>0.000</td>\n",
       "    </tr>\n",
       "    <tr>\n",
       "      <th>super_dist</th>\n",
       "      <td>0</td>\n",
       "      <td>25987</td>\n",
       "      <td>0.000</td>\n",
       "    </tr>\n",
       "    <tr>\n",
       "      <th>recidivist</th>\n",
       "      <td>0</td>\n",
       "      <td>25987</td>\n",
       "      <td>0.000</td>\n",
       "    </tr>\n",
       "    <tr>\n",
       "      <th>target_pop</th>\n",
       "      <td>0</td>\n",
       "      <td>25987</td>\n",
       "      <td>0.000</td>\n",
       "    </tr>\n",
       "    <tr>\n",
       "      <th>sex</th>\n",
       "      <td>0</td>\n",
       "      <td>25987</td>\n",
       "      <td>0.000</td>\n",
       "    </tr>\n",
       "    <tr>\n",
       "      <th>race_ethnicity_map</th>\n",
       "      <td>2</td>\n",
       "      <td>25987</td>\n",
       "      <td>0.008</td>\n",
       "    </tr>\n",
       "    <tr>\n",
       "      <th>crime_class_map</th>\n",
       "      <td>20</td>\n",
       "      <td>25987</td>\n",
       "      <td>0.077</td>\n",
       "    </tr>\n",
       "    <tr>\n",
       "      <th>release_type_map</th>\n",
       "      <td>0</td>\n",
       "      <td>25987</td>\n",
       "      <td>0.000</td>\n",
       "    </tr>\n",
       "    <tr>\n",
       "      <th>recidivist_map</th>\n",
       "      <td>0</td>\n",
       "      <td>25987</td>\n",
       "      <td>0.000</td>\n",
       "    </tr>\n",
       "    <tr>\n",
       "      <th>target_pop_map</th>\n",
       "      <td>0</td>\n",
       "      <td>25987</td>\n",
       "      <td>0.000</td>\n",
       "    </tr>\n",
       "    <tr>\n",
       "      <th>sex_map</th>\n",
       "      <td>0</td>\n",
       "      <td>25987</td>\n",
       "      <td>0.000</td>\n",
       "    </tr>\n",
       "  </tbody>\n",
       "</table>\n",
       "</div>"
      ],
      "text/plain": [
       "                    Null values  Total Values  Percent\n",
       "Column                                                \n",
       "yr_released                   0         25987    0.000\n",
       "report_year                   0         25987    0.000\n",
       "race_ethnicity                0         25987    0.000\n",
       "age_released                  0         25987    0.000\n",
       "crime_class                   0         25987    0.000\n",
       "crime_type                    0         25987    0.000\n",
       "crime_subtype                 0         25987    0.000\n",
       "release_type                  0         25987    0.000\n",
       "super_dist                    0         25987    0.000\n",
       "recidivist                    0         25987    0.000\n",
       "target_pop                    0         25987    0.000\n",
       "sex                           0         25987    0.000\n",
       "race_ethnicity_map            2         25987    0.008\n",
       "crime_class_map              20         25987    0.077\n",
       "release_type_map              0         25987    0.000\n",
       "recidivist_map                0         25987    0.000\n",
       "target_pop_map                0         25987    0.000\n",
       "sex_map                       0         25987    0.000"
      ]
     },
     "metadata": {},
     "output_type": "display_data"
    }
   ],
   "source": [
    "check_null(df)"
   ]
  },
  {
   "cell_type": "code",
   "execution_count": 34,
   "metadata": {},
   "outputs": [],
   "source": [
    "df.dropna(inplace=True)"
   ]
  },
  {
   "cell_type": "markdown",
   "metadata": {},
   "source": [
    "## Notes on How to Treat/Encoding Classes\n",
    "- Numeric:\n",
    "    - yr_release\n",
    "    - recid_report_yr\n",
    "- Ordinal:\n",
    "    - [ ] age_at_release should be an ordinal label.\n",
    "- All others should be LabelEncoded\n",
    "    - [ ] crime_class_map\n",
    "    - [ ] race_ethnicity_map\n",
    "    - [ ] crime_type\n",
    "    - [ ] crime_subtype\n",
    "    - [ ] super_district\n",
    "    - [ ] release_type_map\n",
    "    - [x] target_pop_map\n",
    "    - [x] sex_map\n",
    "    - [x] recidivism_map\n",
    "    "
   ]
  },
  {
   "cell_type": "markdown",
   "metadata": {},
   "source": [
    "### Lists of Vars to encode"
   ]
  },
  {
   "cell_type": "code",
   "execution_count": 35,
   "metadata": {},
   "outputs": [],
   "source": [
    "# Defining lists to use later.\n",
    "vars_label_encode = ['race_ethnicity_map','crime_class_map','crime_type', 'crime_subtype', 'super_dist', 'release_type_map'] #, 'age_released']"
   ]
  },
  {
   "cell_type": "markdown",
   "metadata": {},
   "source": [
    "### Encoding age_at_release by mapping"
   ]
  },
  {
   "cell_type": "code",
   "execution_count": 36,
   "metadata": {},
   "outputs": [
    {
     "data": {
      "text/plain": [
       "{'Under 25': 0, '25-34': 1, '35-44': 2, '45-54': 3, '55 and Older': 4}"
      ]
     },
     "execution_count": 36,
     "metadata": {},
     "output_type": "execute_result"
    }
   ],
   "source": [
    "# Ordering age categories in a tuple and then turning into an array.\n",
    "age_ranges = ('Under 25','25-34', '35-44','45-54','55 and Older')\n",
    "age_codes = (0,1,2,3,4)\n",
    "# Zipping into Dictionary to Map onto Column\n",
    "age_map = dict(zip(age_ranges,age_codes))\n",
    "age_map"
   ]
  },
  {
   "cell_type": "code",
   "execution_count": 37,
   "metadata": {},
   "outputs": [
    {
     "data": {
      "text/plain": [
       "1    9540\n",
       "2    6212\n",
       "0    4584\n",
       "3    4336\n",
       "4    1293\n",
       "Name: age_released_map, dtype: int64"
      ]
     },
     "execution_count": 37,
     "metadata": {},
     "output_type": "execute_result"
    }
   ],
   "source": [
    "df['age_released_map'] = df['age_released'].map(age_map)\n",
    "df['age_released_map'].value_counts()"
   ]
  },
  {
   "cell_type": "code",
   "execution_count": 38,
   "metadata": {},
   "outputs": [
    {
     "name": "stdout",
     "output_type": "stream",
     "text": [
      "<class 'pandas.core.frame.DataFrame'>\n",
      "Int64Index: 25965 entries, 0 to 26019\n",
      "Data columns (total 19 columns):\n",
      "yr_released           25965 non-null int64\n",
      "report_year           25965 non-null int64\n",
      "race_ethnicity        25965 non-null object\n",
      "age_released          25965 non-null object\n",
      "crime_class           25965 non-null object\n",
      "crime_type            25965 non-null object\n",
      "crime_subtype         25965 non-null object\n",
      "release_type          25965 non-null object\n",
      "super_dist            25965 non-null object\n",
      "recidivist            25965 non-null object\n",
      "target_pop            25965 non-null object\n",
      "sex                   25965 non-null object\n",
      "race_ethnicity_map    25965 non-null object\n",
      "crime_class_map       25965 non-null object\n",
      "release_type_map      25965 non-null object\n",
      "recidivist_map        25965 non-null int64\n",
      "target_pop_map        25965 non-null int64\n",
      "sex_map               25965 non-null int64\n",
      "age_released_map      25965 non-null int64\n",
      "dtypes: int64(6), object(13)\n",
      "memory usage: 4.0+ MB\n"
     ]
    }
   ],
   "source": [
    "df.info()"
   ]
  },
  {
   "cell_type": "markdown",
   "metadata": {},
   "source": [
    "### Save full df with original and remapped before dropping original."
   ]
  },
  {
   "cell_type": "code",
   "execution_count": 39,
   "metadata": {},
   "outputs": [],
   "source": [
    "# saving mapped data\n",
    "# df.to_csv('recidivism_remapped_classes.csv')\n"
   ]
  },
  {
   "cell_type": "code",
   "execution_count": 40,
   "metadata": {},
   "outputs": [
    {
     "name": "stdout",
     "output_type": "stream",
     "text": [
      "<class 'pandas.core.frame.DataFrame'>\n",
      "Int64Index: 25965 entries, 0 to 26019\n",
      "Data columns (total 12 columns):\n",
      "yr_released           25965 non-null int64\n",
      "report_year           25965 non-null int64\n",
      "crime_type            25965 non-null object\n",
      "crime_subtype         25965 non-null object\n",
      "super_dist            25965 non-null object\n",
      "race_ethnicity_map    25965 non-null object\n",
      "crime_class_map       25965 non-null object\n",
      "release_type_map      25965 non-null object\n",
      "recidivist_map        25965 non-null int64\n",
      "target_pop_map        25965 non-null int64\n",
      "sex_map               25965 non-null int64\n",
      "age_released_map      25965 non-null int64\n",
      "dtypes: int64(6), object(6)\n",
      "memory usage: 2.6+ MB\n"
     ]
    }
   ],
   "source": [
    "vars_to_drop = ['crime_class','race_ethnicity','release_type','recidivist','target_pop','sex','age_released']\n",
    "for x in vars_to_drop:\n",
    "    df.drop(x,axis=1,inplace=True)\n",
    "df.info()"
   ]
  },
  {
   "cell_type": "code",
   "execution_count": 41,
   "metadata": {},
   "outputs": [],
   "source": [
    "# df.to_csv('df_remapped_origs_dropped.csv')"
   ]
  },
  {
   "cell_type": "code",
   "execution_count": null,
   "metadata": {},
   "outputs": [],
   "source": []
  },
  {
   "cell_type": "markdown",
   "metadata": {},
   "source": [
    "# Re-inspecting dataframe prior to EDA\n",
    "~~Converting categorical variables to category type before encoding~~\n"
   ]
  },
  {
   "cell_type": "code",
   "execution_count": 42,
   "metadata": {},
   "outputs": [
    {
     "name": "stdout",
     "output_type": "stream",
     "text": [
      "<class 'pandas.core.frame.DataFrame'>\n",
      "Int64Index: 25965 entries, 0 to 26019\n",
      "Data columns (total 12 columns):\n",
      "yr_released           25965 non-null int64\n",
      "report_year           25965 non-null int64\n",
      "crime_type            25965 non-null object\n",
      "crime_subtype         25965 non-null object\n",
      "super_dist            25965 non-null object\n",
      "race_ethnicity_map    25965 non-null object\n",
      "crime_class_map       25965 non-null object\n",
      "release_type_map      25965 non-null object\n",
      "recidivist_map        25965 non-null int64\n",
      "target_pop_map        25965 non-null int64\n",
      "sex_map               25965 non-null int64\n",
      "age_released_map      25965 non-null int64\n",
      "dtypes: int64(6), object(6)\n",
      "memory usage: 2.6+ MB\n"
     ]
    },
    {
     "data": {
      "text/plain": [
       "None"
      ]
     },
     "metadata": {},
     "output_type": "display_data"
    },
    {
     "data": {
      "text/html": [
       "<div>\n",
       "<style scoped>\n",
       "    .dataframe tbody tr th:only-of-type {\n",
       "        vertical-align: middle;\n",
       "    }\n",
       "\n",
       "    .dataframe tbody tr th {\n",
       "        vertical-align: top;\n",
       "    }\n",
       "\n",
       "    .dataframe thead th {\n",
       "        text-align: right;\n",
       "    }\n",
       "</style>\n",
       "<table border=\"1\" class=\"dataframe\">\n",
       "  <thead>\n",
       "    <tr style=\"text-align: right;\">\n",
       "      <th></th>\n",
       "      <th>yr_released</th>\n",
       "      <th>report_year</th>\n",
       "      <th>recidivist_map</th>\n",
       "      <th>target_pop_map</th>\n",
       "      <th>sex_map</th>\n",
       "      <th>age_released_map</th>\n",
       "    </tr>\n",
       "  </thead>\n",
       "  <tbody>\n",
       "    <tr>\n",
       "      <th>count</th>\n",
       "      <td>25965.0000</td>\n",
       "      <td>25965.0000</td>\n",
       "      <td>25965.0000</td>\n",
       "      <td>25965.0000</td>\n",
       "      <td>25965.0000</td>\n",
       "      <td>25965.0000</td>\n",
       "    </tr>\n",
       "    <tr>\n",
       "      <th>mean</th>\n",
       "      <td>2012.6013</td>\n",
       "      <td>2015.6013</td>\n",
       "      <td>0.3341</td>\n",
       "      <td>0.5495</td>\n",
       "      <td>0.1284</td>\n",
       "      <td>1.5461</td>\n",
       "    </tr>\n",
       "    <tr>\n",
       "      <th>std</th>\n",
       "      <td>1.6619</td>\n",
       "      <td>1.6619</td>\n",
       "      <td>0.4717</td>\n",
       "      <td>0.4976</td>\n",
       "      <td>0.3346</td>\n",
       "      <td>1.1108</td>\n",
       "    </tr>\n",
       "    <tr>\n",
       "      <th>min</th>\n",
       "      <td>2010.0000</td>\n",
       "      <td>2013.0000</td>\n",
       "      <td>0.0000</td>\n",
       "      <td>0.0000</td>\n",
       "      <td>0.0000</td>\n",
       "      <td>0.0000</td>\n",
       "    </tr>\n",
       "    <tr>\n",
       "      <th>25%</th>\n",
       "      <td>2011.0000</td>\n",
       "      <td>2014.0000</td>\n",
       "      <td>0.0000</td>\n",
       "      <td>0.0000</td>\n",
       "      <td>0.0000</td>\n",
       "      <td>1.0000</td>\n",
       "    </tr>\n",
       "    <tr>\n",
       "      <th>50%</th>\n",
       "      <td>2013.0000</td>\n",
       "      <td>2016.0000</td>\n",
       "      <td>0.0000</td>\n",
       "      <td>1.0000</td>\n",
       "      <td>0.0000</td>\n",
       "      <td>1.0000</td>\n",
       "    </tr>\n",
       "    <tr>\n",
       "      <th>75%</th>\n",
       "      <td>2014.0000</td>\n",
       "      <td>2017.0000</td>\n",
       "      <td>1.0000</td>\n",
       "      <td>1.0000</td>\n",
       "      <td>0.0000</td>\n",
       "      <td>2.0000</td>\n",
       "    </tr>\n",
       "    <tr>\n",
       "      <th>max</th>\n",
       "      <td>2015.0000</td>\n",
       "      <td>2018.0000</td>\n",
       "      <td>1.0000</td>\n",
       "      <td>1.0000</td>\n",
       "      <td>1.0000</td>\n",
       "      <td>4.0000</td>\n",
       "    </tr>\n",
       "  </tbody>\n",
       "</table>\n",
       "</div>"
      ],
      "text/plain": [
       "       yr_released  report_year  recidivist_map  target_pop_map     sex_map  age_released_map\n",
       "count   25965.0000   25965.0000      25965.0000      25965.0000  25965.0000        25965.0000\n",
       "mean     2012.6013    2015.6013          0.3341          0.5495      0.1284            1.5461\n",
       "std         1.6619       1.6619          0.4717          0.4976      0.3346            1.1108\n",
       "min      2010.0000    2013.0000          0.0000          0.0000      0.0000            0.0000\n",
       "25%      2011.0000    2014.0000          0.0000          0.0000      0.0000            1.0000\n",
       "50%      2013.0000    2016.0000          0.0000          1.0000      0.0000            1.0000\n",
       "75%      2014.0000    2017.0000          1.0000          1.0000      0.0000            2.0000\n",
       "max      2015.0000    2018.0000          1.0000          1.0000      1.0000            4.0000"
      ]
     },
     "metadata": {},
     "output_type": "display_data"
    },
    {
     "name": "stdout",
     "output_type": "stream",
     "text": [
      "\n",
      "---------------------------------------------------\n",
      "\n",
      "# of Identified Numeric Values in \"Object\" columns:\n",
      "\n"
     ]
    },
    {
     "data": {
      "text/html": [
       "<div>\n",
       "<style scoped>\n",
       "    .dataframe tbody tr th:only-of-type {\n",
       "        vertical-align: middle;\n",
       "    }\n",
       "\n",
       "    .dataframe tbody tr th {\n",
       "        vertical-align: top;\n",
       "    }\n",
       "\n",
       "    .dataframe thead th {\n",
       "        text-align: right;\n",
       "    }\n",
       "</style>\n",
       "<table border=\"1\" class=\"dataframe\">\n",
       "  <thead>\n",
       "    <tr style=\"text-align: right;\">\n",
       "      <th></th>\n",
       "      <th>Numeric values</th>\n",
       "      <th>Total Values</th>\n",
       "      <th>Percent</th>\n",
       "    </tr>\n",
       "    <tr>\n",
       "      <th>Column</th>\n",
       "      <th></th>\n",
       "      <th></th>\n",
       "      <th></th>\n",
       "    </tr>\n",
       "  </thead>\n",
       "  <tbody>\n",
       "  </tbody>\n",
       "</table>\n",
       "</div>"
      ],
      "text/plain": [
       "Empty DataFrame\n",
       "Columns: [Numeric values, Total Values, Percent]\n",
       "Index: []"
      ]
     },
     "metadata": {},
     "output_type": "display_data"
    },
    {
     "name": "stdout",
     "output_type": "stream",
     "text": [
      "\n",
      "----------------------------\n",
      "\n",
      "# of Identified Null Values:\n",
      "\n"
     ]
    },
    {
     "data": {
      "text/html": [
       "<div>\n",
       "<style scoped>\n",
       "    .dataframe tbody tr th:only-of-type {\n",
       "        vertical-align: middle;\n",
       "    }\n",
       "\n",
       "    .dataframe tbody tr th {\n",
       "        vertical-align: top;\n",
       "    }\n",
       "\n",
       "    .dataframe thead th {\n",
       "        text-align: right;\n",
       "    }\n",
       "</style>\n",
       "<table border=\"1\" class=\"dataframe\">\n",
       "  <thead>\n",
       "    <tr style=\"text-align: right;\">\n",
       "      <th></th>\n",
       "      <th>Null values</th>\n",
       "      <th>Total Values</th>\n",
       "      <th>Percent</th>\n",
       "    </tr>\n",
       "    <tr>\n",
       "      <th>Column</th>\n",
       "      <th></th>\n",
       "      <th></th>\n",
       "      <th></th>\n",
       "    </tr>\n",
       "  </thead>\n",
       "  <tbody>\n",
       "    <tr>\n",
       "      <th>yr_released</th>\n",
       "      <td>0</td>\n",
       "      <td>25965</td>\n",
       "      <td>0.0</td>\n",
       "    </tr>\n",
       "    <tr>\n",
       "      <th>report_year</th>\n",
       "      <td>0</td>\n",
       "      <td>25965</td>\n",
       "      <td>0.0</td>\n",
       "    </tr>\n",
       "    <tr>\n",
       "      <th>crime_type</th>\n",
       "      <td>0</td>\n",
       "      <td>25965</td>\n",
       "      <td>0.0</td>\n",
       "    </tr>\n",
       "    <tr>\n",
       "      <th>crime_subtype</th>\n",
       "      <td>0</td>\n",
       "      <td>25965</td>\n",
       "      <td>0.0</td>\n",
       "    </tr>\n",
       "    <tr>\n",
       "      <th>super_dist</th>\n",
       "      <td>0</td>\n",
       "      <td>25965</td>\n",
       "      <td>0.0</td>\n",
       "    </tr>\n",
       "    <tr>\n",
       "      <th>race_ethnicity_map</th>\n",
       "      <td>0</td>\n",
       "      <td>25965</td>\n",
       "      <td>0.0</td>\n",
       "    </tr>\n",
       "    <tr>\n",
       "      <th>crime_class_map</th>\n",
       "      <td>0</td>\n",
       "      <td>25965</td>\n",
       "      <td>0.0</td>\n",
       "    </tr>\n",
       "    <tr>\n",
       "      <th>release_type_map</th>\n",
       "      <td>0</td>\n",
       "      <td>25965</td>\n",
       "      <td>0.0</td>\n",
       "    </tr>\n",
       "    <tr>\n",
       "      <th>recidivist_map</th>\n",
       "      <td>0</td>\n",
       "      <td>25965</td>\n",
       "      <td>0.0</td>\n",
       "    </tr>\n",
       "    <tr>\n",
       "      <th>target_pop_map</th>\n",
       "      <td>0</td>\n",
       "      <td>25965</td>\n",
       "      <td>0.0</td>\n",
       "    </tr>\n",
       "    <tr>\n",
       "      <th>sex_map</th>\n",
       "      <td>0</td>\n",
       "      <td>25965</td>\n",
       "      <td>0.0</td>\n",
       "    </tr>\n",
       "    <tr>\n",
       "      <th>age_released_map</th>\n",
       "      <td>0</td>\n",
       "      <td>25965</td>\n",
       "      <td>0.0</td>\n",
       "    </tr>\n",
       "  </tbody>\n",
       "</table>\n",
       "</div>"
      ],
      "text/plain": [
       "                    Null values  Total Values  Percent\n",
       "Column                                                \n",
       "yr_released                   0         25965      0.0\n",
       "report_year                   0         25965      0.0\n",
       "crime_type                    0         25965      0.0\n",
       "crime_subtype                 0         25965      0.0\n",
       "super_dist                    0         25965      0.0\n",
       "race_ethnicity_map            0         25965      0.0\n",
       "crime_class_map               0         25965      0.0\n",
       "release_type_map              0         25965      0.0\n",
       "recidivist_map                0         25965      0.0\n",
       "target_pop_map                0         25965      0.0\n",
       "sex_map                       0         25965      0.0\n",
       "age_released_map              0         25965      0.0"
      ]
     },
     "metadata": {},
     "output_type": "display_data"
    },
    {
     "data": {
      "text/html": [
       "<div>\n",
       "<style scoped>\n",
       "    .dataframe tbody tr th:only-of-type {\n",
       "        vertical-align: middle;\n",
       "    }\n",
       "\n",
       "    .dataframe tbody tr th {\n",
       "        vertical-align: top;\n",
       "    }\n",
       "\n",
       "    .dataframe thead th {\n",
       "        text-align: right;\n",
       "    }\n",
       "</style>\n",
       "<table border=\"1\" class=\"dataframe\">\n",
       "  <thead>\n",
       "    <tr style=\"text-align: right;\">\n",
       "      <th></th>\n",
       "      <th>yr_released</th>\n",
       "      <th>report_year</th>\n",
       "      <th>crime_type</th>\n",
       "      <th>crime_subtype</th>\n",
       "      <th>super_dist</th>\n",
       "      <th>race_ethnicity_map</th>\n",
       "      <th>crime_class_map</th>\n",
       "      <th>release_type_map</th>\n",
       "      <th>recidivist_map</th>\n",
       "      <th>target_pop_map</th>\n",
       "      <th>sex_map</th>\n",
       "      <th>age_released_map</th>\n",
       "    </tr>\n",
       "  </thead>\n",
       "  <tbody>\n",
       "    <tr>\n",
       "      <th>0</th>\n",
       "      <td>2010</td>\n",
       "      <td>2013</td>\n",
       "      <td>Violent</td>\n",
       "      <td>Robbery</td>\n",
       "      <td>7JD</td>\n",
       "      <td>Black</td>\n",
       "      <td>C Felony</td>\n",
       "      <td>Paroled</td>\n",
       "      <td>1</td>\n",
       "      <td>1</td>\n",
       "      <td>0</td>\n",
       "      <td>1</td>\n",
       "    </tr>\n",
       "    <tr>\n",
       "      <th>1</th>\n",
       "      <td>2010</td>\n",
       "      <td>2013</td>\n",
       "      <td>Property</td>\n",
       "      <td>Theft</td>\n",
       "      <td>unknown</td>\n",
       "      <td>White</td>\n",
       "      <td>D Felony</td>\n",
       "      <td>Discharged - End of Sentence</td>\n",
       "      <td>1</td>\n",
       "      <td>0</td>\n",
       "      <td>0</td>\n",
       "      <td>1</td>\n",
       "    </tr>\n",
       "    <tr>\n",
       "      <th>2</th>\n",
       "      <td>2010</td>\n",
       "      <td>2013</td>\n",
       "      <td>Drug</td>\n",
       "      <td>Trafficking</td>\n",
       "      <td>5JD</td>\n",
       "      <td>White</td>\n",
       "      <td>B Felony</td>\n",
       "      <td>Paroled</td>\n",
       "      <td>1</td>\n",
       "      <td>1</td>\n",
       "      <td>0</td>\n",
       "      <td>2</td>\n",
       "    </tr>\n",
       "  </tbody>\n",
       "</table>\n",
       "</div>"
      ],
      "text/plain": [
       "   yr_released  report_year crime_type crime_subtype super_dist race_ethnicity_map crime_class_map              release_type_map  recidivist_map  target_pop_map  sex_map  age_released_map\n",
       "0         2010         2013    Violent       Robbery        7JD              Black        C Felony                       Paroled               1               1        0                 1\n",
       "1         2010         2013   Property         Theft    unknown              White        D Felony  Discharged - End of Sentence               1               0        0                 1\n",
       "2         2010         2013       Drug   Trafficking        5JD              White        B Felony                       Paroled               1               1        0                 2"
      ]
     },
     "metadata": {},
     "output_type": "display_data"
    }
   ],
   "source": [
    "inspect_df(df)"
   ]
  },
  {
   "cell_type": "code",
   "execution_count": 43,
   "metadata": {},
   "outputs": [],
   "source": [
    "# for col in df.dtype=='object':\n",
    "#     df[col] = df[col].astype('category')\n",
    "# df.info()"
   ]
  },
  {
   "cell_type": "markdown",
   "metadata": {},
   "source": [
    "### Encoding categorical columns using LabelLibrary()\n"
   ]
  },
  {
   "cell_type": "code",
   "execution_count": 44,
   "metadata": {},
   "outputs": [
    {
     "data": {
      "text/plain": [
       "yr_released            int64\n",
       "report_year            int64\n",
       "crime_type            object\n",
       "crime_subtype         object\n",
       "super_dist            object\n",
       "race_ethnicity_map    object\n",
       "crime_class_map       object\n",
       "release_type_map      object\n",
       "recidivist_map         int64\n",
       "target_pop_map         int64\n",
       "sex_map                int64\n",
       "age_released_map       int64\n",
       "dtype: object"
      ]
     },
     "execution_count": 44,
     "metadata": {},
     "output_type": "execute_result"
    }
   ],
   "source": [
    "df.dtypes"
   ]
  },
  {
   "cell_type": "code",
   "execution_count": 45,
   "metadata": {},
   "outputs": [],
   "source": [
    "vars_label_encode = ['race_ethnicity_map', 'crime_class_map', 'crime_type', 'crime_subtype', 'super_dist', 'release_type_map']"
   ]
  },
  {
   "cell_type": "code",
   "execution_count": 46,
   "metadata": {},
   "outputs": [
    {
     "data": {
      "text/html": [
       "<div>\n",
       "<style scoped>\n",
       "    .dataframe tbody tr th:only-of-type {\n",
       "        vertical-align: middle;\n",
       "    }\n",
       "\n",
       "    .dataframe tbody tr th {\n",
       "        vertical-align: top;\n",
       "    }\n",
       "\n",
       "    .dataframe thead th {\n",
       "        text-align: right;\n",
       "    }\n",
       "</style>\n",
       "<table border=\"1\" class=\"dataframe\">\n",
       "  <thead>\n",
       "    <tr style=\"text-align: right;\">\n",
       "      <th></th>\n",
       "      <th>yr_released</th>\n",
       "      <th>report_year</th>\n",
       "      <th>crime_type</th>\n",
       "      <th>crime_subtype</th>\n",
       "      <th>super_dist</th>\n",
       "      <th>race_ethnicity_map</th>\n",
       "      <th>crime_class_map</th>\n",
       "      <th>release_type_map</th>\n",
       "      <th>recidivist_map</th>\n",
       "      <th>target_pop_map</th>\n",
       "      <th>sex_map</th>\n",
       "      <th>age_released_map</th>\n",
       "    </tr>\n",
       "  </thead>\n",
       "  <tbody>\n",
       "    <tr>\n",
       "      <th>0</th>\n",
       "      <td>2010</td>\n",
       "      <td>2013</td>\n",
       "      <td>4</td>\n",
       "      <td>16</td>\n",
       "      <td>6</td>\n",
       "      <td>2</td>\n",
       "      <td>3</td>\n",
       "      <td>2</td>\n",
       "      <td>1</td>\n",
       "      <td>1</td>\n",
       "      <td>0</td>\n",
       "      <td>1</td>\n",
       "    </tr>\n",
       "    <tr>\n",
       "      <th>1</th>\n",
       "      <td>2010</td>\n",
       "      <td>2013</td>\n",
       "      <td>2</td>\n",
       "      <td>21</td>\n",
       "      <td>10</td>\n",
       "      <td>4</td>\n",
       "      <td>4</td>\n",
       "      <td>0</td>\n",
       "      <td>1</td>\n",
       "      <td>0</td>\n",
       "      <td>0</td>\n",
       "      <td>1</td>\n",
       "    </tr>\n",
       "    <tr>\n",
       "      <th>2</th>\n",
       "      <td>2010</td>\n",
       "      <td>2013</td>\n",
       "      <td>0</td>\n",
       "      <td>23</td>\n",
       "      <td>4</td>\n",
       "      <td>4</td>\n",
       "      <td>2</td>\n",
       "      <td>2</td>\n",
       "      <td>1</td>\n",
       "      <td>1</td>\n",
       "      <td>0</td>\n",
       "      <td>2</td>\n",
       "    </tr>\n",
       "    <tr>\n",
       "      <th>3</th>\n",
       "      <td>2010</td>\n",
       "      <td>2013</td>\n",
       "      <td>1</td>\n",
       "      <td>11</td>\n",
       "      <td>5</td>\n",
       "      <td>4</td>\n",
       "      <td>2</td>\n",
       "      <td>2</td>\n",
       "      <td>0</td>\n",
       "      <td>1</td>\n",
       "      <td>0</td>\n",
       "      <td>1</td>\n",
       "    </tr>\n",
       "    <tr>\n",
       "      <th>4</th>\n",
       "      <td>2010</td>\n",
       "      <td>2013</td>\n",
       "      <td>4</td>\n",
       "      <td>3</td>\n",
       "      <td>10</td>\n",
       "      <td>2</td>\n",
       "      <td>4</td>\n",
       "      <td>0</td>\n",
       "      <td>1</td>\n",
       "      <td>0</td>\n",
       "      <td>0</td>\n",
       "      <td>2</td>\n",
       "    </tr>\n",
       "  </tbody>\n",
       "</table>\n",
       "</div>"
      ],
      "text/plain": [
       "   yr_released  report_year  crime_type  crime_subtype  super_dist  race_ethnicity_map  crime_class_map  release_type_map  recidivist_map  target_pop_map  sex_map  age_released_map\n",
       "0         2010         2013           4             16           6                   2                3                 2               1               1        0                 1\n",
       "1         2010         2013           2             21          10                   4                4                 0               1               0        0                 1\n",
       "2         2010         2013           0             23           4                   4                2                 2               1               1        0                 2\n",
       "3         2010         2013           1             11           5                   4                2                 2               0               1        0                 1\n",
       "4         2010         2013           4              3          10                   2                4                 0               1               0        0                 2"
      ]
     },
     "execution_count": 46,
     "metadata": {},
     "output_type": "execute_result"
    }
   ],
   "source": [
    "from bs_ds.bamboo import LabelLibrary\n",
    "lablib = LabelLibrary()\n",
    "df_code = lablib.fit_transform(df,vars_label_encode)\n",
    "\n",
    "df_code.head()"
   ]
  },
  {
   "cell_type": "markdown",
   "metadata": {},
   "source": [
    "# EDA"
   ]
  },
  {
   "cell_type": "code",
   "execution_count": 47,
   "metadata": {},
   "outputs": [
    {
     "name": "stdout",
     "output_type": "stream",
     "text": [
      "<class 'pandas.core.frame.DataFrame'>\n",
      "Int64Index: 25965 entries, 0 to 26019\n",
      "Data columns (total 12 columns):\n",
      "yr_released           25965 non-null int64\n",
      "report_year           25965 non-null int64\n",
      "crime_type            25965 non-null int32\n",
      "crime_subtype         25965 non-null int32\n",
      "super_dist            25965 non-null int32\n",
      "race_ethnicity_map    25965 non-null int32\n",
      "crime_class_map       25965 non-null int32\n",
      "release_type_map      25965 non-null int32\n",
      "recidivist_map        25965 non-null int64\n",
      "target_pop_map        25965 non-null int64\n",
      "sex_map               25965 non-null int64\n",
      "age_released_map      25965 non-null int64\n",
      "dtypes: int32(6), int64(6)\n",
      "memory usage: 2.0 MB\n"
     ]
    }
   ],
   "source": [
    "df_code.info()"
   ]
  },
  {
   "cell_type": "code",
   "execution_count": 48,
   "metadata": {
    "scrolled": true
   },
   "outputs": [
    {
     "data": {
      "text/plain": [
       "(<Figure size 864x648 with 2 Axes>,\n",
       " array([[<matplotlib.axes._subplots.AxesSubplot object at 0x0000021D83C6D470>,\n",
       "         <matplotlib.axes._subplots.AxesSubplot object at 0x0000021D845729B0>],\n",
       "        [<matplotlib.axes._subplots.AxesSubplot object at 0x0000021D83F8BF28>,\n",
       "         <matplotlib.axes._subplots.AxesSubplot object at 0x0000021D87BC34E0>]],\n",
       "       dtype=object))"
      ]
     },
     "execution_count": 48,
     "metadata": {},
     "output_type": "execute_result"
    },
    {
     "data": {
      "image/png": "[encoded data removed]",
      "text/plain": [
       "<Figure size 864x648 with 2 Axes>"
      ]
     },
     "metadata": {},
     "output_type": "display_data"
    },
    {
     "data": {
      "image/png": "[encoded data removed]",
      "text/plain": [
       "<Figure size 864x648 with 2 Axes>"
      ]
     },
     "metadata": {},
     "output_type": "display_data"
    },
    {
     "data": {
      "image/png": "[encoded data removed]",
      "text/plain": [
       "<Figure size 864x648 with 2 Axes>"
      ]
     },
     "metadata": {},
     "output_type": "display_data"
    },
    {
     "data": {
      "image/png": "[encoded data removed]",
      "text/plain": [
       "<Figure size 864x648 with 2 Axes>"
      ]
     },
     "metadata": {},
     "output_type": "display_data"
    },
    {
     "data": {
      "image/png": "[encoded data removed]",
      "text/plain": [
       "<Figure size 864x648 with 2 Axes>"
      ]
     },
     "metadata": {},
     "output_type": "display_data"
    },
    {
     "data": {
      "image/png": "[encoded data removed]",
      "text/plain": [
       "<Figure size 864x648 with 2 Axes>"
      ]
     },
     "metadata": {},
     "output_type": "display_data"
    },
    {
     "data": {
      "image/png": "[encoded data removed]",
      "text/plain": [
       "<Figure size 864x648 with 2 Axes>"
      ]
     },
     "metadata": {},
     "output_type": "display_data"
    },
    {
     "data": {
      "image/png": "[encoded data removed]",
      "text/plain": [
       "<Figure size 864x648 with 2 Axes>"
      ]
     },
     "metadata": {},
     "output_type": "display_data"
    },
    {
     "data": {
      "image/png": "[encoded data removed]",
      "text/plain": [
       "<Figure size 864x648 with 2 Axes>"
      ]
     },
     "metadata": {},
     "output_type": "display_data"
    },
    {
     "data": {
      "image/png": "[encoded data removed]",
      "text/plain": [
       "<Figure size 864x648 with 2 Axes>"
      ]
     },
     "metadata": {},
     "output_type": "display_data"
    },
    {
     "data": {
      "image/png": "[encoded data removed]",
      "text/plain": [
       "<Figure size 864x648 with 2 Axes>"
      ]
     },
     "metadata": {},
     "output_type": "display_data"
    },
    {
     "data": {
      "image/png": "[encoded data removed]",
      "text/plain": [
       "<Figure size 864x648 with 2 Axes>"
      ]
     },
     "metadata": {},
     "output_type": "display_data"
    }
   ],
   "source": [
    "from bs_ds.bamboo import plot_hist_scat\n",
    "plot_hist_scat(df_code,'recidivist_map')"
   ]
  },
  {
   "cell_type": "code",
   "execution_count": 49,
   "metadata": {
    "scrolled": false
   },
   "outputs": [
    {
     "data": {
      "text/plain": [
       "(<Figure size 1152x1152 with 2 Axes>,\n",
       " <matplotlib.axes._subplots.AxesSubplot at 0x21d87f86d30>)"
      ]
     },
     "execution_count": 49,
     "metadata": {},
     "output_type": "execute_result"
    },
    {
     "data": {
      "image/png": "[encoded data removed]",
      "text/plain": [
       "<Figure size 1152x1152 with 2 Axes>"
      ]
     },
     "metadata": {},
     "output_type": "display_data"
    }
   ],
   "source": [
    "from bs_ds.bamboo import multiplot\n",
    "multiplot(df_code)"
   ]
  },
  {
   "cell_type": "markdown",
   "metadata": {},
   "source": [
    "## Comments on Data "
   ]
  },
  {
   "cell_type": "markdown",
   "metadata": {},
   "source": [
    "- Everything looks good to go with the possible exception of recivisidm_year. \n",
    "- Keeping for now. "
   ]
  },
  {
   "cell_type": "markdown",
   "metadata": {},
   "source": [
    "# Preprocessing for Modeling"
   ]
  },
  {
   "cell_type": "code",
   "execution_count": 50,
   "metadata": {},
   "outputs": [],
   "source": [
    "X = pd.get_dummies(df.drop('recidivist_map',axis=1),drop_first=True)\n",
    "y = df.recidivist_map"
   ]
  },
  {
   "cell_type": "code",
   "execution_count": 51,
   "metadata": {},
   "outputs": [
    {
     "name": "stdout",
     "output_type": "stream",
     "text": [
      "<class 'pandas.core.frame.DataFrame'>\n",
      "Int64Index: 25965 entries, 0 to 26019\n",
      "Data columns (total 62 columns):\n",
      "yr_released                                                 25965 non-null int64\n",
      "report_year                                                 25965 non-null int64\n",
      "target_pop_map                                              25965 non-null int64\n",
      "sex_map                                                     25965 non-null int64\n",
      "age_released_map                                            25965 non-null int64\n",
      "crime_type_Other                                            25965 non-null uint8\n",
      "crime_type_Property                                         25965 non-null uint8\n",
      "crime_type_Public Order                                     25965 non-null uint8\n",
      "crime_type_Violent                                          25965 non-null uint8\n",
      "crime_subtype_Animals                                       25965 non-null uint8\n",
      "crime_subtype_Arson                                         25965 non-null uint8\n",
      "crime_subtype_Assault                                       25965 non-null uint8\n",
      "crime_subtype_Burglary                                      25965 non-null uint8\n",
      "crime_subtype_Drug Possession                               25965 non-null uint8\n",
      "crime_subtype_Flight/Escape                                 25965 non-null uint8\n",
      "crime_subtype_Forgery/Fraud                                 25965 non-null uint8\n",
      "crime_subtype_Kidnap                                        25965 non-null uint8\n",
      "crime_subtype_Murder/Manslaughter                           25965 non-null uint8\n",
      "crime_subtype_OWI                                           25965 non-null uint8\n",
      "crime_subtype_Other Criminal                                25965 non-null uint8\n",
      "crime_subtype_Other Drug                                    25965 non-null uint8\n",
      "crime_subtype_Other Public Order                            25965 non-null uint8\n",
      "crime_subtype_Other Violent                                 25965 non-null uint8\n",
      "crime_subtype_Prostitution/Pimping                          25965 non-null uint8\n",
      "crime_subtype_Robbery                                       25965 non-null uint8\n",
      "crime_subtype_Sex                                           25965 non-null uint8\n",
      "crime_subtype_Sex Offender Registry/Residency               25965 non-null uint8\n",
      "crime_subtype_Special Sentence Revocation                   25965 non-null uint8\n",
      "crime_subtype_Stolen Property                               25965 non-null uint8\n",
      "crime_subtype_Theft                                         25965 non-null uint8\n",
      "crime_subtype_Traffic                                       25965 non-null uint8\n",
      "crime_subtype_Trafficking                                   25965 non-null uint8\n",
      "crime_subtype_Vandalism                                     25965 non-null uint8\n",
      "crime_subtype_Weapons                                       25965 non-null uint8\n",
      "super_dist_2JD                                              25965 non-null uint8\n",
      "super_dist_3JD                                              25965 non-null uint8\n",
      "super_dist_4JD                                              25965 non-null uint8\n",
      "super_dist_5JD                                              25965 non-null uint8\n",
      "super_dist_6JD                                              25965 non-null uint8\n",
      "super_dist_7JD                                              25965 non-null uint8\n",
      "super_dist_8JD                                              25965 non-null uint8\n",
      "super_dist_ISC                                              25965 non-null uint8\n",
      "super_dist_Interstate Compact                               25965 non-null uint8\n",
      "super_dist_unknown                                          25965 non-null uint8\n",
      "race_ethnicity_map_Asian or Pacific Islander                25965 non-null uint8\n",
      "race_ethnicity_map_Black                                    25965 non-null uint8\n",
      "race_ethnicity_map_Hispanic                                 25965 non-null uint8\n",
      "race_ethnicity_map_White                                    25965 non-null uint8\n",
      "crime_class_map_Aggravated Misdemeanor                      25965 non-null uint8\n",
      "crime_class_map_B Felony                                    25965 non-null uint8\n",
      "crime_class_map_C Felony                                    25965 non-null uint8\n",
      "crime_class_map_D Felony                                    25965 non-null uint8\n",
      "crime_class_map_Felony - Enhanced                           25965 non-null uint8\n",
      "crime_class_map_Felony - Enhancement to Original Penalty    25965 non-null uint8\n",
      "crime_class_map_Serious Misdemeanor                         25965 non-null uint8\n",
      "crime_class_map_Sex Offender                                25965 non-null uint8\n",
      "crime_class_map_Simple Misdemeanor                          25965 non-null uint8\n",
      "release_type_map_Parole                                     25965 non-null uint8\n",
      "release_type_map_Paroled                                    25965 non-null uint8\n",
      "release_type_map_Paroled to Detainer                        25965 non-null uint8\n",
      "release_type_map_Special Sentence                           25965 non-null uint8\n",
      "release_type_map_unknown                                    25965 non-null uint8\n",
      "dtypes: int64(5), uint8(57)\n",
      "memory usage: 2.6 MB\n"
     ]
    }
   ],
   "source": [
    "X.info()"
   ]
  },
  {
   "cell_type": "code",
   "execution_count": 52,
   "metadata": {},
   "outputs": [],
   "source": [
    "from bs_ds.bs_ds import scale_data, thick_pipe, compare_pipes, make_config_dict,make_random_config_dict"
   ]
  },
  {
   "cell_type": "markdown",
   "metadata": {},
   "source": [
    "## Using bs_ds.bs_ds.thick_pipe \n",
    "1. Try scaling the features with different scalers for improves results\n",
    "2. Use highest score to determine which models to try first.\n",
    "2B. Test parameters compare_pipes using search = 'random', get best estimators from it\n",
    "- When find the best parameters, use those to zero in on a smaller range to test again with compare pipes with smaller ranges of parameters\n",
    "- Some of the models that are more computatinally intensive that may want to be tested in small batches or 1 at a time:\n",
    "    - LogRegCV, XGB, GradBoost, AdaBoost"
   ]
  },
  {
   "cell_type": "code",
   "execution_count": 53,
   "metadata": {},
   "outputs": [],
   "source": [
    "# pipe_res = thick_pipe(X,y,verbose=False);\n",
    "# pipe_res = thick_pipe(X,y,verbose=False);"
   ]
  },
  {
   "cell_type": "markdown",
   "metadata": {},
   "source": [
    "- Notes on thick pipe run # 1(ish)\n",
    "    - Very similar results for most models(except dectree, randomfor)\n",
    "    - Best score is 0.0.68 gradboost\n",
    "- Notes on run # 2 (one-hot encoded everything but years and target)\n",
    "    - Basically same performance, but xgb eeks out .6782\n",
    "    \n",
    "| ---- | ---- | ---- |\n",
    "|0\tLogReg: 0.6779|,1\tSVC:\t0.6698, 2\tDecTree:\t0.6318, 3\tRandFor:\t0.6391, 4\tAdaBoost:\t0.6697, 5\tGradBoost:\t0.6780, 6\txgb\t0.6782"
   ]
  },
  {
   "cell_type": "markdown",
   "metadata": {},
   "source": [
    "## Baseline Classifier\n"
   ]
  },
  {
   "cell_type": "code",
   "execution_count": 54,
   "metadata": {},
   "outputs": [
    {
     "name": "stderr",
     "output_type": "stream",
     "text": [
      "UsageError: %bookmark: You must specify the bookmark name\n"
     ]
    }
   ],
   "source": [
    "bookmark"
   ]
  },
  {
   "cell_type": "code",
   "execution_count": 55,
   "metadata": {},
   "outputs": [
    {
     "name": "stdout",
     "output_type": "stream",
     "text": [
      "<class 'pandas.core.frame.DataFrame'>\n",
      "Int64Index: 25965 entries, 0 to 26019\n",
      "Data columns (total 62 columns):\n",
      "yr_released                                                 25965 non-null int64\n",
      "report_year                                                 25965 non-null int64\n",
      "target_pop_map                                              25965 non-null int64\n",
      "sex_map                                                     25965 non-null int64\n",
      "age_released_map                                            25965 non-null int64\n",
      "crime_type_Other                                            25965 non-null uint8\n",
      "crime_type_Property                                         25965 non-null uint8\n",
      "crime_type_Public Order                                     25965 non-null uint8\n",
      "crime_type_Violent                                          25965 non-null uint8\n",
      "crime_subtype_Animals                                       25965 non-null uint8\n",
      "crime_subtype_Arson                                         25965 non-null uint8\n",
      "crime_subtype_Assault                                       25965 non-null uint8\n",
      "crime_subtype_Burglary                                      25965 non-null uint8\n",
      "crime_subtype_Drug Possession                               25965 non-null uint8\n",
      "crime_subtype_Flight/Escape                                 25965 non-null uint8\n",
      "crime_subtype_Forgery/Fraud                                 25965 non-null uint8\n",
      "crime_subtype_Kidnap                                        25965 non-null uint8\n",
      "crime_subtype_Murder/Manslaughter                           25965 non-null uint8\n",
      "crime_subtype_OWI                                           25965 non-null uint8\n",
      "crime_subtype_Other Criminal                                25965 non-null uint8\n",
      "crime_subtype_Other Drug                                    25965 non-null uint8\n",
      "crime_subtype_Other Public Order                            25965 non-null uint8\n",
      "crime_subtype_Other Violent                                 25965 non-null uint8\n",
      "crime_subtype_Prostitution/Pimping                          25965 non-null uint8\n",
      "crime_subtype_Robbery                                       25965 non-null uint8\n",
      "crime_subtype_Sex                                           25965 non-null uint8\n",
      "crime_subtype_Sex Offender Registry/Residency               25965 non-null uint8\n",
      "crime_subtype_Special Sentence Revocation                   25965 non-null uint8\n",
      "crime_subtype_Stolen Property                               25965 non-null uint8\n",
      "crime_subtype_Theft                                         25965 non-null uint8\n",
      "crime_subtype_Traffic                                       25965 non-null uint8\n",
      "crime_subtype_Trafficking                                   25965 non-null uint8\n",
      "crime_subtype_Vandalism                                     25965 non-null uint8\n",
      "crime_subtype_Weapons                                       25965 non-null uint8\n",
      "super_dist_2JD                                              25965 non-null uint8\n",
      "super_dist_3JD                                              25965 non-null uint8\n",
      "super_dist_4JD                                              25965 non-null uint8\n",
      "super_dist_5JD                                              25965 non-null uint8\n",
      "super_dist_6JD                                              25965 non-null uint8\n",
      "super_dist_7JD                                              25965 non-null uint8\n",
      "super_dist_8JD                                              25965 non-null uint8\n",
      "super_dist_ISC                                              25965 non-null uint8\n",
      "super_dist_Interstate Compact                               25965 non-null uint8\n",
      "super_dist_unknown                                          25965 non-null uint8\n",
      "race_ethnicity_map_Asian or Pacific Islander                25965 non-null uint8\n",
      "race_ethnicity_map_Black                                    25965 non-null uint8\n",
      "race_ethnicity_map_Hispanic                                 25965 non-null uint8\n",
      "race_ethnicity_map_White                                    25965 non-null uint8\n",
      "crime_class_map_Aggravated Misdemeanor                      25965 non-null uint8\n",
      "crime_class_map_B Felony                                    25965 non-null uint8\n",
      "crime_class_map_C Felony                                    25965 non-null uint8\n",
      "crime_class_map_D Felony                                    25965 non-null uint8\n",
      "crime_class_map_Felony - Enhanced                           25965 non-null uint8\n",
      "crime_class_map_Felony - Enhancement to Original Penalty    25965 non-null uint8\n",
      "crime_class_map_Serious Misdemeanor                         25965 non-null uint8\n",
      "crime_class_map_Sex Offender                                25965 non-null uint8\n",
      "crime_class_map_Simple Misdemeanor                          25965 non-null uint8\n",
      "release_type_map_Parole                                     25965 non-null uint8\n",
      "release_type_map_Paroled                                    25965 non-null uint8\n",
      "release_type_map_Paroled to Detainer                        25965 non-null uint8\n",
      "release_type_map_Special Sentence                           25965 non-null uint8\n",
      "release_type_map_unknown                                    25965 non-null uint8\n",
      "dtypes: int64(5), uint8(57)\n",
      "memory usage: 2.6 MB\n"
     ]
    },
    {
     "data": {
      "text/plain": [
       "(None, dtype('int64'))"
      ]
     },
     "execution_count": 55,
     "metadata": {},
     "output_type": "execute_result"
    }
   ],
   "source": [
    "X.info(), y.dtype"
   ]
  },
  {
   "cell_type": "code",
   "execution_count": 56,
   "metadata": {},
   "outputs": [
    {
     "data": {
      "text/html": [
       "<div>\n",
       "<style scoped>\n",
       "    .dataframe tbody tr th:only-of-type {\n",
       "        vertical-align: middle;\n",
       "    }\n",
       "\n",
       "    .dataframe tbody tr th {\n",
       "        vertical-align: top;\n",
       "    }\n",
       "\n",
       "    .dataframe thead th {\n",
       "        text-align: right;\n",
       "    }\n",
       "</style>\n",
       "<table border=\"1\" class=\"dataframe\">\n",
       "  <thead>\n",
       "    <tr style=\"text-align: right;\">\n",
       "      <th></th>\n",
       "      <th>Module</th>\n",
       "    </tr>\n",
       "    <tr>\n",
       "      <th>#</th>\n",
       "      <th></th>\n",
       "    </tr>\n",
       "  </thead>\n",
       "  <tbody>\n",
       "    <tr>\n",
       "      <th>0</th>\n",
       "      <td>xgboost</td>\n",
       "    </tr>\n",
       "    <tr>\n",
       "      <th>1</th>\n",
       "      <td>sklearn</td>\n",
       "    </tr>\n",
       "    <tr>\n",
       "      <th>2</th>\n",
       "      <td>scipy</td>\n",
       "    </tr>\n",
       "    <tr>\n",
       "      <th>3</th>\n",
       "      <td>sklearn.svm.SVC</td>\n",
       "    </tr>\n",
       "    <tr>\n",
       "      <th>4</th>\n",
       "      <td>sklearn.linear_model.LogisticRegression</td>\n",
       "    </tr>\n",
       "    <tr>\n",
       "      <th>5</th>\n",
       "      <td>sklearn.linear_model.LogisticRegressionCV</td>\n",
       "    </tr>\n",
       "    <tr>\n",
       "      <th>6</th>\n",
       "      <td>sklearn.model_selection.RandomizedSearchCV</td>\n",
       "    </tr>\n",
       "    <tr>\n",
       "      <th>7</th>\n",
       "      <td>sklearn.model_selection.GridSearchCV</td>\n",
       "    </tr>\n",
       "    <tr>\n",
       "      <th>8</th>\n",
       "      <td>sklearn.pipeline.Pipeline</td>\n",
       "    </tr>\n",
       "    <tr>\n",
       "      <th>9</th>\n",
       "      <td>sklearn.decomposition.PCA</td>\n",
       "    </tr>\n",
       "    <tr>\n",
       "      <th>10</th>\n",
       "      <td>sklearn.preprocessing.StandardScaler</td>\n",
       "    </tr>\n",
       "    <tr>\n",
       "      <th>11</th>\n",
       "      <td>sklearn.preprocessing.RobustScaler</td>\n",
       "    </tr>\n",
       "    <tr>\n",
       "      <th>12</th>\n",
       "      <td>sklearn.preprocessing.MinMaxScaler</td>\n",
       "    </tr>\n",
       "    <tr>\n",
       "      <th>13</th>\n",
       "      <td>scipy.stats.randint</td>\n",
       "    </tr>\n",
       "    <tr>\n",
       "      <th>14</th>\n",
       "      <td>scipy.stats.expon</td>\n",
       "    </tr>\n",
       "    <tr>\n",
       "      <th>15</th>\n",
       "      <td>sklearn.model_selection.train_test_split</td>\n",
       "    </tr>\n",
       "    <tr>\n",
       "      <th>16</th>\n",
       "      <td>sklearn.ensemble.RandomForestClassifier</td>\n",
       "    </tr>\n",
       "    <tr>\n",
       "      <th>17</th>\n",
       "      <td>sklearn.ensemble.GradientBoostingClassifier</td>\n",
       "    </tr>\n",
       "    <tr>\n",
       "      <th>18</th>\n",
       "      <td>sklearn.ensemble.AdaBoostClassifier</td>\n",
       "    </tr>\n",
       "    <tr>\n",
       "      <th>19</th>\n",
       "      <td>sklearn.tree.DecisionTreeClassifier</td>\n",
       "    </tr>\n",
       "    <tr>\n",
       "      <th>20</th>\n",
       "      <td>sklearn.ensemble.VotingClassifier</td>\n",
       "    </tr>\n",
       "    <tr>\n",
       "      <th>21</th>\n",
       "      <td>sklearn.metrics.roc_auc_score</td>\n",
       "    </tr>\n",
       "  </tbody>\n",
       "</table>\n",
       "</div>"
      ],
      "text/plain": [
       "                                         Module\n",
       "#                                              \n",
       "0                                       xgboost\n",
       "1                                       sklearn\n",
       "2                                         scipy\n",
       "3                               sklearn.svm.SVC\n",
       "4       sklearn.linear_model.LogisticRegression\n",
       "5     sklearn.linear_model.LogisticRegressionCV\n",
       "6    sklearn.model_selection.RandomizedSearchCV\n",
       "7          sklearn.model_selection.GridSearchCV\n",
       "8                     sklearn.pipeline.Pipeline\n",
       "9                     sklearn.decomposition.PCA\n",
       "10         sklearn.preprocessing.StandardScaler\n",
       "11           sklearn.preprocessing.RobustScaler\n",
       "12           sklearn.preprocessing.MinMaxScaler\n",
       "13                          scipy.stats.randint\n",
       "14                            scipy.stats.expon\n",
       "15     sklearn.model_selection.train_test_split\n",
       "16      sklearn.ensemble.RandomForestClassifier\n",
       "17  sklearn.ensemble.GradientBoostingClassifier\n",
       "18          sklearn.ensemble.AdaBoostClassifier\n",
       "19          sklearn.tree.DecisionTreeClassifier\n",
       "20            sklearn.ensemble.VotingClassifier\n",
       "21                sklearn.metrics.roc_auc_score"
      ]
     },
     "metadata": {},
     "output_type": "display_data"
    }
   ],
   "source": [
    "from bs_ds.importSklearn import *"
   ]
  },
  {
   "cell_type": "code",
   "execution_count": 57,
   "metadata": {},
   "outputs": [],
   "source": [
    "df=[]\n",
    "df_code=[]"
   ]
  },
  {
   "cell_type": "code",
   "execution_count": 58,
   "metadata": {},
   "outputs": [],
   "source": [
    "X_train, X_test, y_train, y_test = train_test_split(X,y)"
   ]
  },
  {
   "cell_type": "code",
   "execution_count": null,
   "metadata": {},
   "outputs": [],
   "source": [
    "# from sklearn.tree import DecisionTreeClassifier\n",
    "tree_clf = DecisionTreeClassifier()"
   ]
  },
  {
   "cell_type": "code",
   "execution_count": null,
   "metadata": {},
   "outputs": [],
   "source": [
    "params={'max_depth':10}\n",
    "tree_clf.set_params(**params)"
   ]
  },
  {
   "cell_type": "code",
   "execution_count": null,
   "metadata": {},
   "outputs": [],
   "source": [
    "tree_clf.fit(X_train, y_train)"
   ]
  },
  {
   "cell_type": "code",
   "execution_count": null,
   "metadata": {},
   "outputs": [],
   "source": [
    "def plot_feature_importances(model):\n",
    "    n_features = X_train.shape[1]\n",
    "    plt.figure(figsize=(8,8))\n",
    "    plt.barh(range(n_features), model.feature_importances_, align='center') \n",
    "    plt.yticks(np.arange(n_features), X_train.columns.values) \n",
    "    plt.xlabel(\"Feature importance\")\n",
    "    plt.ylabel(\"Feature\")"
   ]
  },
  {
   "cell_type": "code",
   "execution_count": null,
   "metadata": {},
   "outputs": [],
   "source": [
    "plot_feature_importances(tree_clf)"
   ]
  },
  {
   "cell_type": "code",
   "execution_count": null,
   "metadata": {},
   "outputs": [],
   "source": [
    "\n",
    "viz_tree(tree_clf)\n"
   ]
  },
  {
   "cell_type": "markdown",
   "metadata": {},
   "source": [
    "### Assessing Model Accuracy"
   ]
  },
  {
   "cell_type": "code",
   "execution_count": null,
   "metadata": {},
   "outputs": [],
   "source": [
    "from sklearn.metrics import confusion_matrix, classification_report, accuracy_score"
   ]
  },
  {
   "cell_type": "code",
   "execution_count": null,
   "metadata": {},
   "outputs": [],
   "source": [
    "pred = tree_clf.predict(X_test)\n",
    "print(confusion_matrix(y_test,pred))\n",
    "print(classification_report(y_test, pred))\n",
    "print(accuracy_score(y_test,pred))"
   ]
  },
  {
   "cell_type": "markdown",
   "metadata": {},
   "source": [
    "## Bagged Trees"
   ]
  },
  {
   "cell_type": "code",
   "execution_count": null,
   "metadata": {},
   "outputs": [],
   "source": [
    "from sklearn.ensemble import BaggingClassifier\n",
    "bagged_tree = BaggingClassifier(DecisionTreeClassifier(criterion='gini',max_depth=5), n_estimators=20)"
   ]
  },
  {
   "cell_type": "code",
   "execution_count": null,
   "metadata": {},
   "outputs": [],
   "source": [
    "bagged_tree.fit(X_train, y_train)"
   ]
  },
  {
   "cell_type": "code",
   "execution_count": null,
   "metadata": {},
   "outputs": [],
   "source": [
    "bagged_tree.score(X_train,y_train)"
   ]
  },
  {
   "cell_type": "code",
   "execution_count": null,
   "metadata": {},
   "outputs": [],
   "source": [
    "y_pred = bagged_tree.predict(X_test)\n",
    "bagged_tree.score(X_test, y_test)"
   ]
  },
  {
   "cell_type": "markdown",
   "metadata": {},
   "source": [
    "## Random Forests"
   ]
  },
  {
   "cell_type": "code",
   "execution_count": null,
   "metadata": {},
   "outputs": [],
   "source": [
    "forest = RandomForestClassifier(n_estimators=100, max_depth=5)\n",
    "forest.fit(X_train, y_train)"
   ]
  },
  {
   "cell_type": "code",
   "execution_count": null,
   "metadata": {},
   "outputs": [],
   "source": [
    "print(forest.score(X_train, y_train))\n",
    "print(forest.score(X_test, y_test))"
   ]
  },
  {
   "cell_type": "code",
   "execution_count": null,
   "metadata": {},
   "outputs": [],
   "source": []
  },
  {
   "cell_type": "markdown",
   "metadata": {},
   "source": [
    "## Adding xgb, gbc"
   ]
  },
  {
   "cell_type": "code",
   "execution_count": null,
   "metadata": {},
   "outputs": [],
   "source": [
    "import os\n",
    "import sys\n",
    "sys.path.append('C:\\\\Program\\ Files\\ \\(x86\\)\\\\Graphviz2.38\\\\bin')"
   ]
  },
  {
   "cell_type": "code",
   "execution_count": null,
   "metadata": {},
   "outputs": [],
   "source": [
    "clf_xgb = xgboost.sklearn.XGBClassifier()\n",
    "clf_gbc = GradientBoostingClassifier()"
   ]
  },
  {
   "cell_type": "code",
   "execution_count": null,
   "metadata": {},
   "outputs": [],
   "source": [
    "from bs_ds import *"
   ]
  },
  {
   "cell_type": "code",
   "execution_count": null,
   "metadata": {},
   "outputs": [],
   "source": [
    "plot_feature_importances(tree_clf)"
   ]
  }
 ],
 "metadata": {
  "kernelspec": {
   "display_name": "learn-env-ext",
   "language": "python",
   "name": "learn-env-ext"
  },
  "language_info": {
   "codemirror_mode": {
    "name": "ipython",
    "version": 3
   },
   "file_extension": ".py",
   "mimetype": "text/x-python",
   "name": "python",
   "nbconvert_exporter": "python",
   "pygments_lexer": "ipython3",
   "version": "3.6.8"
  },
  "toc": {
   "base_numbering": 1,
   "nav_menu": {},
   "number_sections": false,
   "sideBar": true,
   "skip_h1_title": false,
   "title_cell": "Table of Contents",
   "title_sidebar": "Contents",
   "toc_cell": false,
   "toc_position": {
    "height": "calc(100% - 180px)",
    "left": "10px",
    "top": "150px",
    "width": "307.2px"
   },
   "toc_section_display": true,
   "toc_window_display": true
  },
  "varInspector": {
   "cols": {
    "lenName": 16,
    "lenType": 16,
    "lenVar": 40
   },
   "kernels_config": {
    "python": {
     "delete_cmd_postfix": "",
     "delete_cmd_prefix": "del ",
     "library": "var_list.py",
     "varRefreshCmd": "print(var_dic_list())"
    },
    "r": {
     "delete_cmd_postfix": ") ",
     "delete_cmd_prefix": "rm(",
     "library": "var_list.r",
     "varRefreshCmd": "cat(var_dic_list()) "
    }
   },
   "oldHeight": 572.391,
   "position": {
    "height": "594.383px",
    "left": "838.6px",
    "right": "20px",
    "top": "72px",
    "width": "705.367px"
   },
   "types_to_exclude": [
    "module",
    "function",
    "builtin_function_or_method",
    "instance",
    "_Feature"
   ],
   "varInspector_section_display": "block",
   "window_display": false
  }
 },
 "nbformat": 4,
 "nbformat_minor": 2
}
