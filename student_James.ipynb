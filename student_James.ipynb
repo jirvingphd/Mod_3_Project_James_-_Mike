{
 "cells": [
  {
   "cell_type": "markdown",
   "metadata": {},
   "source": [
    "# Final Project Submission\n",
    "\n",
    "Please fill out:\n",
    "* Student name: \n",
    "* Student pace: self paced / part time / full time\n",
    "* Scheduled project review date/time: \n",
    "* Instructor name: \n",
    "* Blog post URL:\n"
   ]
  },
  {
   "cell_type": "code",
   "execution_count": 1,
   "metadata": {},
   "outputs": [],
   "source": [
    "# # Attempting multi-core processing\n",
    "# import ipyparallel as ipp\n",
    "# rc = ipp.Client()\n",
    "# with rc[:].sync_imports():\n",
    "#     import bs_ds.bs_ds as bs\n",
    "#     import bs_ds.bamboo as bb"
   ]
  },
  {
   "cell_type": "code",
   "execution_count": 2,
   "metadata": {},
   "outputs": [],
   "source": [
    "# rc.ids\n",
    "# dview=rc[:]"
   ]
  },
  {
   "cell_type": "markdown",
   "metadata": {},
   "source": [
    "# OSEMN Model\n",
    "1. **OBTAIN:**\n",
    "    - **Import data, inspect, check for datatypes to convert and null values**<br>\n",
    "        - Display header and info\n",
    "        - Drop any unneeded columns (df.drop(['col1','col2'],axis=1)\n",
    "\n",
    "2. **SCRUB: cast data types, identify outliers, check for multicollinearity, normalize data**<br>\n",
    "    - Check and cast data types\n",
    "        - [x] Check for #'s that are store as objects (df.info())\n",
    "            - when converting to #'s, look for odd values (like many 0's), or strings that can't be converted\n",
    "            - Decide how to deal weird/null values (df.unique(), df.isna().sum(), df.describe()-min/max, etc\n",
    "        - [x]  Check for categorical variables stored as integers\n",
    "    - [x] Check for missing values  (df.isna().sum())\n",
    "        - Can drop rows or colums\n",
    "        - For missing numeric data with median or bin/convert to categorical\n",
    "        - For missing categorical data: make NaN own category OR replace with most common category\n",
    "    - [x] Check for multicollinearity\n",
    "        - Good rule of thumb is anything over 0.75 corr is high, remove the variable that has the most correl with the largest # of variables\n",
    "    - [ ] Normalize data (may want to do after some exploring)\n",
    "        - Most popular is Z-scoring (but won't fix skew) \n",
    "        - Can log-transform to fix skewed data\n",
    "    \n",
    "            \n",
    "3. **EXPLORE:Check distributions, outliers, etc**\n",
    "    - [ ] Check scales, ranges (df.describe())\n",
    "    - [ ] Check histograms to get an idea of distributions (df.hist()) and dat transformations to perform\n",
    "        - Can also do kernel density estimates\n",
    "    - [ ] Use scatterplots to check for linearity and possible categorical variables (df.plot(kind-'scatter')\n",
    "        - categoricals will look like vertical lines\n",
    "    - [ ] Use pd.plotting.scatter_matrix to visualize possible relationships\n",
    "    - [ ] Check for linearity\n",
    "\n",
    "   \n",
    "4. **FIT AN INITIAL MODEL:** \n",
    "    - Various forms, detail later...\n",
    "    - **Assessing the model:**\n",
    "        - Assess parameters (slope,intercept)\n",
    "        - Check if the model explains the variation in the data (RMSE, F, R_square)\n",
    "        - *Are the coeffs, slopes, intercepts in appropriate units?*\n",
    "        - *Whats the impact of collinearity? Can we ignore?*\n",
    "5. **Revise the fitted model**\n",
    "    - Multicollinearity is big issue for lin regression and cannot fully remove it\n",
    "    - Use the predictive ability of model to test it (like R2 and RMSE)\n",
    "    - Check for missed non-linearity\n",
    "6. **Holdout validation / Train/test split**\n",
    "    - use sklearn train_test_split \n",
    "___"
   ]
  },
  {
   "cell_type": "code",
   "execution_count": 3,
   "metadata": {},
   "outputs": [
    {
     "name": "stdout",
     "output_type": "stream",
     "text": [
      "View our documentation at https://bs-ds.readthedocs.io/en/latest/bs_ds.html\n",
      "For convenient loading of standard modules :\n",
      ">> from bs_ds.imports import *\n",
      "\n"
     ]
    }
   ],
   "source": [
    "from bs_ds.bamboo import *\n",
    "# import bs_ds as bs"
   ]
  },
  {
   "cell_type": "code",
   "execution_count": 4,
   "metadata": {},
   "outputs": [
    {
     "name": "stdout",
     "output_type": "stream",
     "text": [
      "display.max_columns=None\n",
      "display.expand_frame_repr=False\n",
      "display.max_rows=None\n",
      "display.precision=4\n"
     ]
    }
   ],
   "source": [
    "big_pandas()\n",
    "ignore_warnings()"
   ]
  },
  {
   "cell_type": "markdown",
   "metadata": {},
   "source": [
    "# Iowa Prisoner Recidivism Data\n",
    "\n",
    "- Source: https://www.kaggle.com/slonnadube/recidivism-for-offenders-released-from-prison\n",
    "- **Statistics about recidivism in prisoners from a 3 year prisoner**\n",
    "- **Target:**\n",
    "    - Recidivism - Return to Prison\n",
    "- **Features:**\n",
    "    - Fiscal Year Released\n",
    "    - Recidivism Reporting Year\n",
    "    - Race - Ethnicity\n",
    "    - Age At Release\n",
    "    - Convicting Offense Classification\n",
    "    - Convicting Offense Type\n",
    "    - Convicting Offense Subtype\n",
    "    - Main Supervising District\n",
    "    - Release Type\n",
    "    - Release type: Paroled to Detainder united\n",
    "    - Part of Target Population"
   ]
  },
  {
   "cell_type": "markdown",
   "metadata": {},
   "source": [
    "**From Kaggle Listing:**\n",
    ">For recidivism prediction the full dataset containing 26021 records was used. The name of the data set is: \"3-Year_Recidivism_for_Offenders_Released_from_Prison_in_Iowa_elaborated\". All the variables related to recidivism were excluded from the dataset, except the response variable: 'Recidivism - return to prison'. The response variable was turned into a numeric vector of (0,1), where 1 means 'yes recidivism' and 0 means 'no recidivism'. \n",
    "Other variables related to recidivism were of course not used in the predictive analysis. There are 26021 records in this dataset.\n",
    "\n",
    "> Another dataset was constructed using the initial one. This dataset is called 'prison_recidivists_with_recidivism_type_only'. It contains the records of those recidivists from the initial file for whom the type of recidivism has been recorded and documented.\n",
    "\n",
    "> This one done in order to enable the comparison between the seriousness of the initial offense and the type of recidivism. Therefore, only the records containing both types were left in this dataset, and the rest were filtered out. The second dataset containing data recidivists only is comprised of 6718 records."
   ]
  },
  {
   "cell_type": "markdown",
   "metadata": {},
   "source": [
    "<img src=\"https://raw.githubusercontent.com/jirvingphd/dsc-3-final-project-online-ds-ft-021119/master/districtmap09122014.jpg\" width=800>"
   ]
  },
  {
   "cell_type": "markdown",
   "metadata": {},
   "source": [
    "### **The variables in the data set:**\n",
    "\n",
    "- Fiscal Year Released Fiscal year (year ending June 30) for which the offender was released from prison.\n",
    "\n",
    "- Recidivism Reporting Year \n",
    "    - Fiscal year (year ending June 30) that marks the end of the 3-year tracking period. For example, offenders exited prison in FY 2012 are found in recidivism reporting year FY 2015.\n",
    "\n",
    "- Race - Ethnicity \n",
    "    - Offender's Race and Ethnicity\n",
    "\n",
    "- Convicting Offense Classification \n",
    "    - Maximum penalties: A Felony = Life; B Felony = 25 or 50 years; C Felony = 10 years; D Felony = 5 years; Aggravated Misdemeanor = 2 years; Serious Misdemeanor = 1 year; Simple Misdemeanor = 30 days\n",
    "\n",
    "- Convicting Offense Type General category for the most serious offense for which the offender was placed in prison.\n",
    "\n",
    "- Convicting Offense Subtype \n",
    "    - Further classification of the most serious offense for which the offender was placed in prison.\n",
    "\n",
    "- Release Type \n",
    "    - Reasoning for Offender's release from prison.\n",
    "\n",
    "- Main Supervising District \n",
    "    - The Judicial District supervising the offender for the longest time during the tracking period.\n",
    "\n",
    "- Recidivism - Return to Prison \n",
    "    - No = No Recidivism; Yes = Prison admission for any reason within the 3-year tracking period\n",
    "\n",
    "- Days to Recidivism \n",
    "    - Number of days it took before the offender returned to prison.\n",
    "\n",
    "- New Conviction Offense Classification The same as the initial offense classification.\n",
    "\n",
    "- New Conviction Offense Type The same as the initial offense type.\n",
    "\n",
    "- New Conviction Offense Sub Type The same as the initial offense subtype.\n",
    "\n",
    "- Part of Target Population \n",
    "    - The Department of Corrections has undertaken specific strategies to reduce recidivism rates for prisoners who are on parole and are part of the target population.\n",
    "    ___"
   ]
  },
  {
   "cell_type": "code",
   "execution_count": 5,
   "metadata": {},
   "outputs": [
    {
     "data": {
      "text/html": [
       "<div>\n",
       "<style scoped>\n",
       "    .dataframe tbody tr th:only-of-type {\n",
       "        vertical-align: middle;\n",
       "    }\n",
       "\n",
       "    .dataframe tbody tr th {\n",
       "        vertical-align: top;\n",
       "    }\n",
       "\n",
       "    .dataframe thead th {\n",
       "        text-align: right;\n",
       "    }\n",
       "</style>\n",
       "<table border=\"1\" class=\"dataframe\">\n",
       "  <thead>\n",
       "    <tr style=\"text-align: right;\">\n",
       "      <th></th>\n",
       "      <th>Module/Package Handle</th>\n",
       "    </tr>\n",
       "  </thead>\n",
       "  <tbody>\n",
       "    <tr>\n",
       "      <th>pandas</th>\n",
       "      <td>pd</td>\n",
       "    </tr>\n",
       "    <tr>\n",
       "      <th>numpy</th>\n",
       "      <td>np</td>\n",
       "    </tr>\n",
       "    <tr>\n",
       "      <th>matplotlib</th>\n",
       "      <td>mpl</td>\n",
       "    </tr>\n",
       "    <tr>\n",
       "      <th>matplotlib.pyplot</th>\n",
       "      <td>plt</td>\n",
       "    </tr>\n",
       "    <tr>\n",
       "      <th>seaborn</th>\n",
       "      <td>sns</td>\n",
       "    </tr>\n",
       "  </tbody>\n",
       "</table>\n",
       "</div>"
      ],
      "text/plain": [
       "                  Module/Package Handle\n",
       "pandas                               pd\n",
       "numpy                                np\n",
       "matplotlib                          mpl\n",
       "matplotlib.pyplot                   plt\n",
       "seaborn                             sns"
      ]
     },
     "metadata": {},
     "output_type": "display_data"
    }
   ],
   "source": [
    "# Importing custom-library of functions.\n",
    "# from bs_ds.bamboo import *\n",
    "import bs_ds\n",
    "from bs_ds.imports import *"
   ]
  },
  {
   "cell_type": "markdown",
   "metadata": {},
   "source": [
    "## Loading in the Dataset"
   ]
  },
  {
   "cell_type": "code",
   "execution_count": 6,
   "metadata": {},
   "outputs": [],
   "source": [
    "# Dataset Links\n",
    "mike_csv ='3-Year_Recidivism_for_Offenders_Released_from_Prison_in_Iowa.csv'\n",
    "# all_prisoners_url = 'https://raw.githubusercontent.com/jirvingphd/dsc-3-final-project-online-ds-ft-021119/master/dataset/3-Year_Recidivism_for_Offenders_Released_from_Prison_in_Iowa_elaborated.csv'\n",
    "all_prisoners_file = \"datasets/3-Year_Recidivism_for_Offenders_Released_from_Prison_in_Iowa_elaborated.csv\"\n",
    "full_all_prisoners_file = \"datasets/FULL_3-Year_Recidivism_for_Offenders_Released_from_Prison_in_Iowa.csv\"\n",
    "# only_repeat_criminals_w_new_crime_url = \"https://raw.githubusercontent.com/jirvingphd/dsc-3-final-project-online-ds-ft-021119/master/dataset/prison_recidivists_with_recidivism_type_only.csv\"\n",
    "only_repeat_criminals_w_new_crime_file= \"datasets/prison_recidivists_with_recidivism_type_only.csv\""
   ]
  },
  {
   "cell_type": "code",
   "execution_count": 7,
   "metadata": {},
   "outputs": [],
   "source": [
    "# Will be using the all_prisoners file to predict recidivism\n",
    "df = pd.read_csv(mike_csv)"
   ]
  },
  {
   "cell_type": "code",
   "execution_count": 8,
   "metadata": {},
   "outputs": [
    {
     "name": "stdout",
     "output_type": "stream",
     "text": [
      "<class 'pandas.core.frame.DataFrame'>\n",
      "RangeIndex: 26020 entries, 0 to 26019\n",
      "Data columns (total 17 columns):\n",
      "Fiscal Year Released                     26020 non-null int64\n",
      "Recidivism Reporting Year                26020 non-null int64\n",
      "Race - Ethnicity                         25990 non-null object\n",
      "Age At Release                           26017 non-null object\n",
      "Convicting Offense Classification        26020 non-null object\n",
      "Convicting Offense Type                  26020 non-null object\n",
      "Convicting Offense Subtype               26020 non-null object\n",
      "Release Type                             24258 non-null object\n",
      "Main Supervising District                16439 non-null object\n",
      "Recidivism - Return to Prison            26020 non-null object\n",
      "Days to Recidivism                       8681 non-null float64\n",
      "New Conviction Offense Classification    6718 non-null object\n",
      "New Conviction Offense Type              6718 non-null object\n",
      "New Conviction Offense Sub Type          6699 non-null object\n",
      "Part of Target Population                26020 non-null object\n",
      "Recidivism Type                          26020 non-null object\n",
      "Sex                                      26017 non-null object\n",
      "dtypes: float64(1), int64(2), object(14)\n",
      "memory usage: 3.4+ MB\n"
     ]
    },
    {
     "data": {
      "text/plain": [
       "None"
      ]
     },
     "metadata": {},
     "output_type": "display_data"
    },
    {
     "data": {
      "text/html": [
       "<div>\n",
       "<style scoped>\n",
       "    .dataframe tbody tr th:only-of-type {\n",
       "        vertical-align: middle;\n",
       "    }\n",
       "\n",
       "    .dataframe tbody tr th {\n",
       "        vertical-align: top;\n",
       "    }\n",
       "\n",
       "    .dataframe thead th {\n",
       "        text-align: right;\n",
       "    }\n",
       "</style>\n",
       "<table border=\"1\" class=\"dataframe\">\n",
       "  <thead>\n",
       "    <tr style=\"text-align: right;\">\n",
       "      <th></th>\n",
       "      <th>Fiscal Year Released</th>\n",
       "      <th>Recidivism Reporting Year</th>\n",
       "      <th>Days to Recidivism</th>\n",
       "    </tr>\n",
       "  </thead>\n",
       "  <tbody>\n",
       "    <tr>\n",
       "      <th>count</th>\n",
       "      <td>26020.0000</td>\n",
       "      <td>26020.0000</td>\n",
       "      <td>8681.0000</td>\n",
       "    </tr>\n",
       "    <tr>\n",
       "      <th>mean</th>\n",
       "      <td>2012.6008</td>\n",
       "      <td>2015.6008</td>\n",
       "      <td>469.9315</td>\n",
       "    </tr>\n",
       "    <tr>\n",
       "      <th>std</th>\n",
       "      <td>1.6610</td>\n",
       "      <td>1.6610</td>\n",
       "      <td>282.3034</td>\n",
       "    </tr>\n",
       "    <tr>\n",
       "      <th>min</th>\n",
       "      <td>2010.0000</td>\n",
       "      <td>2013.0000</td>\n",
       "      <td>0.0000</td>\n",
       "    </tr>\n",
       "    <tr>\n",
       "      <th>25%</th>\n",
       "      <td>2011.0000</td>\n",
       "      <td>2014.0000</td>\n",
       "      <td>238.0000</td>\n",
       "    </tr>\n",
       "    <tr>\n",
       "      <th>50%</th>\n",
       "      <td>2013.0000</td>\n",
       "      <td>2016.0000</td>\n",
       "      <td>418.0000</td>\n",
       "    </tr>\n",
       "    <tr>\n",
       "      <th>75%</th>\n",
       "      <td>2014.0000</td>\n",
       "      <td>2017.0000</td>\n",
       "      <td>682.0000</td>\n",
       "    </tr>\n",
       "    <tr>\n",
       "      <th>max</th>\n",
       "      <td>2015.0000</td>\n",
       "      <td>2018.0000</td>\n",
       "      <td>1095.0000</td>\n",
       "    </tr>\n",
       "  </tbody>\n",
       "</table>\n",
       "</div>"
      ],
      "text/plain": [
       "       Fiscal Year Released  Recidivism Reporting Year  Days to Recidivism\n",
       "count            26020.0000                 26020.0000           8681.0000\n",
       "mean              2012.6008                  2015.6008            469.9315\n",
       "std                  1.6610                     1.6610            282.3034\n",
       "min               2010.0000                  2013.0000              0.0000\n",
       "25%               2011.0000                  2014.0000            238.0000\n",
       "50%               2013.0000                  2016.0000            418.0000\n",
       "75%               2014.0000                  2017.0000            682.0000\n",
       "max               2015.0000                  2018.0000           1095.0000"
      ]
     },
     "metadata": {},
     "output_type": "display_data"
    },
    {
     "name": "stdout",
     "output_type": "stream",
     "text": [
      "\n",
      "---------------------------------------------------\n",
      "\n",
      "# of Identified Numeric Values in \"Object\" columns:\n"
     ]
    },
    {
     "data": {
      "text/html": [
       "<div>\n",
       "<style scoped>\n",
       "    .dataframe tbody tr th:only-of-type {\n",
       "        vertical-align: middle;\n",
       "    }\n",
       "\n",
       "    .dataframe tbody tr th {\n",
       "        vertical-align: top;\n",
       "    }\n",
       "\n",
       "    .dataframe thead th {\n",
       "        text-align: right;\n",
       "    }\n",
       "</style>\n",
       "<table border=\"1\" class=\"dataframe\">\n",
       "  <thead>\n",
       "    <tr style=\"text-align: right;\">\n",
       "      <th></th>\n",
       "      <th>Numeric values</th>\n",
       "      <th>Total Values</th>\n",
       "      <th>Percent</th>\n",
       "    </tr>\n",
       "    <tr>\n",
       "      <th>Column</th>\n",
       "      <th></th>\n",
       "      <th></th>\n",
       "      <th></th>\n",
       "    </tr>\n",
       "  </thead>\n",
       "  <tbody>\n",
       "  </tbody>\n",
       "</table>\n",
       "</div>"
      ],
      "text/plain": [
       "Empty DataFrame\n",
       "Columns: [Numeric values, Total Values, Percent]\n",
       "Index: []"
      ]
     },
     "metadata": {},
     "output_type": "display_data"
    },
    {
     "name": "stdout",
     "output_type": "stream",
     "text": [
      "\n",
      "----------------------------\n",
      "\n",
      "# of Identified Null Values:\n"
     ]
    },
    {
     "data": {
      "text/html": [
       "<div>\n",
       "<style scoped>\n",
       "    .dataframe tbody tr th:only-of-type {\n",
       "        vertical-align: middle;\n",
       "    }\n",
       "\n",
       "    .dataframe tbody tr th {\n",
       "        vertical-align: top;\n",
       "    }\n",
       "\n",
       "    .dataframe thead th {\n",
       "        text-align: right;\n",
       "    }\n",
       "</style>\n",
       "<table border=\"1\" class=\"dataframe\">\n",
       "  <thead>\n",
       "    <tr style=\"text-align: right;\">\n",
       "      <th></th>\n",
       "      <th>Null values</th>\n",
       "      <th>Total Values</th>\n",
       "      <th>Percent</th>\n",
       "    </tr>\n",
       "    <tr>\n",
       "      <th>Column</th>\n",
       "      <th></th>\n",
       "      <th></th>\n",
       "      <th></th>\n",
       "    </tr>\n",
       "  </thead>\n",
       "  <tbody>\n",
       "    <tr>\n",
       "      <th>Fiscal Year Released</th>\n",
       "      <td>0</td>\n",
       "      <td>26020</td>\n",
       "      <td>0.000</td>\n",
       "    </tr>\n",
       "    <tr>\n",
       "      <th>Recidivism Reporting Year</th>\n",
       "      <td>0</td>\n",
       "      <td>26020</td>\n",
       "      <td>0.000</td>\n",
       "    </tr>\n",
       "    <tr>\n",
       "      <th>Race - Ethnicity</th>\n",
       "      <td>30</td>\n",
       "      <td>26020</td>\n",
       "      <td>0.115</td>\n",
       "    </tr>\n",
       "    <tr>\n",
       "      <th>Age At Release</th>\n",
       "      <td>3</td>\n",
       "      <td>26020</td>\n",
       "      <td>0.012</td>\n",
       "    </tr>\n",
       "    <tr>\n",
       "      <th>Convicting Offense Classification</th>\n",
       "      <td>0</td>\n",
       "      <td>26020</td>\n",
       "      <td>0.000</td>\n",
       "    </tr>\n",
       "    <tr>\n",
       "      <th>Convicting Offense Type</th>\n",
       "      <td>0</td>\n",
       "      <td>26020</td>\n",
       "      <td>0.000</td>\n",
       "    </tr>\n",
       "    <tr>\n",
       "      <th>Convicting Offense Subtype</th>\n",
       "      <td>0</td>\n",
       "      <td>26020</td>\n",
       "      <td>0.000</td>\n",
       "    </tr>\n",
       "    <tr>\n",
       "      <th>Release Type</th>\n",
       "      <td>1762</td>\n",
       "      <td>26020</td>\n",
       "      <td>6.772</td>\n",
       "    </tr>\n",
       "    <tr>\n",
       "      <th>Main Supervising District</th>\n",
       "      <td>9581</td>\n",
       "      <td>26020</td>\n",
       "      <td>36.822</td>\n",
       "    </tr>\n",
       "    <tr>\n",
       "      <th>Recidivism - Return to Prison</th>\n",
       "      <td>0</td>\n",
       "      <td>26020</td>\n",
       "      <td>0.000</td>\n",
       "    </tr>\n",
       "    <tr>\n",
       "      <th>Days to Recidivism</th>\n",
       "      <td>17339</td>\n",
       "      <td>26020</td>\n",
       "      <td>66.637</td>\n",
       "    </tr>\n",
       "    <tr>\n",
       "      <th>New Conviction Offense Classification</th>\n",
       "      <td>19302</td>\n",
       "      <td>26020</td>\n",
       "      <td>74.181</td>\n",
       "    </tr>\n",
       "    <tr>\n",
       "      <th>New Conviction Offense Type</th>\n",
       "      <td>19302</td>\n",
       "      <td>26020</td>\n",
       "      <td>74.181</td>\n",
       "    </tr>\n",
       "    <tr>\n",
       "      <th>New Conviction Offense Sub Type</th>\n",
       "      <td>19321</td>\n",
       "      <td>26020</td>\n",
       "      <td>74.254</td>\n",
       "    </tr>\n",
       "    <tr>\n",
       "      <th>Part of Target Population</th>\n",
       "      <td>0</td>\n",
       "      <td>26020</td>\n",
       "      <td>0.000</td>\n",
       "    </tr>\n",
       "    <tr>\n",
       "      <th>Recidivism Type</th>\n",
       "      <td>0</td>\n",
       "      <td>26020</td>\n",
       "      <td>0.000</td>\n",
       "    </tr>\n",
       "    <tr>\n",
       "      <th>Sex</th>\n",
       "      <td>3</td>\n",
       "      <td>26020</td>\n",
       "      <td>0.012</td>\n",
       "    </tr>\n",
       "  </tbody>\n",
       "</table>\n",
       "</div>"
      ],
      "text/plain": [
       "                                       Null values  Total Values  Percent\n",
       "Column                                                                   \n",
       "Fiscal Year Released                             0         26020    0.000\n",
       "Recidivism Reporting Year                        0         26020    0.000\n",
       "Race - Ethnicity                                30         26020    0.115\n",
       "Age At Release                                   3         26020    0.012\n",
       "Convicting Offense Classification                0         26020    0.000\n",
       "Convicting Offense Type                          0         26020    0.000\n",
       "Convicting Offense Subtype                       0         26020    0.000\n",
       "Release Type                                  1762         26020    6.772\n",
       "Main Supervising District                     9581         26020   36.822\n",
       "Recidivism - Return to Prison                    0         26020    0.000\n",
       "Days to Recidivism                           17339         26020   66.637\n",
       "New Conviction Offense Classification        19302         26020   74.181\n",
       "New Conviction Offense Type                  19302         26020   74.181\n",
       "New Conviction Offense Sub Type              19321         26020   74.254\n",
       "Part of Target Population                        0         26020    0.000\n",
       "Recidivism Type                                  0         26020    0.000\n",
       "Sex                                              3         26020    0.012"
      ]
     },
     "metadata": {},
     "output_type": "display_data"
    },
    {
     "data": {
      "text/html": [
       "<div>\n",
       "<style scoped>\n",
       "    .dataframe tbody tr th:only-of-type {\n",
       "        vertical-align: middle;\n",
       "    }\n",
       "\n",
       "    .dataframe tbody tr th {\n",
       "        vertical-align: top;\n",
       "    }\n",
       "\n",
       "    .dataframe thead th {\n",
       "        text-align: right;\n",
       "    }\n",
       "</style>\n",
       "<table border=\"1\" class=\"dataframe\">\n",
       "  <thead>\n",
       "    <tr style=\"text-align: right;\">\n",
       "      <th></th>\n",
       "      <th>Fiscal Year Released</th>\n",
       "      <th>Recidivism Reporting Year</th>\n",
       "      <th>Race - Ethnicity</th>\n",
       "      <th>Age At Release</th>\n",
       "      <th>Convicting Offense Classification</th>\n",
       "      <th>Convicting Offense Type</th>\n",
       "      <th>Convicting Offense Subtype</th>\n",
       "      <th>Release Type</th>\n",
       "      <th>Main Supervising District</th>\n",
       "      <th>Recidivism - Return to Prison</th>\n",
       "      <th>Days to Recidivism</th>\n",
       "      <th>New Conviction Offense Classification</th>\n",
       "      <th>New Conviction Offense Type</th>\n",
       "      <th>New Conviction Offense Sub Type</th>\n",
       "      <th>Part of Target Population</th>\n",
       "      <th>Recidivism Type</th>\n",
       "      <th>Sex</th>\n",
       "    </tr>\n",
       "  </thead>\n",
       "  <tbody>\n",
       "    <tr>\n",
       "      <th>0</th>\n",
       "      <td>2010</td>\n",
       "      <td>2013</td>\n",
       "      <td>Black - Non-Hispanic</td>\n",
       "      <td>25-34</td>\n",
       "      <td>C Felony</td>\n",
       "      <td>Violent</td>\n",
       "      <td>Robbery</td>\n",
       "      <td>Parole</td>\n",
       "      <td>7JD</td>\n",
       "      <td>Yes</td>\n",
       "      <td>433.0</td>\n",
       "      <td>C Felony</td>\n",
       "      <td>Drug</td>\n",
       "      <td>Trafficking</td>\n",
       "      <td>Yes</td>\n",
       "      <td>New</td>\n",
       "      <td>Male</td>\n",
       "    </tr>\n",
       "    <tr>\n",
       "      <th>1</th>\n",
       "      <td>2010</td>\n",
       "      <td>2013</td>\n",
       "      <td>White - Non-Hispanic</td>\n",
       "      <td>25-34</td>\n",
       "      <td>D Felony</td>\n",
       "      <td>Property</td>\n",
       "      <td>Theft</td>\n",
       "      <td>Discharged – End of Sentence</td>\n",
       "      <td>NaN</td>\n",
       "      <td>Yes</td>\n",
       "      <td>453.0</td>\n",
       "      <td>NaN</td>\n",
       "      <td>NaN</td>\n",
       "      <td>NaN</td>\n",
       "      <td>No</td>\n",
       "      <td>Tech</td>\n",
       "      <td>Male</td>\n",
       "    </tr>\n",
       "    <tr>\n",
       "      <th>2</th>\n",
       "      <td>2010</td>\n",
       "      <td>2013</td>\n",
       "      <td>White - Non-Hispanic</td>\n",
       "      <td>35-44</td>\n",
       "      <td>B Felony</td>\n",
       "      <td>Drug</td>\n",
       "      <td>Trafficking</td>\n",
       "      <td>Parole</td>\n",
       "      <td>5JD</td>\n",
       "      <td>Yes</td>\n",
       "      <td>832.0</td>\n",
       "      <td>NaN</td>\n",
       "      <td>NaN</td>\n",
       "      <td>NaN</td>\n",
       "      <td>Yes</td>\n",
       "      <td>Tech</td>\n",
       "      <td>Male</td>\n",
       "    </tr>\n",
       "  </tbody>\n",
       "</table>\n",
       "</div>"
      ],
      "text/plain": [
       "   Fiscal Year Released  Recidivism Reporting Year      Race - Ethnicity Age At Release  Convicting Offense Classification Convicting Offense Type Convicting Offense Subtype                  Release Type Main Supervising District Recidivism - Return to Prison  Days to Recidivism New Conviction Offense Classification New Conviction Offense Type New Conviction Offense Sub Type Part of Target Population Recidivism Type   Sex\n",
       "0                  2010                       2013  Black - Non-Hispanic           25-34                          C Felony                 Violent                    Robbery                        Parole                       7JD                           Yes               433.0                              C Felony                        Drug                     Trafficking                       Yes             New  Male\n",
       "1                  2010                       2013  White - Non-Hispanic           25-34                          D Felony                Property                      Theft  Discharged – End of Sentence                       NaN                           Yes               453.0                                   NaN                         NaN                             NaN                        No            Tech  Male\n",
       "2                  2010                       2013  White - Non-Hispanic           35-44                          B Felony                    Drug                Trafficking                        Parole                       5JD                           Yes               832.0                                   NaN                         NaN                             NaN                       Yes            Tech  Male"
      ]
     },
     "metadata": {},
     "output_type": "display_data"
    }
   ],
   "source": [
    "from bs_ds.bamboo import inspect_df, check_null, check_unique, check_column, check_numeric\n",
    "inspect_df(df)"
   ]
  },
  {
   "cell_type": "markdown",
   "metadata": {},
   "source": [
    "**Any columns that are about New Convictions or days to recidivism should be dropped for our initial model predicting recidivism.**\n",
    "- \"New..\", \"Days to Recividism\""
   ]
  },
  {
   "cell_type": "code",
   "execution_count": 9,
   "metadata": {},
   "outputs": [
    {
     "name": "stdout",
     "output_type": "stream",
     "text": [
      "Removed New.\n",
      "Removed Days.\n",
      "Removed Recidivism Type.\n"
     ]
    }
   ],
   "source": [
    "from bs_ds.bamboo import drop_cols\n",
    "df = drop_cols(df, ['New','Days','Recidivism Type'])"
   ]
  },
  {
   "cell_type": "code",
   "execution_count": 10,
   "metadata": {},
   "outputs": [
    {
     "name": "stdout",
     "output_type": "stream",
     "text": [
      "<class 'pandas.core.frame.DataFrame'>\n",
      "RangeIndex: 26020 entries, 0 to 26019\n",
      "Data columns (total 12 columns):\n",
      "Fiscal Year Released                 26020 non-null int64\n",
      "Recidivism Reporting Year            26020 non-null int64\n",
      "Race - Ethnicity                     25990 non-null object\n",
      "Age At Release                       26017 non-null object\n",
      "Convicting Offense Classification    26020 non-null object\n",
      "Convicting Offense Type              26020 non-null object\n",
      "Convicting Offense Subtype           26020 non-null object\n",
      "Release Type                         24258 non-null object\n",
      "Main Supervising District            16439 non-null object\n",
      "Recidivism - Return to Prison        26020 non-null object\n",
      "Part of Target Population            26020 non-null object\n",
      "Sex                                  26017 non-null object\n",
      "dtypes: int64(2), object(10)\n",
      "memory usage: 2.4+ MB\n"
     ]
    }
   ],
   "source": [
    "df.info()"
   ]
  },
  {
   "cell_type": "code",
   "execution_count": 11,
   "metadata": {},
   "outputs": [
    {
     "name": "stdout",
     "output_type": "stream",
     "text": [
      "<class 'pandas.core.frame.DataFrame'>\n",
      "RangeIndex: 26020 entries, 0 to 26019\n",
      "Data columns (total 12 columns):\n",
      "Fiscal Year Released                 26020 non-null int64\n",
      "Recidivism Reporting Year            26020 non-null int64\n",
      "Race - Ethnicity                     25990 non-null object\n",
      "Age At Release                       26017 non-null object\n",
      "Convicting Offense Classification    26020 non-null object\n",
      "Convicting Offense Type              26020 non-null object\n",
      "Convicting Offense Subtype           26020 non-null object\n",
      "Release Type                         24258 non-null object\n",
      "Main Supervising District            16439 non-null object\n",
      "Recidivism - Return to Prison        26020 non-null object\n",
      "Part of Target Population            26020 non-null object\n",
      "Sex                                  26017 non-null object\n",
      "dtypes: int64(2), object(10)\n",
      "memory usage: 2.4+ MB\n"
     ]
    },
    {
     "data": {
      "text/plain": [
       "None"
      ]
     },
     "metadata": {},
     "output_type": "display_data"
    },
    {
     "data": {
      "text/html": [
       "<div>\n",
       "<style scoped>\n",
       "    .dataframe tbody tr th:only-of-type {\n",
       "        vertical-align: middle;\n",
       "    }\n",
       "\n",
       "    .dataframe tbody tr th {\n",
       "        vertical-align: top;\n",
       "    }\n",
       "\n",
       "    .dataframe thead th {\n",
       "        text-align: right;\n",
       "    }\n",
       "</style>\n",
       "<table border=\"1\" class=\"dataframe\">\n",
       "  <thead>\n",
       "    <tr style=\"text-align: right;\">\n",
       "      <th></th>\n",
       "      <th>Fiscal Year Released</th>\n",
       "      <th>Recidivism Reporting Year</th>\n",
       "    </tr>\n",
       "  </thead>\n",
       "  <tbody>\n",
       "    <tr>\n",
       "      <th>count</th>\n",
       "      <td>26020.0000</td>\n",
       "      <td>26020.0000</td>\n",
       "    </tr>\n",
       "    <tr>\n",
       "      <th>mean</th>\n",
       "      <td>2012.6008</td>\n",
       "      <td>2015.6008</td>\n",
       "    </tr>\n",
       "    <tr>\n",
       "      <th>std</th>\n",
       "      <td>1.6610</td>\n",
       "      <td>1.6610</td>\n",
       "    </tr>\n",
       "    <tr>\n",
       "      <th>min</th>\n",
       "      <td>2010.0000</td>\n",
       "      <td>2013.0000</td>\n",
       "    </tr>\n",
       "    <tr>\n",
       "      <th>25%</th>\n",
       "      <td>2011.0000</td>\n",
       "      <td>2014.0000</td>\n",
       "    </tr>\n",
       "    <tr>\n",
       "      <th>50%</th>\n",
       "      <td>2013.0000</td>\n",
       "      <td>2016.0000</td>\n",
       "    </tr>\n",
       "    <tr>\n",
       "      <th>75%</th>\n",
       "      <td>2014.0000</td>\n",
       "      <td>2017.0000</td>\n",
       "    </tr>\n",
       "    <tr>\n",
       "      <th>max</th>\n",
       "      <td>2015.0000</td>\n",
       "      <td>2018.0000</td>\n",
       "    </tr>\n",
       "  </tbody>\n",
       "</table>\n",
       "</div>"
      ],
      "text/plain": [
       "       Fiscal Year Released  Recidivism Reporting Year\n",
       "count            26020.0000                 26020.0000\n",
       "mean              2012.6008                  2015.6008\n",
       "std                  1.6610                     1.6610\n",
       "min               2010.0000                  2013.0000\n",
       "25%               2011.0000                  2014.0000\n",
       "50%               2013.0000                  2016.0000\n",
       "75%               2014.0000                  2017.0000\n",
       "max               2015.0000                  2018.0000"
      ]
     },
     "metadata": {},
     "output_type": "display_data"
    },
    {
     "name": "stdout",
     "output_type": "stream",
     "text": [
      "\n",
      "---------------------------------------------------\n",
      "\n",
      "# of Identified Numeric Values in \"Object\" columns:\n"
     ]
    },
    {
     "data": {
      "text/html": [
       "<div>\n",
       "<style scoped>\n",
       "    .dataframe tbody tr th:only-of-type {\n",
       "        vertical-align: middle;\n",
       "    }\n",
       "\n",
       "    .dataframe tbody tr th {\n",
       "        vertical-align: top;\n",
       "    }\n",
       "\n",
       "    .dataframe thead th {\n",
       "        text-align: right;\n",
       "    }\n",
       "</style>\n",
       "<table border=\"1\" class=\"dataframe\">\n",
       "  <thead>\n",
       "    <tr style=\"text-align: right;\">\n",
       "      <th></th>\n",
       "      <th>Numeric values</th>\n",
       "      <th>Total Values</th>\n",
       "      <th>Percent</th>\n",
       "    </tr>\n",
       "    <tr>\n",
       "      <th>Column</th>\n",
       "      <th></th>\n",
       "      <th></th>\n",
       "      <th></th>\n",
       "    </tr>\n",
       "  </thead>\n",
       "  <tbody>\n",
       "  </tbody>\n",
       "</table>\n",
       "</div>"
      ],
      "text/plain": [
       "Empty DataFrame\n",
       "Columns: [Numeric values, Total Values, Percent]\n",
       "Index: []"
      ]
     },
     "metadata": {},
     "output_type": "display_data"
    },
    {
     "name": "stdout",
     "output_type": "stream",
     "text": [
      "\n",
      "----------------------------\n",
      "\n",
      "# of Identified Null Values:\n"
     ]
    },
    {
     "data": {
      "text/html": [
       "<div>\n",
       "<style scoped>\n",
       "    .dataframe tbody tr th:only-of-type {\n",
       "        vertical-align: middle;\n",
       "    }\n",
       "\n",
       "    .dataframe tbody tr th {\n",
       "        vertical-align: top;\n",
       "    }\n",
       "\n",
       "    .dataframe thead th {\n",
       "        text-align: right;\n",
       "    }\n",
       "</style>\n",
       "<table border=\"1\" class=\"dataframe\">\n",
       "  <thead>\n",
       "    <tr style=\"text-align: right;\">\n",
       "      <th></th>\n",
       "      <th>Null values</th>\n",
       "      <th>Total Values</th>\n",
       "      <th>Percent</th>\n",
       "    </tr>\n",
       "    <tr>\n",
       "      <th>Column</th>\n",
       "      <th></th>\n",
       "      <th></th>\n",
       "      <th></th>\n",
       "    </tr>\n",
       "  </thead>\n",
       "  <tbody>\n",
       "    <tr>\n",
       "      <th>Fiscal Year Released</th>\n",
       "      <td>0</td>\n",
       "      <td>26020</td>\n",
       "      <td>0.000</td>\n",
       "    </tr>\n",
       "    <tr>\n",
       "      <th>Recidivism Reporting Year</th>\n",
       "      <td>0</td>\n",
       "      <td>26020</td>\n",
       "      <td>0.000</td>\n",
       "    </tr>\n",
       "    <tr>\n",
       "      <th>Race - Ethnicity</th>\n",
       "      <td>30</td>\n",
       "      <td>26020</td>\n",
       "      <td>0.115</td>\n",
       "    </tr>\n",
       "    <tr>\n",
       "      <th>Age At Release</th>\n",
       "      <td>3</td>\n",
       "      <td>26020</td>\n",
       "      <td>0.012</td>\n",
       "    </tr>\n",
       "    <tr>\n",
       "      <th>Convicting Offense Classification</th>\n",
       "      <td>0</td>\n",
       "      <td>26020</td>\n",
       "      <td>0.000</td>\n",
       "    </tr>\n",
       "    <tr>\n",
       "      <th>Convicting Offense Type</th>\n",
       "      <td>0</td>\n",
       "      <td>26020</td>\n",
       "      <td>0.000</td>\n",
       "    </tr>\n",
       "    <tr>\n",
       "      <th>Convicting Offense Subtype</th>\n",
       "      <td>0</td>\n",
       "      <td>26020</td>\n",
       "      <td>0.000</td>\n",
       "    </tr>\n",
       "    <tr>\n",
       "      <th>Release Type</th>\n",
       "      <td>1762</td>\n",
       "      <td>26020</td>\n",
       "      <td>6.772</td>\n",
       "    </tr>\n",
       "    <tr>\n",
       "      <th>Main Supervising District</th>\n",
       "      <td>9581</td>\n",
       "      <td>26020</td>\n",
       "      <td>36.822</td>\n",
       "    </tr>\n",
       "    <tr>\n",
       "      <th>Recidivism - Return to Prison</th>\n",
       "      <td>0</td>\n",
       "      <td>26020</td>\n",
       "      <td>0.000</td>\n",
       "    </tr>\n",
       "    <tr>\n",
       "      <th>Part of Target Population</th>\n",
       "      <td>0</td>\n",
       "      <td>26020</td>\n",
       "      <td>0.000</td>\n",
       "    </tr>\n",
       "    <tr>\n",
       "      <th>Sex</th>\n",
       "      <td>3</td>\n",
       "      <td>26020</td>\n",
       "      <td>0.012</td>\n",
       "    </tr>\n",
       "  </tbody>\n",
       "</table>\n",
       "</div>"
      ],
      "text/plain": [
       "                                   Null values  Total Values  Percent\n",
       "Column                                                               \n",
       "Fiscal Year Released                         0         26020    0.000\n",
       "Recidivism Reporting Year                    0         26020    0.000\n",
       "Race - Ethnicity                            30         26020    0.115\n",
       "Age At Release                               3         26020    0.012\n",
       "Convicting Offense Classification            0         26020    0.000\n",
       "Convicting Offense Type                      0         26020    0.000\n",
       "Convicting Offense Subtype                   0         26020    0.000\n",
       "Release Type                              1762         26020    6.772\n",
       "Main Supervising District                 9581         26020   36.822\n",
       "Recidivism - Return to Prison                0         26020    0.000\n",
       "Part of Target Population                    0         26020    0.000\n",
       "Sex                                          3         26020    0.012"
      ]
     },
     "metadata": {},
     "output_type": "display_data"
    },
    {
     "data": {
      "text/html": [
       "<div>\n",
       "<style scoped>\n",
       "    .dataframe tbody tr th:only-of-type {\n",
       "        vertical-align: middle;\n",
       "    }\n",
       "\n",
       "    .dataframe tbody tr th {\n",
       "        vertical-align: top;\n",
       "    }\n",
       "\n",
       "    .dataframe thead th {\n",
       "        text-align: right;\n",
       "    }\n",
       "</style>\n",
       "<table border=\"1\" class=\"dataframe\">\n",
       "  <thead>\n",
       "    <tr style=\"text-align: right;\">\n",
       "      <th></th>\n",
       "      <th>Fiscal Year Released</th>\n",
       "      <th>Recidivism Reporting Year</th>\n",
       "      <th>Race - Ethnicity</th>\n",
       "      <th>Age At Release</th>\n",
       "      <th>Convicting Offense Classification</th>\n",
       "      <th>Convicting Offense Type</th>\n",
       "      <th>Convicting Offense Subtype</th>\n",
       "      <th>Release Type</th>\n",
       "      <th>Main Supervising District</th>\n",
       "      <th>Recidivism - Return to Prison</th>\n",
       "      <th>Part of Target Population</th>\n",
       "      <th>Sex</th>\n",
       "    </tr>\n",
       "  </thead>\n",
       "  <tbody>\n",
       "    <tr>\n",
       "      <th>0</th>\n",
       "      <td>2010</td>\n",
       "      <td>2013</td>\n",
       "      <td>Black - Non-Hispanic</td>\n",
       "      <td>25-34</td>\n",
       "      <td>C Felony</td>\n",
       "      <td>Violent</td>\n",
       "      <td>Robbery</td>\n",
       "      <td>Parole</td>\n",
       "      <td>7JD</td>\n",
       "      <td>Yes</td>\n",
       "      <td>Yes</td>\n",
       "      <td>Male</td>\n",
       "    </tr>\n",
       "    <tr>\n",
       "      <th>1</th>\n",
       "      <td>2010</td>\n",
       "      <td>2013</td>\n",
       "      <td>White - Non-Hispanic</td>\n",
       "      <td>25-34</td>\n",
       "      <td>D Felony</td>\n",
       "      <td>Property</td>\n",
       "      <td>Theft</td>\n",
       "      <td>Discharged – End of Sentence</td>\n",
       "      <td>NaN</td>\n",
       "      <td>Yes</td>\n",
       "      <td>No</td>\n",
       "      <td>Male</td>\n",
       "    </tr>\n",
       "    <tr>\n",
       "      <th>2</th>\n",
       "      <td>2010</td>\n",
       "      <td>2013</td>\n",
       "      <td>White - Non-Hispanic</td>\n",
       "      <td>35-44</td>\n",
       "      <td>B Felony</td>\n",
       "      <td>Drug</td>\n",
       "      <td>Trafficking</td>\n",
       "      <td>Parole</td>\n",
       "      <td>5JD</td>\n",
       "      <td>Yes</td>\n",
       "      <td>Yes</td>\n",
       "      <td>Male</td>\n",
       "    </tr>\n",
       "  </tbody>\n",
       "</table>\n",
       "</div>"
      ],
      "text/plain": [
       "   Fiscal Year Released  Recidivism Reporting Year      Race - Ethnicity Age At Release  Convicting Offense Classification Convicting Offense Type Convicting Offense Subtype                  Release Type Main Supervising District Recidivism - Return to Prison Part of Target Population   Sex\n",
       "0                  2010                       2013  Black - Non-Hispanic           25-34                          C Felony                 Violent                    Robbery                        Parole                       7JD                           Yes                       Yes  Male\n",
       "1                  2010                       2013  White - Non-Hispanic           25-34                          D Felony                Property                      Theft  Discharged – End of Sentence                       NaN                           Yes                        No  Male\n",
       "2                  2010                       2013  White - Non-Hispanic           35-44                          B Felony                    Drug                Trafficking                        Parole                       5JD                           Yes                       Yes  Male"
      ]
     },
     "metadata": {},
     "output_type": "display_data"
    }
   ],
   "source": [
    "inspect_df(df)"
   ]
  },
  {
   "cell_type": "markdown",
   "metadata": {},
   "source": [
    "### Save original names vs short names in column_legend\n",
    "- then map names onto columns"
   ]
  },
  {
   "cell_type": "code",
   "execution_count": 12,
   "metadata": {},
   "outputs": [
    {
     "data": {
      "text/plain": [
       "Index(['Fiscal Year Released', 'Recidivism Reporting Year', 'Race - Ethnicity',\n",
       "       'Age At Release ', 'Convicting Offense Classification',\n",
       "       'Convicting Offense Type', 'Convicting Offense Subtype', 'Release Type',\n",
       "       'Main Supervising District', 'Recidivism - Return to Prison',\n",
       "       'Part of Target Population', 'Sex'],\n",
       "      dtype='object')"
      ]
     },
     "execution_count": 12,
     "metadata": {},
     "output_type": "execute_result"
    }
   ],
   "source": [
    "colnames_orig = df.columns\n",
    "colnames_orig"
   ]
  },
  {
   "cell_type": "code",
   "execution_count": 13,
   "metadata": {},
   "outputs": [
    {
     "data": {
      "text/plain": [
       "{'Fiscal Year Released': 'yr_released',\n",
       " 'Recidivism Reporting Year': 'report_year',\n",
       " 'Race - Ethnicity': 'race_ethnicity',\n",
       " 'Age At Release ': 'age_released',\n",
       " 'Convicting Offense Classification': 'crime_class',\n",
       " 'Convicting Offense Type': 'crime_type',\n",
       " 'Convicting Offense Subtype': 'crime_subtype',\n",
       " 'Release Type': 'release_type',\n",
       " 'Main Supervising District': 'super_dist',\n",
       " 'Recidivism - Return to Prison': 'recidivist',\n",
       " 'Part of Target Population': 'target_pop',\n",
       " 'Sex': 'sex'}"
      ]
     },
     "execution_count": 13,
     "metadata": {},
     "output_type": "execute_result"
    }
   ],
   "source": [
    "colnames_short = ('yr_released','report_year','race_ethnicity','age_released','crime_class','crime_type','crime_subtype','release_type','super_dist','recidivist','target_pop','sex')\n",
    "\n",
    "column_legend = dict(zip(colnames_orig,colnames_short))\n",
    "column_legend"
   ]
  },
  {
   "cell_type": "code",
   "execution_count": 14,
   "metadata": {},
   "outputs": [
    {
     "data": {
      "text/html": [
       "<div>\n",
       "<style scoped>\n",
       "    .dataframe tbody tr th:only-of-type {\n",
       "        vertical-align: middle;\n",
       "    }\n",
       "\n",
       "    .dataframe tbody tr th {\n",
       "        vertical-align: top;\n",
       "    }\n",
       "\n",
       "    .dataframe thead th {\n",
       "        text-align: right;\n",
       "    }\n",
       "</style>\n",
       "<table border=\"1\" class=\"dataframe\">\n",
       "  <thead>\n",
       "    <tr style=\"text-align: right;\">\n",
       "      <th></th>\n",
       "      <th>yr_released</th>\n",
       "      <th>report_year</th>\n",
       "      <th>race_ethnicity</th>\n",
       "      <th>age_released</th>\n",
       "      <th>crime_class</th>\n",
       "      <th>crime_type</th>\n",
       "      <th>crime_subtype</th>\n",
       "      <th>release_type</th>\n",
       "      <th>super_dist</th>\n",
       "      <th>recidivist</th>\n",
       "      <th>target_pop</th>\n",
       "      <th>sex</th>\n",
       "    </tr>\n",
       "  </thead>\n",
       "  <tbody>\n",
       "    <tr>\n",
       "      <th>0</th>\n",
       "      <td>2010</td>\n",
       "      <td>2013</td>\n",
       "      <td>Black - Non-Hispanic</td>\n",
       "      <td>25-34</td>\n",
       "      <td>C Felony</td>\n",
       "      <td>Violent</td>\n",
       "      <td>Robbery</td>\n",
       "      <td>Parole</td>\n",
       "      <td>7JD</td>\n",
       "      <td>Yes</td>\n",
       "      <td>Yes</td>\n",
       "      <td>Male</td>\n",
       "    </tr>\n",
       "    <tr>\n",
       "      <th>1</th>\n",
       "      <td>2010</td>\n",
       "      <td>2013</td>\n",
       "      <td>White - Non-Hispanic</td>\n",
       "      <td>25-34</td>\n",
       "      <td>D Felony</td>\n",
       "      <td>Property</td>\n",
       "      <td>Theft</td>\n",
       "      <td>Discharged – End of Sentence</td>\n",
       "      <td>NaN</td>\n",
       "      <td>Yes</td>\n",
       "      <td>No</td>\n",
       "      <td>Male</td>\n",
       "    </tr>\n",
       "    <tr>\n",
       "      <th>2</th>\n",
       "      <td>2010</td>\n",
       "      <td>2013</td>\n",
       "      <td>White - Non-Hispanic</td>\n",
       "      <td>35-44</td>\n",
       "      <td>B Felony</td>\n",
       "      <td>Drug</td>\n",
       "      <td>Trafficking</td>\n",
       "      <td>Parole</td>\n",
       "      <td>5JD</td>\n",
       "      <td>Yes</td>\n",
       "      <td>Yes</td>\n",
       "      <td>Male</td>\n",
       "    </tr>\n",
       "    <tr>\n",
       "      <th>3</th>\n",
       "      <td>2010</td>\n",
       "      <td>2013</td>\n",
       "      <td>White - Non-Hispanic</td>\n",
       "      <td>25-34</td>\n",
       "      <td>B Felony</td>\n",
       "      <td>Other</td>\n",
       "      <td>Other Criminal</td>\n",
       "      <td>Parole</td>\n",
       "      <td>6JD</td>\n",
       "      <td>No</td>\n",
       "      <td>Yes</td>\n",
       "      <td>Male</td>\n",
       "    </tr>\n",
       "    <tr>\n",
       "      <th>4</th>\n",
       "      <td>2010</td>\n",
       "      <td>2013</td>\n",
       "      <td>Black - Non-Hispanic</td>\n",
       "      <td>35-44</td>\n",
       "      <td>D Felony</td>\n",
       "      <td>Violent</td>\n",
       "      <td>Assault</td>\n",
       "      <td>Discharged – End of Sentence</td>\n",
       "      <td>NaN</td>\n",
       "      <td>Yes</td>\n",
       "      <td>No</td>\n",
       "      <td>Male</td>\n",
       "    </tr>\n",
       "  </tbody>\n",
       "</table>\n",
       "</div>"
      ],
      "text/plain": [
       "   yr_released  report_year        race_ethnicity age_released crime_class crime_type   crime_subtype                  release_type super_dist recidivist target_pop   sex\n",
       "0         2010         2013  Black - Non-Hispanic        25-34    C Felony    Violent         Robbery                        Parole        7JD        Yes        Yes  Male\n",
       "1         2010         2013  White - Non-Hispanic        25-34    D Felony   Property           Theft  Discharged – End of Sentence        NaN        Yes         No  Male\n",
       "2         2010         2013  White - Non-Hispanic        35-44    B Felony       Drug     Trafficking                        Parole        5JD        Yes        Yes  Male\n",
       "3         2010         2013  White - Non-Hispanic        25-34    B Felony      Other  Other Criminal                        Parole        6JD         No        Yes  Male\n",
       "4         2010         2013  Black - Non-Hispanic        35-44    D Felony    Violent         Assault  Discharged – End of Sentence        NaN        Yes         No  Male"
      ]
     },
     "execution_count": 14,
     "metadata": {},
     "output_type": "execute_result"
    }
   ],
   "source": [
    "# Rename df with shorter names\n",
    "df.rename(mapper=column_legend,axis=1,inplace=True)\n",
    "df.head()"
   ]
  },
  {
   "cell_type": "markdown",
   "metadata": {},
   "source": [
    "### Investigating Values for Each Object Column and Determining How to Handle"
   ]
  },
  {
   "cell_type": "code",
   "execution_count": 15,
   "metadata": {},
   "outputs": [
    {
     "name": "stdout",
     "output_type": "stream",
     "text": [
      "<class 'pandas.core.frame.DataFrame'>\n",
      "RangeIndex: 26020 entries, 0 to 26019\n",
      "Data columns (total 12 columns):\n",
      "yr_released       26020 non-null int64\n",
      "report_year       26020 non-null int64\n",
      "race_ethnicity    25990 non-null object\n",
      "age_released      26017 non-null object\n",
      "crime_class       26020 non-null object\n",
      "crime_type        26020 non-null object\n",
      "crime_subtype     26020 non-null object\n",
      "release_type      24258 non-null object\n",
      "super_dist        16439 non-null object\n",
      "recidivist        26020 non-null object\n",
      "target_pop        26020 non-null object\n",
      "sex               26017 non-null object\n",
      "dtypes: int64(2), object(10)\n",
      "memory usage: 2.4+ MB\n"
     ]
    }
   ],
   "source": [
    "df.info()"
   ]
  },
  {
   "cell_type": "markdown",
   "metadata": {},
   "source": [
    "## ADDRESSING NULL VALUES\n",
    "### Checking Null Values\n"
   ]
  },
  {
   "cell_type": "code",
   "execution_count": 16,
   "metadata": {},
   "outputs": [
    {
     "name": "stdout",
     "output_type": "stream",
     "text": [
      "\n",
      "----------------------------\n",
      "\n",
      "# of Identified Null Values:\n"
     ]
    },
    {
     "data": {
      "text/html": [
       "<div>\n",
       "<style scoped>\n",
       "    .dataframe tbody tr th:only-of-type {\n",
       "        vertical-align: middle;\n",
       "    }\n",
       "\n",
       "    .dataframe tbody tr th {\n",
       "        vertical-align: top;\n",
       "    }\n",
       "\n",
       "    .dataframe thead th {\n",
       "        text-align: right;\n",
       "    }\n",
       "</style>\n",
       "<table border=\"1\" class=\"dataframe\">\n",
       "  <thead>\n",
       "    <tr style=\"text-align: right;\">\n",
       "      <th></th>\n",
       "      <th>Null values</th>\n",
       "      <th>Total Values</th>\n",
       "      <th>Percent</th>\n",
       "    </tr>\n",
       "    <tr>\n",
       "      <th>Column</th>\n",
       "      <th></th>\n",
       "      <th></th>\n",
       "      <th></th>\n",
       "    </tr>\n",
       "  </thead>\n",
       "  <tbody>\n",
       "    <tr>\n",
       "      <th>yr_released</th>\n",
       "      <td>0</td>\n",
       "      <td>26020</td>\n",
       "      <td>0.000</td>\n",
       "    </tr>\n",
       "    <tr>\n",
       "      <th>report_year</th>\n",
       "      <td>0</td>\n",
       "      <td>26020</td>\n",
       "      <td>0.000</td>\n",
       "    </tr>\n",
       "    <tr>\n",
       "      <th>race_ethnicity</th>\n",
       "      <td>30</td>\n",
       "      <td>26020</td>\n",
       "      <td>0.115</td>\n",
       "    </tr>\n",
       "    <tr>\n",
       "      <th>age_released</th>\n",
       "      <td>3</td>\n",
       "      <td>26020</td>\n",
       "      <td>0.012</td>\n",
       "    </tr>\n",
       "    <tr>\n",
       "      <th>crime_class</th>\n",
       "      <td>0</td>\n",
       "      <td>26020</td>\n",
       "      <td>0.000</td>\n",
       "    </tr>\n",
       "    <tr>\n",
       "      <th>crime_type</th>\n",
       "      <td>0</td>\n",
       "      <td>26020</td>\n",
       "      <td>0.000</td>\n",
       "    </tr>\n",
       "    <tr>\n",
       "      <th>crime_subtype</th>\n",
       "      <td>0</td>\n",
       "      <td>26020</td>\n",
       "      <td>0.000</td>\n",
       "    </tr>\n",
       "    <tr>\n",
       "      <th>release_type</th>\n",
       "      <td>1762</td>\n",
       "      <td>26020</td>\n",
       "      <td>6.772</td>\n",
       "    </tr>\n",
       "    <tr>\n",
       "      <th>super_dist</th>\n",
       "      <td>9581</td>\n",
       "      <td>26020</td>\n",
       "      <td>36.822</td>\n",
       "    </tr>\n",
       "    <tr>\n",
       "      <th>recidivist</th>\n",
       "      <td>0</td>\n",
       "      <td>26020</td>\n",
       "      <td>0.000</td>\n",
       "    </tr>\n",
       "    <tr>\n",
       "      <th>target_pop</th>\n",
       "      <td>0</td>\n",
       "      <td>26020</td>\n",
       "      <td>0.000</td>\n",
       "    </tr>\n",
       "    <tr>\n",
       "      <th>sex</th>\n",
       "      <td>3</td>\n",
       "      <td>26020</td>\n",
       "      <td>0.012</td>\n",
       "    </tr>\n",
       "  </tbody>\n",
       "</table>\n",
       "</div>"
      ],
      "text/plain": [
       "                Null values  Total Values  Percent\n",
       "Column                                            \n",
       "yr_released               0         26020    0.000\n",
       "report_year               0         26020    0.000\n",
       "race_ethnicity           30         26020    0.115\n",
       "age_released              3         26020    0.012\n",
       "crime_class               0         26020    0.000\n",
       "crime_type                0         26020    0.000\n",
       "crime_subtype             0         26020    0.000\n",
       "release_type           1762         26020    6.772\n",
       "super_dist             9581         26020   36.822\n",
       "recidivist                0         26020    0.000\n",
       "target_pop                0         26020    0.000\n",
       "sex                       3         26020    0.012"
      ]
     },
     "metadata": {},
     "output_type": "display_data"
    }
   ],
   "source": [
    "check_null(df)"
   ]
  },
  {
   "cell_type": "markdown",
   "metadata": {},
   "source": [
    "**Results of Null Check**\n",
    "- race_ethnicity has 30 (0.12% of data)\n",
    "    -  drop\n",
    "- age_released has 3 (0.01% of data)\n",
    "    - drop\n",
    "- sex has 3 (0.01% of data)\n",
    "    - drop\n",
    "- super_district has 9581(36.82% of data)\n",
    "    - replace\n",
    "    - with...\n",
    "- release_type has 1762 (6.77% of data)\n",
    "    - drop\n",
    "\n",
    "    \n",
    "### Checking Columns with Nulls to Replace to Decide Method"
   ]
  },
  {
   "cell_type": "code",
   "execution_count": 17,
   "metadata": {},
   "outputs": [],
   "source": [
    "# Dropping null values from 'age_at_release','race_ethnicity'\n",
    "df.dropna(subset=['age_released','race_ethnicity','sex','release_type'],inplace=True)"
   ]
  },
  {
   "cell_type": "code",
   "execution_count": 18,
   "metadata": {},
   "outputs": [
    {
     "name": "stdout",
     "output_type": "stream",
     "text": [
      "\n",
      "----------------------------\n",
      "\n",
      "# of Identified Null Values:\n"
     ]
    },
    {
     "data": {
      "text/html": [
       "<div>\n",
       "<style scoped>\n",
       "    .dataframe tbody tr th:only-of-type {\n",
       "        vertical-align: middle;\n",
       "    }\n",
       "\n",
       "    .dataframe tbody tr th {\n",
       "        vertical-align: top;\n",
       "    }\n",
       "\n",
       "    .dataframe thead th {\n",
       "        text-align: right;\n",
       "    }\n",
       "</style>\n",
       "<table border=\"1\" class=\"dataframe\">\n",
       "  <thead>\n",
       "    <tr style=\"text-align: right;\">\n",
       "      <th></th>\n",
       "      <th>Null values</th>\n",
       "      <th>Total Values</th>\n",
       "      <th>Percent</th>\n",
       "    </tr>\n",
       "    <tr>\n",
       "      <th>Column</th>\n",
       "      <th></th>\n",
       "      <th></th>\n",
       "      <th></th>\n",
       "    </tr>\n",
       "  </thead>\n",
       "  <tbody>\n",
       "    <tr>\n",
       "      <th>yr_released</th>\n",
       "      <td>0</td>\n",
       "      <td>24225</td>\n",
       "      <td>0.000</td>\n",
       "    </tr>\n",
       "    <tr>\n",
       "      <th>report_year</th>\n",
       "      <td>0</td>\n",
       "      <td>24225</td>\n",
       "      <td>0.000</td>\n",
       "    </tr>\n",
       "    <tr>\n",
       "      <th>race_ethnicity</th>\n",
       "      <td>0</td>\n",
       "      <td>24225</td>\n",
       "      <td>0.000</td>\n",
       "    </tr>\n",
       "    <tr>\n",
       "      <th>age_released</th>\n",
       "      <td>0</td>\n",
       "      <td>24225</td>\n",
       "      <td>0.000</td>\n",
       "    </tr>\n",
       "    <tr>\n",
       "      <th>crime_class</th>\n",
       "      <td>0</td>\n",
       "      <td>24225</td>\n",
       "      <td>0.000</td>\n",
       "    </tr>\n",
       "    <tr>\n",
       "      <th>crime_type</th>\n",
       "      <td>0</td>\n",
       "      <td>24225</td>\n",
       "      <td>0.000</td>\n",
       "    </tr>\n",
       "    <tr>\n",
       "      <th>crime_subtype</th>\n",
       "      <td>0</td>\n",
       "      <td>24225</td>\n",
       "      <td>0.000</td>\n",
       "    </tr>\n",
       "    <tr>\n",
       "      <th>release_type</th>\n",
       "      <td>0</td>\n",
       "      <td>24225</td>\n",
       "      <td>0.000</td>\n",
       "    </tr>\n",
       "    <tr>\n",
       "      <th>super_dist</th>\n",
       "      <td>7787</td>\n",
       "      <td>24225</td>\n",
       "      <td>32.144</td>\n",
       "    </tr>\n",
       "    <tr>\n",
       "      <th>recidivist</th>\n",
       "      <td>0</td>\n",
       "      <td>24225</td>\n",
       "      <td>0.000</td>\n",
       "    </tr>\n",
       "    <tr>\n",
       "      <th>target_pop</th>\n",
       "      <td>0</td>\n",
       "      <td>24225</td>\n",
       "      <td>0.000</td>\n",
       "    </tr>\n",
       "    <tr>\n",
       "      <th>sex</th>\n",
       "      <td>0</td>\n",
       "      <td>24225</td>\n",
       "      <td>0.000</td>\n",
       "    </tr>\n",
       "  </tbody>\n",
       "</table>\n",
       "</div>"
      ],
      "text/plain": [
       "                Null values  Total Values  Percent\n",
       "Column                                            \n",
       "yr_released               0         24225    0.000\n",
       "report_year               0         24225    0.000\n",
       "race_ethnicity            0         24225    0.000\n",
       "age_released              0         24225    0.000\n",
       "crime_class               0         24225    0.000\n",
       "crime_type                0         24225    0.000\n",
       "crime_subtype             0         24225    0.000\n",
       "release_type              0         24225    0.000\n",
       "super_dist             7787         24225   32.144\n",
       "recidivist                0         24225    0.000\n",
       "target_pop                0         24225    0.000\n",
       "sex                       0         24225    0.000"
      ]
     },
     "metadata": {},
     "output_type": "display_data"
    }
   ],
   "source": [
    "check_null(df)"
   ]
  },
  {
   "cell_type": "markdown",
   "metadata": {},
   "source": [
    "**Results of Null Check**\n",
    "- super_district has 9549(36.75% of data)\n",
    "    - replace\n",
    "    - with 'unknown'\n",
    "- release_type has 1762 (6.78% of data)\n",
    "    - replace  (_could_ consider dropping)\n",
    "    - with 'unknown'    "
   ]
  },
  {
   "cell_type": "code",
   "execution_count": 19,
   "metadata": {},
   "outputs": [
    {
     "name": "stdout",
     "output_type": "stream",
     "text": [
      "\n",
      "---------------------------\n",
      "\n",
      "super_dist Type: object\n",
      "Number unique values: 10.\n"
     ]
    },
    {
     "data": {
      "text/html": [
       "<div>\n",
       "<style scoped>\n",
       "    .dataframe tbody tr th:only-of-type {\n",
       "        vertical-align: middle;\n",
       "    }\n",
       "\n",
       "    .dataframe tbody tr th {\n",
       "        vertical-align: top;\n",
       "    }\n",
       "\n",
       "    .dataframe thead th {\n",
       "        text-align: right;\n",
       "    }\n",
       "</style>\n",
       "<table border=\"1\" class=\"dataframe\">\n",
       "  <thead>\n",
       "    <tr style=\"text-align: right;\">\n",
       "      <th></th>\n",
       "      <th>super_dist</th>\n",
       "    </tr>\n",
       "  </thead>\n",
       "  <tbody>\n",
       "    <tr>\n",
       "      <th>5JD</th>\n",
       "      <td>4982</td>\n",
       "    </tr>\n",
       "    <tr>\n",
       "      <th>1JD</th>\n",
       "      <td>2787</td>\n",
       "    </tr>\n",
       "    <tr>\n",
       "      <th>2JD</th>\n",
       "      <td>1988</td>\n",
       "    </tr>\n",
       "    <tr>\n",
       "      <th>8JD</th>\n",
       "      <td>1556</td>\n",
       "    </tr>\n",
       "    <tr>\n",
       "      <th>7JD</th>\n",
       "      <td>1514</td>\n",
       "    </tr>\n",
       "    <tr>\n",
       "      <th>3JD</th>\n",
       "      <td>1188</td>\n",
       "    </tr>\n",
       "    <tr>\n",
       "      <th>6JD</th>\n",
       "      <td>1098</td>\n",
       "    </tr>\n",
       "    <tr>\n",
       "      <th>4JD</th>\n",
       "      <td>666</td>\n",
       "    </tr>\n",
       "    <tr>\n",
       "      <th>ISC</th>\n",
       "      <td>350</td>\n",
       "    </tr>\n",
       "    <tr>\n",
       "      <th>Interstate Compact</th>\n",
       "      <td>309</td>\n",
       "    </tr>\n",
       "  </tbody>\n",
       "</table>\n",
       "</div>"
      ],
      "text/plain": [
       "                    super_dist\n",
       "5JD                       4982\n",
       "1JD                       2787\n",
       "2JD                       1988\n",
       "8JD                       1556\n",
       "7JD                       1514\n",
       "3JD                       1188\n",
       "6JD                       1098\n",
       "4JD                        666\n",
       "ISC                        350\n",
       "Interstate Compact         309"
      ]
     },
     "metadata": {},
     "output_type": "display_data"
    },
    {
     "name": "stdout",
     "output_type": "stream",
     "text": [
      "\n",
      "---------------------------\n",
      "\n",
      "release_type Type: object\n",
      "Number unique values: 11.\n"
     ]
    },
    {
     "data": {
      "text/html": [
       "<div>\n",
       "<style scoped>\n",
       "    .dataframe tbody tr th:only-of-type {\n",
       "        vertical-align: middle;\n",
       "    }\n",
       "\n",
       "    .dataframe tbody tr th {\n",
       "        vertical-align: top;\n",
       "    }\n",
       "\n",
       "    .dataframe thead th {\n",
       "        text-align: right;\n",
       "    }\n",
       "</style>\n",
       "<table border=\"1\" class=\"dataframe\">\n",
       "  <thead>\n",
       "    <tr style=\"text-align: right;\">\n",
       "      <th></th>\n",
       "      <th>release_type</th>\n",
       "    </tr>\n",
       "  </thead>\n",
       "  <tbody>\n",
       "    <tr>\n",
       "      <th>Parole</th>\n",
       "      <td>9810</td>\n",
       "    </tr>\n",
       "    <tr>\n",
       "      <th>Parole Granted</th>\n",
       "      <td>5577</td>\n",
       "    </tr>\n",
       "    <tr>\n",
       "      <th>Discharged – End of Sentence</th>\n",
       "      <td>5007</td>\n",
       "    </tr>\n",
       "    <tr>\n",
       "      <th>Discharged - Expiration of Sentence</th>\n",
       "      <td>2335</td>\n",
       "    </tr>\n",
       "    <tr>\n",
       "      <th>Released to Special Sentence</th>\n",
       "      <td>401</td>\n",
       "    </tr>\n",
       "    <tr>\n",
       "      <th>Special Sentence</th>\n",
       "      <td>347</td>\n",
       "    </tr>\n",
       "    <tr>\n",
       "      <th>Paroled w/Immediate Discharge</th>\n",
       "      <td>334</td>\n",
       "    </tr>\n",
       "    <tr>\n",
       "      <th>Paroled to Detainer - Out of State</th>\n",
       "      <td>137</td>\n",
       "    </tr>\n",
       "    <tr>\n",
       "      <th>Paroled to Detainer - INS</th>\n",
       "      <td>134</td>\n",
       "    </tr>\n",
       "    <tr>\n",
       "      <th>Paroled to Detainer - U.S. Marshall</th>\n",
       "      <td>77</td>\n",
       "    </tr>\n",
       "    <tr>\n",
       "      <th>Paroled to Detainer - Iowa</th>\n",
       "      <td>66</td>\n",
       "    </tr>\n",
       "  </tbody>\n",
       "</table>\n",
       "</div>"
      ],
      "text/plain": [
       "                                     release_type\n",
       "Parole                                       9810\n",
       "Parole Granted                               5577\n",
       "Discharged – End of Sentence                 5007\n",
       "Discharged - Expiration of Sentence          2335\n",
       "Released to Special Sentence                  401\n",
       "Special Sentence                              347\n",
       "Paroled w/Immediate Discharge                 334\n",
       "Paroled to Detainer - Out of State            137\n",
       "Paroled to Detainer - INS                     134\n",
       "Paroled to Detainer - U.S. Marshall            77\n",
       "Paroled to Detainer - Iowa                     66"
      ]
     },
     "metadata": {},
     "output_type": "display_data"
    }
   ],
   "source": [
    "check_unique(df, columns=['super_dist','release_type']) #,'target_pop','crime_type','crime_class'])"
   ]
  },
  {
   "cell_type": "code",
   "execution_count": 20,
   "metadata": {},
   "outputs": [
    {
     "name": "stdout",
     "output_type": "stream",
     "text": [
      "\n",
      "----------------------------\n",
      "\n",
      "# of Identified Null Values:\n"
     ]
    },
    {
     "data": {
      "text/html": [
       "<div>\n",
       "<style scoped>\n",
       "    .dataframe tbody tr th:only-of-type {\n",
       "        vertical-align: middle;\n",
       "    }\n",
       "\n",
       "    .dataframe tbody tr th {\n",
       "        vertical-align: top;\n",
       "    }\n",
       "\n",
       "    .dataframe thead th {\n",
       "        text-align: right;\n",
       "    }\n",
       "</style>\n",
       "<table border=\"1\" class=\"dataframe\">\n",
       "  <thead>\n",
       "    <tr style=\"text-align: right;\">\n",
       "      <th></th>\n",
       "      <th>Null values</th>\n",
       "      <th>Total Values</th>\n",
       "      <th>Percent</th>\n",
       "    </tr>\n",
       "    <tr>\n",
       "      <th>Column</th>\n",
       "      <th></th>\n",
       "      <th></th>\n",
       "      <th></th>\n",
       "    </tr>\n",
       "  </thead>\n",
       "  <tbody>\n",
       "    <tr>\n",
       "      <th>yr_released</th>\n",
       "      <td>0</td>\n",
       "      <td>24225</td>\n",
       "      <td>0.0</td>\n",
       "    </tr>\n",
       "    <tr>\n",
       "      <th>report_year</th>\n",
       "      <td>0</td>\n",
       "      <td>24225</td>\n",
       "      <td>0.0</td>\n",
       "    </tr>\n",
       "    <tr>\n",
       "      <th>race_ethnicity</th>\n",
       "      <td>0</td>\n",
       "      <td>24225</td>\n",
       "      <td>0.0</td>\n",
       "    </tr>\n",
       "    <tr>\n",
       "      <th>age_released</th>\n",
       "      <td>0</td>\n",
       "      <td>24225</td>\n",
       "      <td>0.0</td>\n",
       "    </tr>\n",
       "    <tr>\n",
       "      <th>crime_class</th>\n",
       "      <td>0</td>\n",
       "      <td>24225</td>\n",
       "      <td>0.0</td>\n",
       "    </tr>\n",
       "    <tr>\n",
       "      <th>crime_type</th>\n",
       "      <td>0</td>\n",
       "      <td>24225</td>\n",
       "      <td>0.0</td>\n",
       "    </tr>\n",
       "    <tr>\n",
       "      <th>crime_subtype</th>\n",
       "      <td>0</td>\n",
       "      <td>24225</td>\n",
       "      <td>0.0</td>\n",
       "    </tr>\n",
       "    <tr>\n",
       "      <th>release_type</th>\n",
       "      <td>0</td>\n",
       "      <td>24225</td>\n",
       "      <td>0.0</td>\n",
       "    </tr>\n",
       "    <tr>\n",
       "      <th>super_dist</th>\n",
       "      <td>0</td>\n",
       "      <td>24225</td>\n",
       "      <td>0.0</td>\n",
       "    </tr>\n",
       "    <tr>\n",
       "      <th>recidivist</th>\n",
       "      <td>0</td>\n",
       "      <td>24225</td>\n",
       "      <td>0.0</td>\n",
       "    </tr>\n",
       "    <tr>\n",
       "      <th>target_pop</th>\n",
       "      <td>0</td>\n",
       "      <td>24225</td>\n",
       "      <td>0.0</td>\n",
       "    </tr>\n",
       "    <tr>\n",
       "      <th>sex</th>\n",
       "      <td>0</td>\n",
       "      <td>24225</td>\n",
       "      <td>0.0</td>\n",
       "    </tr>\n",
       "  </tbody>\n",
       "</table>\n",
       "</div>"
      ],
      "text/plain": [
       "                Null values  Total Values  Percent\n",
       "Column                                            \n",
       "yr_released               0         24225      0.0\n",
       "report_year               0         24225      0.0\n",
       "race_ethnicity            0         24225      0.0\n",
       "age_released              0         24225      0.0\n",
       "crime_class               0         24225      0.0\n",
       "crime_type                0         24225      0.0\n",
       "crime_subtype             0         24225      0.0\n",
       "release_type              0         24225      0.0\n",
       "super_dist                0         24225      0.0\n",
       "recidivist                0         24225      0.0\n",
       "target_pop                0         24225      0.0\n",
       "sex                       0         24225      0.0"
      ]
     },
     "metadata": {},
     "output_type": "display_data"
    }
   ],
   "source": [
    "# Filling NA's in super_dist and release_type\n",
    "df['super_dist'].fillna(\"unknown\", inplace=True)\n",
    "\n",
    "check_null(df)"
   ]
  },
  {
   "cell_type": "markdown",
   "metadata": {},
   "source": [
    "## COMBINING AND REMAPPING CLASSES"
   ]
  },
  {
   "cell_type": "markdown",
   "metadata": {},
   "source": [
    "### Remapping race_ethnicity"
   ]
  },
  {
   "cell_type": "code",
   "execution_count": 21,
   "metadata": {},
   "outputs": [
    {
     "data": {
      "text/plain": [
       "White - Non-Hispanic                               16460\n",
       "Black - Non-Hispanic                                5687\n",
       "White - Hispanic                                    1365\n",
       "American Indian or Alaska Native - Non-Hispanic      463\n",
       "Asian or Pacific Islander - Non-Hispanic             175\n",
       "Black - Hispanic                                      36\n",
       "American Indian or Alaska Native - Hispanic           19\n",
       "White -                                               12\n",
       "Asian or Pacific Islander - Hispanic                   5\n",
       "Black -                                                2\n",
       "N/A -                                                  1\n",
       "Name: race_ethnicity, dtype: int64"
      ]
     },
     "execution_count": 21,
     "metadata": {},
     "output_type": "execute_result"
    }
   ],
   "source": [
    "df.race_ethnicity.value_counts()"
   ]
  },
  {
   "cell_type": "markdown",
   "metadata": {},
   "source": [
    "- for race_ethnicity:\n",
    "    - Going to combine hispanic and non-hispanic "
   ]
  },
  {
   "cell_type": "code",
   "execution_count": 22,
   "metadata": {},
   "outputs": [],
   "source": [
    "race_ethnicity_map = {'White - Non-Hispanic':'White',\n",
    "                        'Black - Non-Hispanic': 'Black',\n",
    "                        'White - Hispanic' : 'Hispanic',\n",
    "                        'American Indian or Alaska Native - Non-Hispanic' : 'American Native',\n",
    "                        'Asian or Pacific Islander - Non-Hispanic' : 'Asian or Pacific Islander',\n",
    "                        'Black - Hispanic' : 'Black',\n",
    "                        'American Indian or Alaska Native - Hispanic':'American Native',\n",
    "                        'White -' : 'White',\n",
    "                        'Asian or Pacific Islander - Hispanic' : 'Asian or Pacific Islander',\n",
    "                        'N/A -' : np.nan,\n",
    "                        'Black -':'Black'}"
   ]
  },
  {
   "cell_type": "code",
   "execution_count": 23,
   "metadata": {},
   "outputs": [
    {
     "name": "stdout",
     "output_type": "stream",
     "text": [
      "<class 'pandas.core.frame.DataFrame'>\n",
      "Int64Index: 24225 entries, 0 to 26019\n",
      "Data columns (total 12 columns):\n",
      "yr_released       24225 non-null int64\n",
      "report_year       24225 non-null int64\n",
      "race_ethnicity    24224 non-null object\n",
      "age_released      24225 non-null object\n",
      "crime_class       24225 non-null object\n",
      "crime_type        24225 non-null object\n",
      "crime_subtype     24225 non-null object\n",
      "release_type      24225 non-null object\n",
      "super_dist        24225 non-null object\n",
      "recidivist        24225 non-null object\n",
      "target_pop        24225 non-null object\n",
      "sex               24225 non-null object\n",
      "dtypes: int64(2), object(10)\n",
      "memory usage: 2.4+ MB\n"
     ]
    }
   ],
   "source": [
    "df['race_ethnicity'] = df['race_ethnicity'].map(race_ethnicity_map)\n",
    "df.info()"
   ]
  },
  {
   "cell_type": "markdown",
   "metadata": {},
   "source": [
    "### Remapping crime_class\n",
    "- for crime_class:\n",
    "    - Combine 'Other Felony' and 'Other Felony (Old Code)' -> nan\n",
    "    - Other Misdemeanor -> np.nan\n",
    "    - Felony - Mandatory Minimum -> np.nan\n",
    "    - Special Sentence 2005 -> Sex Offender\n",
    "    - 'Sexual Predator Community Supervision' -> 'Sex Offender'\n",
    "    - Other Felony -> np.nan\n",
    "    "
   ]
  },
  {
   "cell_type": "markdown",
   "metadata": {},
   "source": [
    "### Adding a simple felony true false category"
   ]
  },
  {
   "cell_type": "code",
   "execution_count": 24,
   "metadata": {},
   "outputs": [
    {
     "data": {
      "text/plain": [
       "True     19685\n",
       "False     4540\n",
       "Name: crime_class, dtype: int64"
      ]
     },
     "execution_count": 24,
     "metadata": {},
     "output_type": "execute_result"
    }
   ],
   "source": [
    "df.crime_class.str.contains('felony',case=False).value_counts()"
   ]
  },
  {
   "cell_type": "code",
   "execution_count": 25,
   "metadata": {},
   "outputs": [],
   "source": [
    "df['felony'] = df['crime_class'].str.contains('felony',case=False)\n",
    "# check_column(df['felony'])"
   ]
  },
  {
   "cell_type": "code",
   "execution_count": 26,
   "metadata": {},
   "outputs": [
    {
     "data": {
      "text/plain": [
       "D Felony                                    9786\n",
       "C Felony                                    6453\n",
       "Aggravated Misdemeanor                      4327\n",
       "B Felony                                    1716\n",
       "Felony - Enhancement to Original Penalty    1488\n",
       "Felony - Enhanced                            220\n",
       "Serious Misdemeanor                          139\n",
       "Special Sentence 2005                         69\n",
       "Felony - Mandatory Minimum                    10\n",
       "Other Felony                                   6\n",
       "A Felony                                       4\n",
       "Simple Misdemeanor                             3\n",
       "Sexual Predator Community Supervision          2\n",
       "Other Felony (Old Code)                        2\n",
       "Name: crime_class, dtype: int64"
      ]
     },
     "execution_count": 26,
     "metadata": {},
     "output_type": "execute_result"
    }
   ],
   "source": [
    "df['crime_class'].value_counts()"
   ]
  },
  {
   "cell_type": "code",
   "execution_count": null,
   "metadata": {},
   "outputs": [],
   "source": []
  },
  {
   "cell_type": "code",
   "execution_count": 27,
   "metadata": {},
   "outputs": [
    {
     "data": {
      "text/plain": [
       "{'Other Felony (Old Code)': nan,\n",
       " 'Other Misdemeanor': nan,\n",
       " 'Felony - Mandatory Minimum': nan,\n",
       " 'Special Sentence 2005': 'Sex Offender',\n",
       " 'Other Felony': nan,\n",
       " 'Sexual Predator Community Supervision': 'Sex Offender',\n",
       " 'D Felony': 'D Felony',\n",
       " 'C Felony': 'C Felony',\n",
       " 'B Felony': 'B Felony',\n",
       " 'A Felony': 'A Felony',\n",
       " 'Aggravated Misdemeanor': 'Aggravated Misdemeanor',\n",
       " 'Felony - Enhancement to Original Penalty': 'Felony - Enhancement to Original Penalty',\n",
       " 'Felony - Enhanced': 'Felony - Enhanced',\n",
       " 'Serious Misdemeanor': 'Serious Misdemeanor',\n",
       " 'Simple Misdemeanor': 'Simple Misdemeanor'}"
      ]
     },
     "execution_count": 27,
     "metadata": {},
     "output_type": "execute_result"
    }
   ],
   "source": [
    "crime_class_map = {'Other Felony (Old Code)': np.nan ,#or other felony\n",
    "                  'Other Misdemeanor':np.nan,\n",
    "                   'Felony - Mandatory Minimum':np.nan, # if minimum then lowest sentence ==  D Felony\n",
    "                   'Special Sentence 2005': 'Sex Offender',\n",
    "                   'Other Felony' : np.nan ,\n",
    "                   'Sexual Predator Community Supervision' : 'Sex Offender',\n",
    "                   'D Felony': 'D Felony',\n",
    "                   'C Felony' :'C Felony',\n",
    "                   'B Felony' : 'B Felony',\n",
    "                   'A Felony' : 'A Felony',\n",
    "                   'Aggravated Misdemeanor':'Aggravated Misdemeanor',\n",
    "                   'Felony - Enhancement to Original Penalty':'Felony - Enhancement to Original Penalty',\n",
    "                   'Felony - Enhanced':'Felony - Enhanced' ,\n",
    "                   'Serious Misdemeanor':'Serious Misdemeanor',\n",
    "                   'Simple Misdemeanor':'Simple Misdemeanor'}\n",
    "crime_class_map"
   ]
  },
  {
   "cell_type": "code",
   "execution_count": 28,
   "metadata": {},
   "outputs": [],
   "source": [
    "# crime_class = df['crime_class']\n",
    "# crime_class.value_counts()"
   ]
  },
  {
   "cell_type": "code",
   "execution_count": 29,
   "metadata": {},
   "outputs": [
    {
     "name": "stdout",
     "output_type": "stream",
     "text": [
      "<class 'pandas.core.frame.DataFrame'>\n",
      "Int64Index: 24225 entries, 0 to 26019\n",
      "Data columns (total 13 columns):\n",
      "yr_released       24225 non-null int64\n",
      "report_year       24225 non-null int64\n",
      "race_ethnicity    24224 non-null object\n",
      "age_released      24225 non-null object\n",
      "crime_class       24207 non-null object\n",
      "crime_type        24225 non-null object\n",
      "crime_subtype     24225 non-null object\n",
      "release_type      24225 non-null object\n",
      "super_dist        24225 non-null object\n",
      "recidivist        24225 non-null object\n",
      "target_pop        24225 non-null object\n",
      "sex               24225 non-null object\n",
      "felony            24225 non-null bool\n",
      "dtypes: bool(1), int64(2), object(10)\n",
      "memory usage: 2.4+ MB\n"
     ]
    }
   ],
   "source": [
    "df['crime_class'] = df['crime_class'].map(crime_class_map)\n",
    "df.info()"
   ]
  },
  {
   "cell_type": "markdown",
   "metadata": {},
   "source": [
    "### Remapping release_type\n",
    "**DECIDED NOT TO SINCE THIS COULD BE AN IMPORTANT LEVEL OF NUANCE**\n",
    "- Combine Parole Grant and Parole and Paroled w/ Immediate Discharge [?]\n",
    "- Combine Discharged - End of Sentence and Discharged - Expiration of Sentence\n",
    "- **unknown...?** (keeping but consider dropping\n",
    "- Combine Released to Special Sentence and Special Sentence\n",
    "- Combine Paroled to Detainer - Out of State, Paroled to Detainer - INS, Paroled to Detainer - U.S. Marshall, Paroled to Detainer - Iowa. "
   ]
  },
  {
   "cell_type": "code",
   "execution_count": 30,
   "metadata": {},
   "outputs": [
    {
     "data": {
      "text/plain": [
       "Parole                                 9810\n",
       "Parole Granted                         5577\n",
       "Discharged – End of Sentence           5007\n",
       "Discharged - Expiration of Sentence    2335\n",
       "Released to Special Sentence            401\n",
       "Special Sentence                        347\n",
       "Paroled w/Immediate Discharge           334\n",
       "Paroled to Detainer - Out of State      137\n",
       "Paroled to Detainer - INS               134\n",
       "Paroled to Detainer - U.S. Marshall      77\n",
       "Paroled to Detainer - Iowa               66\n",
       "Name: release_type, dtype: int64"
      ]
     },
     "execution_count": 30,
     "metadata": {},
     "output_type": "execute_result"
    }
   ],
   "source": [
    "df['release_type'].value_counts()"
   ]
  },
  {
   "cell_type": "code",
   "execution_count": 31,
   "metadata": {},
   "outputs": [],
   "source": [
    "# release_type_map = {'Parole': 'Paroled',\n",
    "#                     'Discharged – End of Sentence': 'Discharged - End of Sentence',\n",
    "#                     'Special Sentence':'Special Sentence',\n",
    "#                     'Parole Granted': 'Paroled',\n",
    "#                     'Discharged - Expiration of Sentence' : 'Discharged - End of Sentence',\n",
    "#                     'Paroled w/Immediate Discharge': 'Paroled',\n",
    "#                     'Paroled to Detainer - Iowa':'Paroled to Detainer',\n",
    "#                     'Paroled to Detainer - U.S. Marshall':'Paroled to Detainer',\n",
    "#                     'Paroled to Detainer - Out of State':'Paroled to Detainer',\n",
    "#                     'Released to Special Sentence':'Special Sentence',\n",
    "#                     'Paroled to Detainer - INS':'Paroled to Detainer',\n",
    "#                     'unknown':np.nan}"
   ]
  },
  {
   "cell_type": "code",
   "execution_count": 32,
   "metadata": {},
   "outputs": [],
   "source": [
    "# df['release_type_map'] = df['release_type'].map(release_type_map)\n",
    "# df['release_type_map'].value_counts()"
   ]
  },
  {
   "cell_type": "markdown",
   "metadata": {},
   "source": [
    "### Remapping binaries ( recidivist, target_pop, sex)\n",
    "- Yes = 1\n",
    "- No = 0\n",
    "\n",
    "- Male = 0\n",
    "- Female = 1"
   ]
  },
  {
   "cell_type": "code",
   "execution_count": 33,
   "metadata": {},
   "outputs": [],
   "source": [
    "recidivist_map = {'No':0,'Yes':1}\n",
    "target_pop_map = {'No':0,'Yes':1}\n",
    "sex_map = {'Male':0,'Female':1}"
   ]
  },
  {
   "cell_type": "code",
   "execution_count": 34,
   "metadata": {},
   "outputs": [
    {
     "data": {
      "text/plain": [
       "0    15894\n",
       "1     8331\n",
       "Name: recidivist, dtype: int64"
      ]
     },
     "execution_count": 34,
     "metadata": {},
     "output_type": "execute_result"
    }
   ],
   "source": [
    "df['recidivist'] = df['recidivist'].map(recidivist_map)\n",
    "df['recidivist'].value_counts()"
   ]
  },
  {
   "cell_type": "code",
   "execution_count": 35,
   "metadata": {},
   "outputs": [
    {
     "data": {
      "text/plain": [
       "1    13807\n",
       "0    10418\n",
       "Name: target_pop, dtype: int64"
      ]
     },
     "execution_count": 35,
     "metadata": {},
     "output_type": "execute_result"
    }
   ],
   "source": [
    "df['target_pop'] = df['target_pop'].map(target_pop_map)\n",
    "df['target_pop'].value_counts()"
   ]
  },
  {
   "cell_type": "code",
   "execution_count": 36,
   "metadata": {},
   "outputs": [
    {
     "data": {
      "text/plain": [
       "0    21050\n",
       "1     3175\n",
       "Name: sex, dtype: int64"
      ]
     },
     "execution_count": 36,
     "metadata": {},
     "output_type": "execute_result"
    }
   ],
   "source": [
    "df['sex'] = df['sex'].map(sex_map)\n",
    "df['sex'].value_counts()"
   ]
  },
  {
   "cell_type": "code",
   "execution_count": 37,
   "metadata": {},
   "outputs": [
    {
     "name": "stdout",
     "output_type": "stream",
     "text": [
      "<class 'pandas.core.frame.DataFrame'>\n",
      "Int64Index: 24225 entries, 0 to 26019\n",
      "Data columns (total 13 columns):\n",
      "yr_released       24225 non-null int64\n",
      "report_year       24225 non-null int64\n",
      "race_ethnicity    24224 non-null object\n",
      "age_released      24225 non-null object\n",
      "crime_class       24207 non-null object\n",
      "crime_type        24225 non-null object\n",
      "crime_subtype     24225 non-null object\n",
      "release_type      24225 non-null object\n",
      "super_dist        24225 non-null object\n",
      "recidivist        24225 non-null int64\n",
      "target_pop        24225 non-null int64\n",
      "sex               24225 non-null int64\n",
      "felony            24225 non-null bool\n",
      "dtypes: bool(1), int64(5), object(7)\n",
      "memory usage: 2.4+ MB\n"
     ]
    }
   ],
   "source": [
    "df.info()"
   ]
  },
  {
   "cell_type": "markdown",
   "metadata": {},
   "source": [
    "#### Dropping all  values replaced with np.nan"
   ]
  },
  {
   "cell_type": "code",
   "execution_count": 38,
   "metadata": {
    "scrolled": false
   },
   "outputs": [
    {
     "name": "stdout",
     "output_type": "stream",
     "text": [
      "\n",
      "----------------------------\n",
      "\n",
      "# of Identified Null Values:\n"
     ]
    },
    {
     "data": {
      "text/html": [
       "<div>\n",
       "<style scoped>\n",
       "    .dataframe tbody tr th:only-of-type {\n",
       "        vertical-align: middle;\n",
       "    }\n",
       "\n",
       "    .dataframe tbody tr th {\n",
       "        vertical-align: top;\n",
       "    }\n",
       "\n",
       "    .dataframe thead th {\n",
       "        text-align: right;\n",
       "    }\n",
       "</style>\n",
       "<table border=\"1\" class=\"dataframe\">\n",
       "  <thead>\n",
       "    <tr style=\"text-align: right;\">\n",
       "      <th></th>\n",
       "      <th>Null values</th>\n",
       "      <th>Total Values</th>\n",
       "      <th>Percent</th>\n",
       "    </tr>\n",
       "    <tr>\n",
       "      <th>Column</th>\n",
       "      <th></th>\n",
       "      <th></th>\n",
       "      <th></th>\n",
       "    </tr>\n",
       "  </thead>\n",
       "  <tbody>\n",
       "    <tr>\n",
       "      <th>yr_released</th>\n",
       "      <td>0</td>\n",
       "      <td>24225</td>\n",
       "      <td>0.000</td>\n",
       "    </tr>\n",
       "    <tr>\n",
       "      <th>report_year</th>\n",
       "      <td>0</td>\n",
       "      <td>24225</td>\n",
       "      <td>0.000</td>\n",
       "    </tr>\n",
       "    <tr>\n",
       "      <th>race_ethnicity</th>\n",
       "      <td>1</td>\n",
       "      <td>24225</td>\n",
       "      <td>0.004</td>\n",
       "    </tr>\n",
       "    <tr>\n",
       "      <th>age_released</th>\n",
       "      <td>0</td>\n",
       "      <td>24225</td>\n",
       "      <td>0.000</td>\n",
       "    </tr>\n",
       "    <tr>\n",
       "      <th>crime_class</th>\n",
       "      <td>18</td>\n",
       "      <td>24225</td>\n",
       "      <td>0.074</td>\n",
       "    </tr>\n",
       "    <tr>\n",
       "      <th>crime_type</th>\n",
       "      <td>0</td>\n",
       "      <td>24225</td>\n",
       "      <td>0.000</td>\n",
       "    </tr>\n",
       "    <tr>\n",
       "      <th>crime_subtype</th>\n",
       "      <td>0</td>\n",
       "      <td>24225</td>\n",
       "      <td>0.000</td>\n",
       "    </tr>\n",
       "    <tr>\n",
       "      <th>release_type</th>\n",
       "      <td>0</td>\n",
       "      <td>24225</td>\n",
       "      <td>0.000</td>\n",
       "    </tr>\n",
       "    <tr>\n",
       "      <th>super_dist</th>\n",
       "      <td>0</td>\n",
       "      <td>24225</td>\n",
       "      <td>0.000</td>\n",
       "    </tr>\n",
       "    <tr>\n",
       "      <th>recidivist</th>\n",
       "      <td>0</td>\n",
       "      <td>24225</td>\n",
       "      <td>0.000</td>\n",
       "    </tr>\n",
       "    <tr>\n",
       "      <th>target_pop</th>\n",
       "      <td>0</td>\n",
       "      <td>24225</td>\n",
       "      <td>0.000</td>\n",
       "    </tr>\n",
       "    <tr>\n",
       "      <th>sex</th>\n",
       "      <td>0</td>\n",
       "      <td>24225</td>\n",
       "      <td>0.000</td>\n",
       "    </tr>\n",
       "    <tr>\n",
       "      <th>felony</th>\n",
       "      <td>0</td>\n",
       "      <td>24225</td>\n",
       "      <td>0.000</td>\n",
       "    </tr>\n",
       "  </tbody>\n",
       "</table>\n",
       "</div>"
      ],
      "text/plain": [
       "                Null values  Total Values  Percent\n",
       "Column                                            \n",
       "yr_released               0         24225    0.000\n",
       "report_year               0         24225    0.000\n",
       "race_ethnicity            1         24225    0.004\n",
       "age_released              0         24225    0.000\n",
       "crime_class              18         24225    0.074\n",
       "crime_type                0         24225    0.000\n",
       "crime_subtype             0         24225    0.000\n",
       "release_type              0         24225    0.000\n",
       "super_dist                0         24225    0.000\n",
       "recidivist                0         24225    0.000\n",
       "target_pop                0         24225    0.000\n",
       "sex                       0         24225    0.000\n",
       "felony                    0         24225    0.000"
      ]
     },
     "metadata": {},
     "output_type": "display_data"
    }
   ],
   "source": [
    "check_null(df)"
   ]
  },
  {
   "cell_type": "code",
   "execution_count": 39,
   "metadata": {},
   "outputs": [],
   "source": [
    "# stop"
   ]
  },
  {
   "cell_type": "code",
   "execution_count": 40,
   "metadata": {},
   "outputs": [
    {
     "name": "stdout",
     "output_type": "stream",
     "text": [
      "<class 'pandas.core.frame.DataFrame'>\n",
      "Int64Index: 24206 entries, 0 to 26019\n",
      "Data columns (total 13 columns):\n",
      "yr_released       24206 non-null int64\n",
      "report_year       24206 non-null int64\n",
      "race_ethnicity    24206 non-null object\n",
      "age_released      24206 non-null object\n",
      "crime_class       24206 non-null object\n",
      "crime_type        24206 non-null object\n",
      "crime_subtype     24206 non-null object\n",
      "release_type      24206 non-null object\n",
      "super_dist        24206 non-null object\n",
      "recidivist        24206 non-null int64\n",
      "target_pop        24206 non-null int64\n",
      "sex               24206 non-null int64\n",
      "felony            24206 non-null bool\n",
      "dtypes: bool(1), int64(5), object(7)\n",
      "memory usage: 2.4+ MB\n"
     ]
    }
   ],
   "source": [
    "df.dropna(inplace=True)\n",
    "df.info()"
   ]
  },
  {
   "cell_type": "markdown",
   "metadata": {},
   "source": [
    "## Notes on How to Treat/Encoding Classes\n",
    "- Numeric:\n",
    "    - yr_release\n",
    "    - recid_report_yr\n",
    "- Ordinal:\n",
    "    - [ ] age_at_release should be an ordinal label.\n",
    "- All others should be LabelEncoded\n",
    "    - [ ] crime_class_map\n",
    "    - [ ] race_ethnicity_map\n",
    "    - [ ] crime_type\n",
    "    - [ ] crime_subtype\n",
    "    - [ ] super_district\n",
    "    - [ ] release_type_map\n",
    "    - [x] target_pop_map\n",
    "    - [x] sex_map\n",
    "    - [x] recidivism_map\n",
    "    "
   ]
  },
  {
   "cell_type": "markdown",
   "metadata": {},
   "source": [
    "### Lists of Vars to encode"
   ]
  },
  {
   "cell_type": "code",
   "execution_count": 41,
   "metadata": {},
   "outputs": [],
   "source": [
    "# Defining lists to use later.\n",
    "vars_label_encode = ['race_ethnicity','crime_class','crime_type', 'crime_subtype', 'super_dist', 'release_type'] #, 'age_released']"
   ]
  },
  {
   "cell_type": "markdown",
   "metadata": {},
   "source": [
    "### Encoding age_at_release by mapping"
   ]
  },
  {
   "cell_type": "code",
   "execution_count": 42,
   "metadata": {},
   "outputs": [
    {
     "data": {
      "text/plain": [
       "{'Under 25': 0, '25-34': 1, '35-44': 2, '45-54': 3, '55 and Older': 4}"
      ]
     },
     "execution_count": 42,
     "metadata": {},
     "output_type": "execute_result"
    }
   ],
   "source": [
    "# Ordering age categories in a tuple and then turning into an array.\n",
    "age_ranges = ('Under 25','25-34', '35-44','45-54','55 and Older')\n",
    "age_codes = (0,1,2,3,4)\n",
    "# Zipping into Dictionary to Map onto Column\n",
    "age_map = dict(zip(age_ranges,age_codes))\n",
    "age_map"
   ]
  },
  {
   "cell_type": "code",
   "execution_count": 43,
   "metadata": {},
   "outputs": [
    {
     "data": {
      "text/plain": [
       "1    8876\n",
       "2    5844\n",
       "0    4229\n",
       "3    4075\n",
       "4    1182\n",
       "Name: age_released, dtype: int64"
      ]
     },
     "execution_count": 43,
     "metadata": {},
     "output_type": "execute_result"
    }
   ],
   "source": [
    "df['age_released'] = df['age_released'].map(age_map)\n",
    "df['age_released'].value_counts()"
   ]
  },
  {
   "cell_type": "code",
   "execution_count": 44,
   "metadata": {},
   "outputs": [
    {
     "name": "stdout",
     "output_type": "stream",
     "text": [
      "<class 'pandas.core.frame.DataFrame'>\n",
      "Int64Index: 24206 entries, 0 to 26019\n",
      "Data columns (total 13 columns):\n",
      "yr_released       24206 non-null int64\n",
      "report_year       24206 non-null int64\n",
      "race_ethnicity    24206 non-null object\n",
      "age_released      24206 non-null int64\n",
      "crime_class       24206 non-null object\n",
      "crime_type        24206 non-null object\n",
      "crime_subtype     24206 non-null object\n",
      "release_type      24206 non-null object\n",
      "super_dist        24206 non-null object\n",
      "recidivist        24206 non-null int64\n",
      "target_pop        24206 non-null int64\n",
      "sex               24206 non-null int64\n",
      "felony            24206 non-null bool\n",
      "dtypes: bool(1), int64(6), object(6)\n",
      "memory usage: 2.4+ MB\n"
     ]
    }
   ],
   "source": [
    "df.info()"
   ]
  },
  {
   "cell_type": "markdown",
   "metadata": {},
   "source": [
    "### ~~Encoding Crime Class by ~~"
   ]
  },
  {
   "cell_type": "code",
   "execution_count": null,
   "metadata": {},
   "outputs": [],
   "source": []
  },
  {
   "cell_type": "markdown",
   "metadata": {},
   "source": [
    "### Save full df with original and remapped before dropping original."
   ]
  },
  {
   "cell_type": "code",
   "execution_count": 45,
   "metadata": {},
   "outputs": [],
   "source": [
    "# saving mapped data\n",
    "# df.to_csv('recidivism_remapped_classes_kept_release_type.csv')\n"
   ]
  },
  {
   "cell_type": "code",
   "execution_count": 46,
   "metadata": {},
   "outputs": [],
   "source": [
    "# vars_to_drop = ['report_year']\n",
    "# for x in vars_to_drop:\n",
    "#     df.drop(x,axis=1,inplace=True)\n",
    "# df.info()"
   ]
  },
  {
   "cell_type": "markdown",
   "metadata": {},
   "source": [
    "# Jump to Here and Load CSV\n"
   ]
  },
  {
   "cell_type": "code",
   "execution_count": 47,
   "metadata": {},
   "outputs": [],
   "source": [
    "from bs_ds.bamboo import *"
   ]
  },
  {
   "cell_type": "code",
   "execution_count": 48,
   "metadata": {},
   "outputs": [],
   "source": [
    "from bs_ds.imports import *"
   ]
  },
  {
   "cell_type": "code",
   "execution_count": 49,
   "metadata": {},
   "outputs": [],
   "source": [
    "# df.to_csv('df_remapped_origs_dropped.csv')\n",
    "# df = pd.read_csv('recidivism_remapped_classes.csv')\n",
    "# df.drop('Unnamed: 0',axis=1,inplace=True)"
   ]
  },
  {
   "cell_type": "markdown",
   "metadata": {},
   "source": [
    "# Re-inspecting dataframe prior to EDA\n",
    "~~Converting categorical variables to category type before encoding~~\n"
   ]
  },
  {
   "cell_type": "code",
   "execution_count": 50,
   "metadata": {},
   "outputs": [
    {
     "name": "stdout",
     "output_type": "stream",
     "text": [
      "<class 'pandas.core.frame.DataFrame'>\n",
      "Int64Index: 24206 entries, 0 to 26019\n",
      "Data columns (total 13 columns):\n",
      "yr_released       24206 non-null int64\n",
      "report_year       24206 non-null int64\n",
      "race_ethnicity    24206 non-null object\n",
      "age_released      24206 non-null int64\n",
      "crime_class       24206 non-null object\n",
      "crime_type        24206 non-null object\n",
      "crime_subtype     24206 non-null object\n",
      "release_type      24206 non-null object\n",
      "super_dist        24206 non-null object\n",
      "recidivist        24206 non-null int64\n",
      "target_pop        24206 non-null int64\n",
      "sex               24206 non-null int64\n",
      "felony            24206 non-null bool\n",
      "dtypes: bool(1), int64(6), object(6)\n",
      "memory usage: 2.4+ MB\n"
     ]
    },
    {
     "data": {
      "text/plain": [
       "None"
      ]
     },
     "metadata": {},
     "output_type": "display_data"
    },
    {
     "data": {
      "text/html": [
       "<div>\n",
       "<style scoped>\n",
       "    .dataframe tbody tr th:only-of-type {\n",
       "        vertical-align: middle;\n",
       "    }\n",
       "\n",
       "    .dataframe tbody tr th {\n",
       "        vertical-align: top;\n",
       "    }\n",
       "\n",
       "    .dataframe thead th {\n",
       "        text-align: right;\n",
       "    }\n",
       "</style>\n",
       "<table border=\"1\" class=\"dataframe\">\n",
       "  <thead>\n",
       "    <tr style=\"text-align: right;\">\n",
       "      <th></th>\n",
       "      <th>yr_released</th>\n",
       "      <th>report_year</th>\n",
       "      <th>age_released</th>\n",
       "      <th>recidivist</th>\n",
       "      <th>target_pop</th>\n",
       "      <th>sex</th>\n",
       "    </tr>\n",
       "  </thead>\n",
       "  <tbody>\n",
       "    <tr>\n",
       "      <th>count</th>\n",
       "      <td>24206.0000</td>\n",
       "      <td>24206.0000</td>\n",
       "      <td>24206.0000</td>\n",
       "      <td>24206.000</td>\n",
       "      <td>24206.0000</td>\n",
       "      <td>24206.0000</td>\n",
       "    </tr>\n",
       "    <tr>\n",
       "      <th>mean</th>\n",
       "      <td>2012.4997</td>\n",
       "      <td>2015.4997</td>\n",
       "      <td>1.5499</td>\n",
       "      <td>0.344</td>\n",
       "      <td>0.5701</td>\n",
       "      <td>0.1311</td>\n",
       "    </tr>\n",
       "    <tr>\n",
       "      <th>std</th>\n",
       "      <td>1.6764</td>\n",
       "      <td>1.6764</td>\n",
       "      <td>1.1075</td>\n",
       "      <td>0.475</td>\n",
       "      <td>0.4951</td>\n",
       "      <td>0.3375</td>\n",
       "    </tr>\n",
       "    <tr>\n",
       "      <th>min</th>\n",
       "      <td>2010.0000</td>\n",
       "      <td>2013.0000</td>\n",
       "      <td>0.0000</td>\n",
       "      <td>0.000</td>\n",
       "      <td>0.0000</td>\n",
       "      <td>0.0000</td>\n",
       "    </tr>\n",
       "    <tr>\n",
       "      <th>25%</th>\n",
       "      <td>2011.0000</td>\n",
       "      <td>2014.0000</td>\n",
       "      <td>1.0000</td>\n",
       "      <td>0.000</td>\n",
       "      <td>0.0000</td>\n",
       "      <td>0.0000</td>\n",
       "    </tr>\n",
       "    <tr>\n",
       "      <th>50%</th>\n",
       "      <td>2012.0000</td>\n",
       "      <td>2015.0000</td>\n",
       "      <td>1.0000</td>\n",
       "      <td>0.000</td>\n",
       "      <td>1.0000</td>\n",
       "      <td>0.0000</td>\n",
       "    </tr>\n",
       "    <tr>\n",
       "      <th>75%</th>\n",
       "      <td>2014.0000</td>\n",
       "      <td>2017.0000</td>\n",
       "      <td>2.0000</td>\n",
       "      <td>1.000</td>\n",
       "      <td>1.0000</td>\n",
       "      <td>0.0000</td>\n",
       "    </tr>\n",
       "    <tr>\n",
       "      <th>max</th>\n",
       "      <td>2015.0000</td>\n",
       "      <td>2018.0000</td>\n",
       "      <td>4.0000</td>\n",
       "      <td>1.000</td>\n",
       "      <td>1.0000</td>\n",
       "      <td>1.0000</td>\n",
       "    </tr>\n",
       "  </tbody>\n",
       "</table>\n",
       "</div>"
      ],
      "text/plain": [
       "       yr_released  report_year  age_released  recidivist  target_pop         sex\n",
       "count   24206.0000   24206.0000    24206.0000   24206.000  24206.0000  24206.0000\n",
       "mean     2012.4997    2015.4997        1.5499       0.344      0.5701      0.1311\n",
       "std         1.6764       1.6764        1.1075       0.475      0.4951      0.3375\n",
       "min      2010.0000    2013.0000        0.0000       0.000      0.0000      0.0000\n",
       "25%      2011.0000    2014.0000        1.0000       0.000      0.0000      0.0000\n",
       "50%      2012.0000    2015.0000        1.0000       0.000      1.0000      0.0000\n",
       "75%      2014.0000    2017.0000        2.0000       1.000      1.0000      0.0000\n",
       "max      2015.0000    2018.0000        4.0000       1.000      1.0000      1.0000"
      ]
     },
     "metadata": {},
     "output_type": "display_data"
    },
    {
     "name": "stdout",
     "output_type": "stream",
     "text": [
      "\n",
      "---------------------------------------------------\n",
      "\n",
      "# of Identified Numeric Values in \"Object\" columns:\n"
     ]
    },
    {
     "data": {
      "text/html": [
       "<div>\n",
       "<style scoped>\n",
       "    .dataframe tbody tr th:only-of-type {\n",
       "        vertical-align: middle;\n",
       "    }\n",
       "\n",
       "    .dataframe tbody tr th {\n",
       "        vertical-align: top;\n",
       "    }\n",
       "\n",
       "    .dataframe thead th {\n",
       "        text-align: right;\n",
       "    }\n",
       "</style>\n",
       "<table border=\"1\" class=\"dataframe\">\n",
       "  <thead>\n",
       "    <tr style=\"text-align: right;\">\n",
       "      <th></th>\n",
       "      <th>Numeric values</th>\n",
       "      <th>Total Values</th>\n",
       "      <th>Percent</th>\n",
       "    </tr>\n",
       "    <tr>\n",
       "      <th>Column</th>\n",
       "      <th></th>\n",
       "      <th></th>\n",
       "      <th></th>\n",
       "    </tr>\n",
       "  </thead>\n",
       "  <tbody>\n",
       "  </tbody>\n",
       "</table>\n",
       "</div>"
      ],
      "text/plain": [
       "Empty DataFrame\n",
       "Columns: [Numeric values, Total Values, Percent]\n",
       "Index: []"
      ]
     },
     "metadata": {},
     "output_type": "display_data"
    },
    {
     "name": "stdout",
     "output_type": "stream",
     "text": [
      "\n",
      "----------------------------\n",
      "\n",
      "# of Identified Null Values:\n"
     ]
    },
    {
     "data": {
      "text/html": [
       "<div>\n",
       "<style scoped>\n",
       "    .dataframe tbody tr th:only-of-type {\n",
       "        vertical-align: middle;\n",
       "    }\n",
       "\n",
       "    .dataframe tbody tr th {\n",
       "        vertical-align: top;\n",
       "    }\n",
       "\n",
       "    .dataframe thead th {\n",
       "        text-align: right;\n",
       "    }\n",
       "</style>\n",
       "<table border=\"1\" class=\"dataframe\">\n",
       "  <thead>\n",
       "    <tr style=\"text-align: right;\">\n",
       "      <th></th>\n",
       "      <th>Null values</th>\n",
       "      <th>Total Values</th>\n",
       "      <th>Percent</th>\n",
       "    </tr>\n",
       "    <tr>\n",
       "      <th>Column</th>\n",
       "      <th></th>\n",
       "      <th></th>\n",
       "      <th></th>\n",
       "    </tr>\n",
       "  </thead>\n",
       "  <tbody>\n",
       "    <tr>\n",
       "      <th>yr_released</th>\n",
       "      <td>0</td>\n",
       "      <td>24206</td>\n",
       "      <td>0.0</td>\n",
       "    </tr>\n",
       "    <tr>\n",
       "      <th>report_year</th>\n",
       "      <td>0</td>\n",
       "      <td>24206</td>\n",
       "      <td>0.0</td>\n",
       "    </tr>\n",
       "    <tr>\n",
       "      <th>race_ethnicity</th>\n",
       "      <td>0</td>\n",
       "      <td>24206</td>\n",
       "      <td>0.0</td>\n",
       "    </tr>\n",
       "    <tr>\n",
       "      <th>age_released</th>\n",
       "      <td>0</td>\n",
       "      <td>24206</td>\n",
       "      <td>0.0</td>\n",
       "    </tr>\n",
       "    <tr>\n",
       "      <th>crime_class</th>\n",
       "      <td>0</td>\n",
       "      <td>24206</td>\n",
       "      <td>0.0</td>\n",
       "    </tr>\n",
       "    <tr>\n",
       "      <th>crime_type</th>\n",
       "      <td>0</td>\n",
       "      <td>24206</td>\n",
       "      <td>0.0</td>\n",
       "    </tr>\n",
       "    <tr>\n",
       "      <th>crime_subtype</th>\n",
       "      <td>0</td>\n",
       "      <td>24206</td>\n",
       "      <td>0.0</td>\n",
       "    </tr>\n",
       "    <tr>\n",
       "      <th>release_type</th>\n",
       "      <td>0</td>\n",
       "      <td>24206</td>\n",
       "      <td>0.0</td>\n",
       "    </tr>\n",
       "    <tr>\n",
       "      <th>super_dist</th>\n",
       "      <td>0</td>\n",
       "      <td>24206</td>\n",
       "      <td>0.0</td>\n",
       "    </tr>\n",
       "    <tr>\n",
       "      <th>recidivist</th>\n",
       "      <td>0</td>\n",
       "      <td>24206</td>\n",
       "      <td>0.0</td>\n",
       "    </tr>\n",
       "    <tr>\n",
       "      <th>target_pop</th>\n",
       "      <td>0</td>\n",
       "      <td>24206</td>\n",
       "      <td>0.0</td>\n",
       "    </tr>\n",
       "    <tr>\n",
       "      <th>sex</th>\n",
       "      <td>0</td>\n",
       "      <td>24206</td>\n",
       "      <td>0.0</td>\n",
       "    </tr>\n",
       "    <tr>\n",
       "      <th>felony</th>\n",
       "      <td>0</td>\n",
       "      <td>24206</td>\n",
       "      <td>0.0</td>\n",
       "    </tr>\n",
       "  </tbody>\n",
       "</table>\n",
       "</div>"
      ],
      "text/plain": [
       "                Null values  Total Values  Percent\n",
       "Column                                            \n",
       "yr_released               0         24206      0.0\n",
       "report_year               0         24206      0.0\n",
       "race_ethnicity            0         24206      0.0\n",
       "age_released              0         24206      0.0\n",
       "crime_class               0         24206      0.0\n",
       "crime_type                0         24206      0.0\n",
       "crime_subtype             0         24206      0.0\n",
       "release_type              0         24206      0.0\n",
       "super_dist                0         24206      0.0\n",
       "recidivist                0         24206      0.0\n",
       "target_pop                0         24206      0.0\n",
       "sex                       0         24206      0.0\n",
       "felony                    0         24206      0.0"
      ]
     },
     "metadata": {},
     "output_type": "display_data"
    },
    {
     "data": {
      "text/html": [
       "<div>\n",
       "<style scoped>\n",
       "    .dataframe tbody tr th:only-of-type {\n",
       "        vertical-align: middle;\n",
       "    }\n",
       "\n",
       "    .dataframe tbody tr th {\n",
       "        vertical-align: top;\n",
       "    }\n",
       "\n",
       "    .dataframe thead th {\n",
       "        text-align: right;\n",
       "    }\n",
       "</style>\n",
       "<table border=\"1\" class=\"dataframe\">\n",
       "  <thead>\n",
       "    <tr style=\"text-align: right;\">\n",
       "      <th></th>\n",
       "      <th>yr_released</th>\n",
       "      <th>report_year</th>\n",
       "      <th>race_ethnicity</th>\n",
       "      <th>age_released</th>\n",
       "      <th>crime_class</th>\n",
       "      <th>crime_type</th>\n",
       "      <th>crime_subtype</th>\n",
       "      <th>release_type</th>\n",
       "      <th>super_dist</th>\n",
       "      <th>recidivist</th>\n",
       "      <th>target_pop</th>\n",
       "      <th>sex</th>\n",
       "      <th>felony</th>\n",
       "    </tr>\n",
       "  </thead>\n",
       "  <tbody>\n",
       "    <tr>\n",
       "      <th>0</th>\n",
       "      <td>2010</td>\n",
       "      <td>2013</td>\n",
       "      <td>Black</td>\n",
       "      <td>1</td>\n",
       "      <td>C Felony</td>\n",
       "      <td>Violent</td>\n",
       "      <td>Robbery</td>\n",
       "      <td>Parole</td>\n",
       "      <td>7JD</td>\n",
       "      <td>1</td>\n",
       "      <td>1</td>\n",
       "      <td>0</td>\n",
       "      <td>True</td>\n",
       "    </tr>\n",
       "    <tr>\n",
       "      <th>1</th>\n",
       "      <td>2010</td>\n",
       "      <td>2013</td>\n",
       "      <td>White</td>\n",
       "      <td>1</td>\n",
       "      <td>D Felony</td>\n",
       "      <td>Property</td>\n",
       "      <td>Theft</td>\n",
       "      <td>Discharged – End of Sentence</td>\n",
       "      <td>unknown</td>\n",
       "      <td>1</td>\n",
       "      <td>0</td>\n",
       "      <td>0</td>\n",
       "      <td>True</td>\n",
       "    </tr>\n",
       "    <tr>\n",
       "      <th>2</th>\n",
       "      <td>2010</td>\n",
       "      <td>2013</td>\n",
       "      <td>White</td>\n",
       "      <td>2</td>\n",
       "      <td>B Felony</td>\n",
       "      <td>Drug</td>\n",
       "      <td>Trafficking</td>\n",
       "      <td>Parole</td>\n",
       "      <td>5JD</td>\n",
       "      <td>1</td>\n",
       "      <td>1</td>\n",
       "      <td>0</td>\n",
       "      <td>True</td>\n",
       "    </tr>\n",
       "  </tbody>\n",
       "</table>\n",
       "</div>"
      ],
      "text/plain": [
       "   yr_released  report_year race_ethnicity  age_released crime_class crime_type crime_subtype                  release_type super_dist  recidivist  target_pop  sex  felony\n",
       "0         2010         2013          Black             1    C Felony    Violent       Robbery                        Parole        7JD           1           1    0    True\n",
       "1         2010         2013          White             1    D Felony   Property         Theft  Discharged – End of Sentence    unknown           1           0    0    True\n",
       "2         2010         2013          White             2    B Felony       Drug   Trafficking                        Parole        5JD           1           1    0    True"
      ]
     },
     "metadata": {},
     "output_type": "display_data"
    }
   ],
   "source": [
    "inspect_df(df)"
   ]
  },
  {
   "cell_type": "code",
   "execution_count": 51,
   "metadata": {},
   "outputs": [],
   "source": [
    "# for col in df.dtype=='object':\n",
    "#     df[col] = df[col].astype('category')\n",
    "# df.info()"
   ]
  },
  {
   "cell_type": "markdown",
   "metadata": {},
   "source": [
    "### Encoding categorical columns using LabelLibrary()\n"
   ]
  },
  {
   "cell_type": "code",
   "execution_count": 52,
   "metadata": {},
   "outputs": [
    {
     "data": {
      "text/plain": [
       "yr_released        int64\n",
       "report_year        int64\n",
       "race_ethnicity    object\n",
       "age_released       int64\n",
       "crime_class       object\n",
       "crime_type        object\n",
       "crime_subtype     object\n",
       "release_type      object\n",
       "super_dist        object\n",
       "recidivist         int64\n",
       "target_pop         int64\n",
       "sex                int64\n",
       "felony              bool\n",
       "dtype: object"
      ]
     },
     "execution_count": 52,
     "metadata": {},
     "output_type": "execute_result"
    }
   ],
   "source": [
    "df.dtypes"
   ]
  },
  {
   "cell_type": "code",
   "execution_count": 53,
   "metadata": {},
   "outputs": [],
   "source": [
    "vars_label_encode = ['race_ethnicity', 'crime_class', 'crime_type', 'crime_subtype', 'super_dist', 'release_type','felony']"
   ]
  },
  {
   "cell_type": "code",
   "execution_count": 54,
   "metadata": {},
   "outputs": [
    {
     "data": {
      "text/html": [
       "<div>\n",
       "<style scoped>\n",
       "    .dataframe tbody tr th:only-of-type {\n",
       "        vertical-align: middle;\n",
       "    }\n",
       "\n",
       "    .dataframe tbody tr th {\n",
       "        vertical-align: top;\n",
       "    }\n",
       "\n",
       "    .dataframe thead th {\n",
       "        text-align: right;\n",
       "    }\n",
       "</style>\n",
       "<table border=\"1\" class=\"dataframe\">\n",
       "  <thead>\n",
       "    <tr style=\"text-align: right;\">\n",
       "      <th></th>\n",
       "      <th>yr_released</th>\n",
       "      <th>report_year</th>\n",
       "      <th>race_ethnicity</th>\n",
       "      <th>age_released</th>\n",
       "      <th>crime_class</th>\n",
       "      <th>crime_type</th>\n",
       "      <th>crime_subtype</th>\n",
       "      <th>release_type</th>\n",
       "      <th>super_dist</th>\n",
       "      <th>recidivist</th>\n",
       "      <th>target_pop</th>\n",
       "      <th>sex</th>\n",
       "      <th>felony</th>\n",
       "    </tr>\n",
       "  </thead>\n",
       "  <tbody>\n",
       "    <tr>\n",
       "      <th>0</th>\n",
       "      <td>2010</td>\n",
       "      <td>2013</td>\n",
       "      <td>2</td>\n",
       "      <td>1</td>\n",
       "      <td>3</td>\n",
       "      <td>4</td>\n",
       "      <td>16</td>\n",
       "      <td>2</td>\n",
       "      <td>6</td>\n",
       "      <td>1</td>\n",
       "      <td>1</td>\n",
       "      <td>0</td>\n",
       "      <td>1</td>\n",
       "    </tr>\n",
       "    <tr>\n",
       "      <th>1</th>\n",
       "      <td>2010</td>\n",
       "      <td>2013</td>\n",
       "      <td>4</td>\n",
       "      <td>1</td>\n",
       "      <td>4</td>\n",
       "      <td>2</td>\n",
       "      <td>21</td>\n",
       "      <td>1</td>\n",
       "      <td>10</td>\n",
       "      <td>1</td>\n",
       "      <td>0</td>\n",
       "      <td>0</td>\n",
       "      <td>1</td>\n",
       "    </tr>\n",
       "    <tr>\n",
       "      <th>2</th>\n",
       "      <td>2010</td>\n",
       "      <td>2013</td>\n",
       "      <td>4</td>\n",
       "      <td>2</td>\n",
       "      <td>2</td>\n",
       "      <td>0</td>\n",
       "      <td>23</td>\n",
       "      <td>2</td>\n",
       "      <td>4</td>\n",
       "      <td>1</td>\n",
       "      <td>1</td>\n",
       "      <td>0</td>\n",
       "      <td>1</td>\n",
       "    </tr>\n",
       "    <tr>\n",
       "      <th>3</th>\n",
       "      <td>2010</td>\n",
       "      <td>2013</td>\n",
       "      <td>4</td>\n",
       "      <td>1</td>\n",
       "      <td>2</td>\n",
       "      <td>1</td>\n",
       "      <td>11</td>\n",
       "      <td>2</td>\n",
       "      <td>5</td>\n",
       "      <td>0</td>\n",
       "      <td>1</td>\n",
       "      <td>0</td>\n",
       "      <td>1</td>\n",
       "    </tr>\n",
       "    <tr>\n",
       "      <th>4</th>\n",
       "      <td>2010</td>\n",
       "      <td>2013</td>\n",
       "      <td>2</td>\n",
       "      <td>2</td>\n",
       "      <td>4</td>\n",
       "      <td>4</td>\n",
       "      <td>3</td>\n",
       "      <td>1</td>\n",
       "      <td>10</td>\n",
       "      <td>1</td>\n",
       "      <td>0</td>\n",
       "      <td>0</td>\n",
       "      <td>1</td>\n",
       "    </tr>\n",
       "  </tbody>\n",
       "</table>\n",
       "</div>"
      ],
      "text/plain": [
       "   yr_released  report_year  race_ethnicity  age_released  crime_class  crime_type  crime_subtype  release_type  super_dist  recidivist  target_pop  sex  felony\n",
       "0         2010         2013               2             1            3           4             16             2           6           1           1    0       1\n",
       "1         2010         2013               4             1            4           2             21             1          10           1           0    0       1\n",
       "2         2010         2013               4             2            2           0             23             2           4           1           1    0       1\n",
       "3         2010         2013               4             1            2           1             11             2           5           0           1    0       1\n",
       "4         2010         2013               2             2            4           4              3             1          10           1           0    0       1"
      ]
     },
     "execution_count": 54,
     "metadata": {},
     "output_type": "execute_result"
    }
   ],
   "source": [
    "from bs_ds.bamboo import LabelLibrary\n",
    "lablib = LabelLibrary()\n",
    "df_code = lablib.fit_transform(df,vars_label_encode)\n",
    "\n",
    "df_code.head()"
   ]
  },
  {
   "cell_type": "markdown",
   "metadata": {},
   "source": [
    "# EDA"
   ]
  },
  {
   "cell_type": "code",
   "execution_count": 55,
   "metadata": {},
   "outputs": [
    {
     "name": "stdout",
     "output_type": "stream",
     "text": [
      "<class 'pandas.core.frame.DataFrame'>\n",
      "Int64Index: 24206 entries, 0 to 26019\n",
      "Data columns (total 13 columns):\n",
      "yr_released       24206 non-null int64\n",
      "report_year       24206 non-null int64\n",
      "race_ethnicity    24206 non-null int32\n",
      "age_released      24206 non-null int64\n",
      "crime_class       24206 non-null int32\n",
      "crime_type        24206 non-null int32\n",
      "crime_subtype     24206 non-null int32\n",
      "release_type      24206 non-null int32\n",
      "super_dist        24206 non-null int32\n",
      "recidivist        24206 non-null int64\n",
      "target_pop        24206 non-null int64\n",
      "sex               24206 non-null int64\n",
      "felony            24206 non-null int64\n",
      "dtypes: int32(6), int64(7)\n",
      "memory usage: 2.0 MB\n"
     ]
    }
   ],
   "source": [
    "df_code.info()"
   ]
  },
  {
   "cell_type": "code",
   "execution_count": 56,
   "metadata": {
    "scrolled": false
   },
   "outputs": [
    {
     "data": {
      "text/plain": [
       "(<Figure size 864x648 with 2 Axes>,\n",
       " array([[<matplotlib.axes._subplots.AxesSubplot object at 0x000002A05DA0FD68>,\n",
       "         <matplotlib.axes._subplots.AxesSubplot object at 0x000002A05DC68278>],\n",
       "        [<matplotlib.axes._subplots.AxesSubplot object at 0x000002A05DC8E7F0>,\n",
       "         <matplotlib.axes._subplots.AxesSubplot object at 0x000002A05DCB7BA8>]],\n",
       "       dtype=object))"
      ]
     },
     "execution_count": 56,
     "metadata": {},
     "output_type": "execute_result"
    },
    {
     "data": {
      "image/png": "[encoded data removed]",
      "text/plain": [
       "<Figure size 864x648 with 2 Axes>"
      ]
     },
     "metadata": {},
     "output_type": "display_data"
    },
    {
     "data": {
      "image/png": "[encoded data removed]",
      "text/plain": [
       "<Figure size 864x648 with 2 Axes>"
      ]
     },
     "metadata": {},
     "output_type": "display_data"
    },
    {
     "data": {
      "image/png": "[encoded data removed]",
      "text/plain": [
       "<Figure size 864x648 with 2 Axes>"
      ]
     },
     "metadata": {},
     "output_type": "display_data"
    },
    {
     "data": {
      "image/png": "[encoded data removed]",
      "text/plain": [
       "<Figure size 864x648 with 2 Axes>"
      ]
     },
     "metadata": {},
     "output_type": "display_data"
    },
    {
     "data": {
      "image/png": "[encoded data removed]",
      "text/plain": [
       "<Figure size 864x648 with 2 Axes>"
      ]
     },
     "metadata": {},
     "output_type": "display_data"
    },
    {
     "data": {
      "image/png": "[encoded data removed]",
      "text/plain": [
       "<Figure size 864x648 with 2 Axes>"
      ]
     },
     "metadata": {},
     "output_type": "display_data"
    },
    {
     "data": {
      "image/png": "[encoded data removed]",
      "text/plain": [
       "<Figure size 864x648 with 2 Axes>"
      ]
     },
     "metadata": {},
     "output_type": "display_data"
    },
    {
     "data": {
      "image/png": "[encoded data removed]",
      "text/plain": [
       "<Figure size 864x648 with 2 Axes>"
      ]
     },
     "metadata": {},
     "output_type": "display_data"
    },
    {
     "data": {
      "image/png": "[encoded data removed]",
      "text/plain": [
       "<Figure size 864x648 with 2 Axes>"
      ]
     },
     "metadata": {},
     "output_type": "display_data"
    },
    {
     "data": {
      "image/png": "[encoded data removed]",
      "text/plain": [
       "<Figure size 864x648 with 2 Axes>"
      ]
     },
     "metadata": {},
     "output_type": "display_data"
    },
    {
     "data": {
      "image/png": "[encoded data removed]",
      "text/plain": [
       "<Figure size 864x648 with 2 Axes>"
      ]
     },
     "metadata": {},
     "output_type": "display_data"
    },
    {
     "data": {
      "image/png": "[encoded data removed]",
      "text/plain": [
       "<Figure size 864x648 with 2 Axes>"
      ]
     },
     "metadata": {},
     "output_type": "display_data"
    },
    {
     "data": {
      "image/png": "[encoded data removed]",
      "text/plain": [
       "<Figure size 864x648 with 2 Axes>"
      ]
     },
     "metadata": {},
     "output_type": "display_data"
    }
   ],
   "source": [
    "from bs_ds.bamboo import plot_hist_scat\n",
    "plot_hist_scat(df_code,'recidivist')"
   ]
  },
  {
   "cell_type": "code",
   "execution_count": 57,
   "metadata": {
    "scrolled": false
   },
   "outputs": [
    {
     "data": {
      "text/plain": [
       "(<Figure size 1152x1152 with 2 Axes>,\n",
       " <matplotlib.axes._subplots.AxesSubplot at 0x2a05e0d2630>)"
      ]
     },
     "execution_count": 57,
     "metadata": {},
     "output_type": "execute_result"
    },
    {
     "data": {
      "image/png": "[encoded data removed]",
      "text/plain": [
       "<Figure size 1152x1152 with 2 Axes>"
      ]
     },
     "metadata": {},
     "output_type": "display_data"
    }
   ],
   "source": [
    "from bs_ds.bamboo import multiplot\n",
    "multiplot(df_code.)"
   ]
  },
  {
   "cell_type": "markdown",
   "metadata": {},
   "source": [
    "## Comments on Data "
   ]
  },
  {
   "cell_type": "markdown",
   "metadata": {},
   "source": [
    "- Everything looks good to go with the possible exception of recivisidm_year. \n",
    "- Keeping for now. "
   ]
  },
  {
   "cell_type": "markdown",
   "metadata": {},
   "source": [
    "# Preprocessing for Modeling"
   ]
  },
  {
   "cell_type": "code",
   "execution_count": 58,
   "metadata": {},
   "outputs": [
    {
     "name": "stdout",
     "output_type": "stream",
     "text": [
      "<class 'pandas.core.frame.DataFrame'>\n",
      "Int64Index: 24206 entries, 0 to 26019\n",
      "Data columns (total 13 columns):\n",
      "yr_released       24206 non-null int64\n",
      "report_year       24206 non-null int64\n",
      "race_ethnicity    24206 non-null object\n",
      "age_released      24206 non-null int64\n",
      "crime_class       24206 non-null object\n",
      "crime_type        24206 non-null object\n",
      "crime_subtype     24206 non-null object\n",
      "release_type      24206 non-null object\n",
      "super_dist        24206 non-null object\n",
      "recidivist        24206 non-null int64\n",
      "target_pop        24206 non-null int64\n",
      "sex               24206 non-null int64\n",
      "felony            24206 non-null bool\n",
      "dtypes: bool(1), int64(6), object(6)\n",
      "memory usage: 2.4+ MB\n"
     ]
    },
    {
     "data": {
      "text/plain": [
       "None"
      ]
     },
     "metadata": {},
     "output_type": "display_data"
    },
    {
     "data": {
      "text/html": [
       "<div>\n",
       "<style scoped>\n",
       "    .dataframe tbody tr th:only-of-type {\n",
       "        vertical-align: middle;\n",
       "    }\n",
       "\n",
       "    .dataframe tbody tr th {\n",
       "        vertical-align: top;\n",
       "    }\n",
       "\n",
       "    .dataframe thead th {\n",
       "        text-align: right;\n",
       "    }\n",
       "</style>\n",
       "<table border=\"1\" class=\"dataframe\">\n",
       "  <thead>\n",
       "    <tr style=\"text-align: right;\">\n",
       "      <th></th>\n",
       "      <th>yr_released</th>\n",
       "      <th>report_year</th>\n",
       "      <th>age_released</th>\n",
       "      <th>recidivist</th>\n",
       "      <th>target_pop</th>\n",
       "      <th>sex</th>\n",
       "    </tr>\n",
       "  </thead>\n",
       "  <tbody>\n",
       "    <tr>\n",
       "      <th>count</th>\n",
       "      <td>24206.0000</td>\n",
       "      <td>24206.0000</td>\n",
       "      <td>24206.0000</td>\n",
       "      <td>24206.000</td>\n",
       "      <td>24206.0000</td>\n",
       "      <td>24206.0000</td>\n",
       "    </tr>\n",
       "    <tr>\n",
       "      <th>mean</th>\n",
       "      <td>2012.4997</td>\n",
       "      <td>2015.4997</td>\n",
       "      <td>1.5499</td>\n",
       "      <td>0.344</td>\n",
       "      <td>0.5701</td>\n",
       "      <td>0.1311</td>\n",
       "    </tr>\n",
       "    <tr>\n",
       "      <th>std</th>\n",
       "      <td>1.6764</td>\n",
       "      <td>1.6764</td>\n",
       "      <td>1.1075</td>\n",
       "      <td>0.475</td>\n",
       "      <td>0.4951</td>\n",
       "      <td>0.3375</td>\n",
       "    </tr>\n",
       "    <tr>\n",
       "      <th>min</th>\n",
       "      <td>2010.0000</td>\n",
       "      <td>2013.0000</td>\n",
       "      <td>0.0000</td>\n",
       "      <td>0.000</td>\n",
       "      <td>0.0000</td>\n",
       "      <td>0.0000</td>\n",
       "    </tr>\n",
       "    <tr>\n",
       "      <th>25%</th>\n",
       "      <td>2011.0000</td>\n",
       "      <td>2014.0000</td>\n",
       "      <td>1.0000</td>\n",
       "      <td>0.000</td>\n",
       "      <td>0.0000</td>\n",
       "      <td>0.0000</td>\n",
       "    </tr>\n",
       "    <tr>\n",
       "      <th>50%</th>\n",
       "      <td>2012.0000</td>\n",
       "      <td>2015.0000</td>\n",
       "      <td>1.0000</td>\n",
       "      <td>0.000</td>\n",
       "      <td>1.0000</td>\n",
       "      <td>0.0000</td>\n",
       "    </tr>\n",
       "    <tr>\n",
       "      <th>75%</th>\n",
       "      <td>2014.0000</td>\n",
       "      <td>2017.0000</td>\n",
       "      <td>2.0000</td>\n",
       "      <td>1.000</td>\n",
       "      <td>1.0000</td>\n",
       "      <td>0.0000</td>\n",
       "    </tr>\n",
       "    <tr>\n",
       "      <th>max</th>\n",
       "      <td>2015.0000</td>\n",
       "      <td>2018.0000</td>\n",
       "      <td>4.0000</td>\n",
       "      <td>1.000</td>\n",
       "      <td>1.0000</td>\n",
       "      <td>1.0000</td>\n",
       "    </tr>\n",
       "  </tbody>\n",
       "</table>\n",
       "</div>"
      ],
      "text/plain": [
       "       yr_released  report_year  age_released  recidivist  target_pop         sex\n",
       "count   24206.0000   24206.0000    24206.0000   24206.000  24206.0000  24206.0000\n",
       "mean     2012.4997    2015.4997        1.5499       0.344      0.5701      0.1311\n",
       "std         1.6764       1.6764        1.1075       0.475      0.4951      0.3375\n",
       "min      2010.0000    2013.0000        0.0000       0.000      0.0000      0.0000\n",
       "25%      2011.0000    2014.0000        1.0000       0.000      0.0000      0.0000\n",
       "50%      2012.0000    2015.0000        1.0000       0.000      1.0000      0.0000\n",
       "75%      2014.0000    2017.0000        2.0000       1.000      1.0000      0.0000\n",
       "max      2015.0000    2018.0000        4.0000       1.000      1.0000      1.0000"
      ]
     },
     "metadata": {},
     "output_type": "display_data"
    },
    {
     "name": "stdout",
     "output_type": "stream",
     "text": [
      "\n",
      "---------------------------------------------------\n",
      "\n",
      "# of Identified Numeric Values in \"Object\" columns:\n"
     ]
    },
    {
     "data": {
      "text/html": [
       "<div>\n",
       "<style scoped>\n",
       "    .dataframe tbody tr th:only-of-type {\n",
       "        vertical-align: middle;\n",
       "    }\n",
       "\n",
       "    .dataframe tbody tr th {\n",
       "        vertical-align: top;\n",
       "    }\n",
       "\n",
       "    .dataframe thead th {\n",
       "        text-align: right;\n",
       "    }\n",
       "</style>\n",
       "<table border=\"1\" class=\"dataframe\">\n",
       "  <thead>\n",
       "    <tr style=\"text-align: right;\">\n",
       "      <th></th>\n",
       "      <th>Numeric values</th>\n",
       "      <th>Total Values</th>\n",
       "      <th>Percent</th>\n",
       "    </tr>\n",
       "    <tr>\n",
       "      <th>Column</th>\n",
       "      <th></th>\n",
       "      <th></th>\n",
       "      <th></th>\n",
       "    </tr>\n",
       "  </thead>\n",
       "  <tbody>\n",
       "  </tbody>\n",
       "</table>\n",
       "</div>"
      ],
      "text/plain": [
       "Empty DataFrame\n",
       "Columns: [Numeric values, Total Values, Percent]\n",
       "Index: []"
      ]
     },
     "metadata": {},
     "output_type": "display_data"
    },
    {
     "name": "stdout",
     "output_type": "stream",
     "text": [
      "\n",
      "----------------------------\n",
      "\n",
      "# of Identified Null Values:\n"
     ]
    },
    {
     "data": {
      "text/html": [
       "<div>\n",
       "<style scoped>\n",
       "    .dataframe tbody tr th:only-of-type {\n",
       "        vertical-align: middle;\n",
       "    }\n",
       "\n",
       "    .dataframe tbody tr th {\n",
       "        vertical-align: top;\n",
       "    }\n",
       "\n",
       "    .dataframe thead th {\n",
       "        text-align: right;\n",
       "    }\n",
       "</style>\n",
       "<table border=\"1\" class=\"dataframe\">\n",
       "  <thead>\n",
       "    <tr style=\"text-align: right;\">\n",
       "      <th></th>\n",
       "      <th>Null values</th>\n",
       "      <th>Total Values</th>\n",
       "      <th>Percent</th>\n",
       "    </tr>\n",
       "    <tr>\n",
       "      <th>Column</th>\n",
       "      <th></th>\n",
       "      <th></th>\n",
       "      <th></th>\n",
       "    </tr>\n",
       "  </thead>\n",
       "  <tbody>\n",
       "    <tr>\n",
       "      <th>yr_released</th>\n",
       "      <td>0</td>\n",
       "      <td>24206</td>\n",
       "      <td>0.0</td>\n",
       "    </tr>\n",
       "    <tr>\n",
       "      <th>report_year</th>\n",
       "      <td>0</td>\n",
       "      <td>24206</td>\n",
       "      <td>0.0</td>\n",
       "    </tr>\n",
       "    <tr>\n",
       "      <th>race_ethnicity</th>\n",
       "      <td>0</td>\n",
       "      <td>24206</td>\n",
       "      <td>0.0</td>\n",
       "    </tr>\n",
       "    <tr>\n",
       "      <th>age_released</th>\n",
       "      <td>0</td>\n",
       "      <td>24206</td>\n",
       "      <td>0.0</td>\n",
       "    </tr>\n",
       "    <tr>\n",
       "      <th>crime_class</th>\n",
       "      <td>0</td>\n",
       "      <td>24206</td>\n",
       "      <td>0.0</td>\n",
       "    </tr>\n",
       "    <tr>\n",
       "      <th>crime_type</th>\n",
       "      <td>0</td>\n",
       "      <td>24206</td>\n",
       "      <td>0.0</td>\n",
       "    </tr>\n",
       "    <tr>\n",
       "      <th>crime_subtype</th>\n",
       "      <td>0</td>\n",
       "      <td>24206</td>\n",
       "      <td>0.0</td>\n",
       "    </tr>\n",
       "    <tr>\n",
       "      <th>release_type</th>\n",
       "      <td>0</td>\n",
       "      <td>24206</td>\n",
       "      <td>0.0</td>\n",
       "    </tr>\n",
       "    <tr>\n",
       "      <th>super_dist</th>\n",
       "      <td>0</td>\n",
       "      <td>24206</td>\n",
       "      <td>0.0</td>\n",
       "    </tr>\n",
       "    <tr>\n",
       "      <th>recidivist</th>\n",
       "      <td>0</td>\n",
       "      <td>24206</td>\n",
       "      <td>0.0</td>\n",
       "    </tr>\n",
       "    <tr>\n",
       "      <th>target_pop</th>\n",
       "      <td>0</td>\n",
       "      <td>24206</td>\n",
       "      <td>0.0</td>\n",
       "    </tr>\n",
       "    <tr>\n",
       "      <th>sex</th>\n",
       "      <td>0</td>\n",
       "      <td>24206</td>\n",
       "      <td>0.0</td>\n",
       "    </tr>\n",
       "    <tr>\n",
       "      <th>felony</th>\n",
       "      <td>0</td>\n",
       "      <td>24206</td>\n",
       "      <td>0.0</td>\n",
       "    </tr>\n",
       "  </tbody>\n",
       "</table>\n",
       "</div>"
      ],
      "text/plain": [
       "                Null values  Total Values  Percent\n",
       "Column                                            \n",
       "yr_released               0         24206      0.0\n",
       "report_year               0         24206      0.0\n",
       "race_ethnicity            0         24206      0.0\n",
       "age_released              0         24206      0.0\n",
       "crime_class               0         24206      0.0\n",
       "crime_type                0         24206      0.0\n",
       "crime_subtype             0         24206      0.0\n",
       "release_type              0         24206      0.0\n",
       "super_dist                0         24206      0.0\n",
       "recidivist                0         24206      0.0\n",
       "target_pop                0         24206      0.0\n",
       "sex                       0         24206      0.0\n",
       "felony                    0         24206      0.0"
      ]
     },
     "metadata": {},
     "output_type": "display_data"
    },
    {
     "data": {
      "text/html": [
       "<div>\n",
       "<style scoped>\n",
       "    .dataframe tbody tr th:only-of-type {\n",
       "        vertical-align: middle;\n",
       "    }\n",
       "\n",
       "    .dataframe tbody tr th {\n",
       "        vertical-align: top;\n",
       "    }\n",
       "\n",
       "    .dataframe thead th {\n",
       "        text-align: right;\n",
       "    }\n",
       "</style>\n",
       "<table border=\"1\" class=\"dataframe\">\n",
       "  <thead>\n",
       "    <tr style=\"text-align: right;\">\n",
       "      <th></th>\n",
       "      <th>yr_released</th>\n",
       "      <th>report_year</th>\n",
       "      <th>race_ethnicity</th>\n",
       "      <th>age_released</th>\n",
       "      <th>crime_class</th>\n",
       "      <th>crime_type</th>\n",
       "      <th>crime_subtype</th>\n",
       "      <th>release_type</th>\n",
       "      <th>super_dist</th>\n",
       "      <th>recidivist</th>\n",
       "      <th>target_pop</th>\n",
       "      <th>sex</th>\n",
       "      <th>felony</th>\n",
       "    </tr>\n",
       "  </thead>\n",
       "  <tbody>\n",
       "    <tr>\n",
       "      <th>0</th>\n",
       "      <td>2010</td>\n",
       "      <td>2013</td>\n",
       "      <td>Black</td>\n",
       "      <td>1</td>\n",
       "      <td>C Felony</td>\n",
       "      <td>Violent</td>\n",
       "      <td>Robbery</td>\n",
       "      <td>Parole</td>\n",
       "      <td>7JD</td>\n",
       "      <td>1</td>\n",
       "      <td>1</td>\n",
       "      <td>0</td>\n",
       "      <td>True</td>\n",
       "    </tr>\n",
       "    <tr>\n",
       "      <th>1</th>\n",
       "      <td>2010</td>\n",
       "      <td>2013</td>\n",
       "      <td>White</td>\n",
       "      <td>1</td>\n",
       "      <td>D Felony</td>\n",
       "      <td>Property</td>\n",
       "      <td>Theft</td>\n",
       "      <td>Discharged – End of Sentence</td>\n",
       "      <td>unknown</td>\n",
       "      <td>1</td>\n",
       "      <td>0</td>\n",
       "      <td>0</td>\n",
       "      <td>True</td>\n",
       "    </tr>\n",
       "    <tr>\n",
       "      <th>2</th>\n",
       "      <td>2010</td>\n",
       "      <td>2013</td>\n",
       "      <td>White</td>\n",
       "      <td>2</td>\n",
       "      <td>B Felony</td>\n",
       "      <td>Drug</td>\n",
       "      <td>Trafficking</td>\n",
       "      <td>Parole</td>\n",
       "      <td>5JD</td>\n",
       "      <td>1</td>\n",
       "      <td>1</td>\n",
       "      <td>0</td>\n",
       "      <td>True</td>\n",
       "    </tr>\n",
       "  </tbody>\n",
       "</table>\n",
       "</div>"
      ],
      "text/plain": [
       "   yr_released  report_year race_ethnicity  age_released crime_class crime_type crime_subtype                  release_type super_dist  recidivist  target_pop  sex  felony\n",
       "0         2010         2013          Black             1    C Felony    Violent       Robbery                        Parole        7JD           1           1    0    True\n",
       "1         2010         2013          White             1    D Felony   Property         Theft  Discharged – End of Sentence    unknown           1           0    0    True\n",
       "2         2010         2013          White             2    B Felony       Drug   Trafficking                        Parole        5JD           1           1    0    True"
      ]
     },
     "metadata": {},
     "output_type": "display_data"
    }
   ],
   "source": [
    "inspect_df(df)"
   ]
  },
  {
   "cell_type": "code",
   "execution_count": null,
   "metadata": {},
   "outputs": [],
   "source": []
  },
  {
   "cell_type": "code",
   "execution_count": 59,
   "metadata": {},
   "outputs": [],
   "source": [
    "X = pd.get_dummies(df.drop(['recidivist','report_year','yr_released'],axis=1),drop_first=True)\n",
    "y = df.recidivist"
   ]
  },
  {
   "cell_type": "code",
   "execution_count": 60,
   "metadata": {},
   "outputs": [
    {
     "name": "stdout",
     "output_type": "stream",
     "text": [
      "<class 'pandas.core.frame.DataFrame'>\n",
      "Int64Index: 24206 entries, 0 to 26019\n",
      "Data columns (total 66 columns):\n",
      "age_released                                            24206 non-null int64\n",
      "target_pop                                              24206 non-null int64\n",
      "sex                                                     24206 non-null int64\n",
      "felony                                                  24206 non-null bool\n",
      "race_ethnicity_Asian or Pacific Islander                24206 non-null uint8\n",
      "race_ethnicity_Black                                    24206 non-null uint8\n",
      "race_ethnicity_Hispanic                                 24206 non-null uint8\n",
      "race_ethnicity_White                                    24206 non-null uint8\n",
      "crime_class_Aggravated Misdemeanor                      24206 non-null uint8\n",
      "crime_class_B Felony                                    24206 non-null uint8\n",
      "crime_class_C Felony                                    24206 non-null uint8\n",
      "crime_class_D Felony                                    24206 non-null uint8\n",
      "crime_class_Felony - Enhanced                           24206 non-null uint8\n",
      "crime_class_Felony - Enhancement to Original Penalty    24206 non-null uint8\n",
      "crime_class_Serious Misdemeanor                         24206 non-null uint8\n",
      "crime_class_Sex Offender                                24206 non-null uint8\n",
      "crime_class_Simple Misdemeanor                          24206 non-null uint8\n",
      "crime_type_Other                                        24206 non-null uint8\n",
      "crime_type_Property                                     24206 non-null uint8\n",
      "crime_type_Public Order                                 24206 non-null uint8\n",
      "crime_type_Violent                                      24206 non-null uint8\n",
      "crime_subtype_Animals                                   24206 non-null uint8\n",
      "crime_subtype_Arson                                     24206 non-null uint8\n",
      "crime_subtype_Assault                                   24206 non-null uint8\n",
      "crime_subtype_Burglary                                  24206 non-null uint8\n",
      "crime_subtype_Drug Possession                           24206 non-null uint8\n",
      "crime_subtype_Flight/Escape                             24206 non-null uint8\n",
      "crime_subtype_Forgery/Fraud                             24206 non-null uint8\n",
      "crime_subtype_Kidnap                                    24206 non-null uint8\n",
      "crime_subtype_Murder/Manslaughter                       24206 non-null uint8\n",
      "crime_subtype_OWI                                       24206 non-null uint8\n",
      "crime_subtype_Other Criminal                            24206 non-null uint8\n",
      "crime_subtype_Other Drug                                24206 non-null uint8\n",
      "crime_subtype_Other Public Order                        24206 non-null uint8\n",
      "crime_subtype_Other Violent                             24206 non-null uint8\n",
      "crime_subtype_Prostitution/Pimping                      24206 non-null uint8\n",
      "crime_subtype_Robbery                                   24206 non-null uint8\n",
      "crime_subtype_Sex                                       24206 non-null uint8\n",
      "crime_subtype_Sex Offender Registry/Residency           24206 non-null uint8\n",
      "crime_subtype_Special Sentence Revocation               24206 non-null uint8\n",
      "crime_subtype_Stolen Property                           24206 non-null uint8\n",
      "crime_subtype_Theft                                     24206 non-null uint8\n",
      "crime_subtype_Traffic                                   24206 non-null uint8\n",
      "crime_subtype_Trafficking                               24206 non-null uint8\n",
      "crime_subtype_Vandalism                                 24206 non-null uint8\n",
      "crime_subtype_Weapons                                   24206 non-null uint8\n",
      "release_type_Discharged – End of Sentence               24206 non-null uint8\n",
      "release_type_Parole                                     24206 non-null uint8\n",
      "release_type_Parole Granted                             24206 non-null uint8\n",
      "release_type_Paroled to Detainer - INS                  24206 non-null uint8\n",
      "release_type_Paroled to Detainer - Iowa                 24206 non-null uint8\n",
      "release_type_Paroled to Detainer - Out of State         24206 non-null uint8\n",
      "release_type_Paroled to Detainer - U.S. Marshall        24206 non-null uint8\n",
      "release_type_Paroled w/Immediate Discharge              24206 non-null uint8\n",
      "release_type_Released to Special Sentence               24206 non-null uint8\n",
      "release_type_Special Sentence                           24206 non-null uint8\n",
      "super_dist_2JD                                          24206 non-null uint8\n",
      "super_dist_3JD                                          24206 non-null uint8\n",
      "super_dist_4JD                                          24206 non-null uint8\n",
      "super_dist_5JD                                          24206 non-null uint8\n",
      "super_dist_6JD                                          24206 non-null uint8\n",
      "super_dist_7JD                                          24206 non-null uint8\n",
      "super_dist_8JD                                          24206 non-null uint8\n",
      "super_dist_ISC                                          24206 non-null uint8\n",
      "super_dist_Interstate Compact                           24206 non-null uint8\n",
      "super_dist_unknown                                      24206 non-null uint8\n",
      "dtypes: bool(1), int64(3), uint8(62)\n",
      "memory usage: 2.2 MB\n"
     ]
    }
   ],
   "source": [
    "X.info()"
   ]
  },
  {
   "cell_type": "code",
   "execution_count": 61,
   "metadata": {},
   "outputs": [],
   "source": [
    "df_code = []"
   ]
  },
  {
   "cell_type": "code",
   "execution_count": 62,
   "metadata": {},
   "outputs": [],
   "source": [
    "from bs_ds.bs_ds import scale_data, thick_pipe, compare_pipes, make_config_dict,make_random_config_dict"
   ]
  },
  {
   "cell_type": "markdown",
   "metadata": {},
   "source": [
    "## Using bs_ds.bs_ds.thick_pipe \n",
    "1. Try scaling the features with different scalers for improves results\n",
    "2. Use highest score to determine which models to try first.\n",
    "2B. Test parameters compare_pipes using search = 'random', get best estimators from it\n",
    "- When find the best parameters, use those to zero in on a smaller range to test again with compare pipes with smaller ranges of parameters\n",
    "- Some of the models that are more computatinally intensive that may want to be tested in small batches or 1 at a time:\n",
    "    - LogRegCV, XGB, GradBoost, AdaBoost"
   ]
  },
  {
   "cell_type": "code",
   "execution_count": 63,
   "metadata": {},
   "outputs": [],
   "source": [
    "# X.to_csv('X_one_hot.csv')"
   ]
  },
  {
   "cell_type": "code",
   "execution_count": 64,
   "metadata": {},
   "outputs": [],
   "source": [
    "# y.to_csv('y_recidivist.csv')"
   ]
  },
  {
   "cell_type": "code",
   "execution_count": 65,
   "metadata": {},
   "outputs": [],
   "source": [
    "n_comp = X.shape[1]-1"
   ]
  },
  {
   "cell_type": "code",
   "execution_count": 66,
   "metadata": {},
   "outputs": [],
   "source": [
    "# bookmark"
   ]
  },
  {
   "cell_type": "code",
   "execution_count": 67,
   "metadata": {},
   "outputs": [
    {
     "data": {
      "text/html": [
       "<div>\n",
       "<style scoped>\n",
       "    .dataframe tbody tr th:only-of-type {\n",
       "        vertical-align: middle;\n",
       "    }\n",
       "\n",
       "    .dataframe tbody tr th {\n",
       "        vertical-align: top;\n",
       "    }\n",
       "\n",
       "    .dataframe thead th {\n",
       "        text-align: right;\n",
       "    }\n",
       "</style>\n",
       "<table border=\"1\" class=\"dataframe\">\n",
       "  <thead>\n",
       "    <tr style=\"text-align: right;\">\n",
       "      <th></th>\n",
       "      <th>classifier</th>\n",
       "      <th>score</th>\n",
       "    </tr>\n",
       "  </thead>\n",
       "  <tbody>\n",
       "    <tr>\n",
       "      <th>0</th>\n",
       "      <td>LogReg</td>\n",
       "      <td>0.6733</td>\n",
       "    </tr>\n",
       "    <tr>\n",
       "      <th>1</th>\n",
       "      <td>SVC</td>\n",
       "      <td>0.6702</td>\n",
       "    </tr>\n",
       "    <tr>\n",
       "      <th>2</th>\n",
       "      <td>DecTree</td>\n",
       "      <td>0.6314</td>\n",
       "    </tr>\n",
       "    <tr>\n",
       "      <th>3</th>\n",
       "      <td>RandFor</td>\n",
       "      <td>0.6418</td>\n",
       "    </tr>\n",
       "    <tr>\n",
       "      <th>4</th>\n",
       "      <td>AdaBoost</td>\n",
       "      <td>0.6745</td>\n",
       "    </tr>\n",
       "    <tr>\n",
       "      <th>5</th>\n",
       "      <td>GradBoost</td>\n",
       "      <td>0.6829</td>\n",
       "    </tr>\n",
       "    <tr>\n",
       "      <th>6</th>\n",
       "      <td>xgb</td>\n",
       "      <td>0.6809</td>\n",
       "    </tr>\n",
       "  </tbody>\n",
       "</table>\n",
       "</div>"
      ],
      "text/plain": [
       "  classifier   score\n",
       "0     LogReg  0.6733\n",
       "1        SVC  0.6702\n",
       "2    DecTree  0.6314\n",
       "3    RandFor  0.6418\n",
       "4   AdaBoost  0.6745\n",
       "5  GradBoost  0.6829\n",
       "6        xgb  0.6809"
      ]
     },
     "metadata": {},
     "output_type": "display_data"
    }
   ],
   "source": [
    "pipe_res = thick_pipe(X,y,n_comp,verbose=False);\n",
    "# pipe_res = thick_pipe(X,y,verbose=False);"
   ]
  },
  {
   "cell_type": "markdown",
   "metadata": {},
   "source": [
    "- Notes on thick pipe run # 1(ish)\n",
    "    - Very similar results for most models(except dectree, randomfor)\n",
    "    - Best score is 0.0.68 gradboost\n",
    "- Notes on run # 2 (one-hot encoded everything but years and target)\n",
    "    - Basically same performance, but xgb eeks out .6782\n",
    "    \n",
    "| ---- | ---- | ---- |\n",
    "|0\tLogReg: 0.6779|,1\tSVC:\t0.6698, 2\tDecTree:\t0.6318, 3\tRandFor:\t0.6391, 4\tAdaBoost:\t0.6697, 5\tGradBoost:\t0.6780, 6\txgb\t0.6782"
   ]
  },
  {
   "cell_type": "markdown",
   "metadata": {},
   "source": [
    "## Baseline Classifier\n"
   ]
  },
  {
   "cell_type": "code",
   "execution_count": null,
   "metadata": {},
   "outputs": [],
   "source": []
  },
  {
   "cell_type": "markdown",
   "metadata": {},
   "source": [
    "### Catboost"
   ]
  },
  {
   "cell_type": "code",
   "execution_count": 68,
   "metadata": {},
   "outputs": [],
   "source": [
    "from sklearn.model_selection import train_test_split\n",
    "from catboost import CatBoostClassifier, Pool"
   ]
  },
  {
   "cell_type": "code",
   "execution_count": 86,
   "metadata": {},
   "outputs": [
    {
     "data": {
      "text/html": [
       "<div>\n",
       "<style scoped>\n",
       "    .dataframe tbody tr th:only-of-type {\n",
       "        vertical-align: middle;\n",
       "    }\n",
       "\n",
       "    .dataframe tbody tr th {\n",
       "        vertical-align: top;\n",
       "    }\n",
       "\n",
       "    .dataframe thead th {\n",
       "        text-align: right;\n",
       "    }\n",
       "</style>\n",
       "<table border=\"1\" class=\"dataframe\">\n",
       "  <thead>\n",
       "    <tr style=\"text-align: right;\">\n",
       "      <th></th>\n",
       "      <th>crime_class_map</th>\n",
       "      <th>race_ethnicity_map</th>\n",
       "      <th>release_type_map</th>\n",
       "      <th>recidivist_map</th>\n",
       "      <th>target_pop_map</th>\n",
       "      <th>sex_map</th>\n",
       "      <th>age_released_map</th>\n",
       "    </tr>\n",
       "  </thead>\n",
       "  <tbody>\n",
       "    <tr>\n",
       "      <th>0</th>\n",
       "      <td>C Felony</td>\n",
       "      <td>Black</td>\n",
       "      <td>Paroled</td>\n",
       "      <td>1</td>\n",
       "      <td>1</td>\n",
       "      <td>0</td>\n",
       "      <td>1</td>\n",
       "    </tr>\n",
       "    <tr>\n",
       "      <th>1</th>\n",
       "      <td>D Felony</td>\n",
       "      <td>White</td>\n",
       "      <td>Discharged - End of Sentence</td>\n",
       "      <td>1</td>\n",
       "      <td>0</td>\n",
       "      <td>0</td>\n",
       "      <td>1</td>\n",
       "    </tr>\n",
       "    <tr>\n",
       "      <th>2</th>\n",
       "      <td>B Felony</td>\n",
       "      <td>White</td>\n",
       "      <td>Paroled</td>\n",
       "      <td>1</td>\n",
       "      <td>1</td>\n",
       "      <td>0</td>\n",
       "      <td>2</td>\n",
       "    </tr>\n",
       "    <tr>\n",
       "      <th>3</th>\n",
       "      <td>B Felony</td>\n",
       "      <td>White</td>\n",
       "      <td>Paroled</td>\n",
       "      <td>0</td>\n",
       "      <td>1</td>\n",
       "      <td>0</td>\n",
       "      <td>1</td>\n",
       "    </tr>\n",
       "    <tr>\n",
       "      <th>4</th>\n",
       "      <td>D Felony</td>\n",
       "      <td>Black</td>\n",
       "      <td>Discharged - End of Sentence</td>\n",
       "      <td>1</td>\n",
       "      <td>0</td>\n",
       "      <td>0</td>\n",
       "      <td>2</td>\n",
       "    </tr>\n",
       "  </tbody>\n",
       "</table>\n",
       "</div>"
      ],
      "text/plain": [
       "  crime_class_map race_ethnicity_map              release_type_map  recidivist_map  target_pop_map  sex_map  age_released_map\n",
       "0        C Felony              Black                       Paroled               1               1        0                 1\n",
       "1        D Felony              White  Discharged - End of Sentence               1               0        0                 1\n",
       "2        B Felony              White                       Paroled               1               1        0                 2\n",
       "3        B Felony              White                       Paroled               0               1        0                 1\n",
       "4        D Felony              Black  Discharged - End of Sentence               1               0        0                 2"
      ]
     },
     "execution_count": 86,
     "metadata": {},
     "output_type": "execute_result"
    }
   ],
   "source": [
    "df=pd.read_csv('recidivism_remapped_classes.csv')\n",
    "df.drop('Unnamed: 0',axis=1,inplace=True)\n",
    "df_cat = df.filter(regex='map',axis=1)\n",
    "df_cat.head()"
   ]
  },
  {
   "cell_type": "code",
   "execution_count": 71,
   "metadata": {},
   "outputs": [],
   "source": [
    "X_train, X_test, y_train, y_test = train_test_split(X,y)"
   ]
  },
  {
   "cell_type": "code",
   "execution_count": 72,
   "metadata": {},
   "outputs": [],
   "source": [
    "catboost_pool = Pool(X_train, y_train)"
   ]
  },
  {
   "cell_type": "code",
   "execution_count": 73,
   "metadata": {},
   "outputs": [],
   "source": [
    "model = CatBoostClassifier(iterations=3,\n",
    "                          depth=4,\n",
    "                          learning_rate = 1,\n",
    "                          loss_function = 'CrossEntropy',\n",
    "                          verbose=True,\n",
    "                          task_type=\"GPU\")"
   ]
  },
  {
   "cell_type": "code",
   "execution_count": 74,
   "metadata": {},
   "outputs": [
    {
     "name": "stdout",
     "output_type": "stream",
     "text": [
      "0:\tlearn: 0.6203738\ttotal: 36ms\tremaining: 72.1ms\n",
      "1:\tlearn: 0.6098563\ttotal: 73.9ms\tremaining: 37ms\n",
      "2:\tlearn: 0.6056246\ttotal: 108ms\tremaining: 0us\n"
     ]
    },
    {
     "data": {
      "text/plain": [
       "<catboost.core.CatBoostClassifier at 0x2a05d955048>"
      ]
     },
     "execution_count": 74,
     "metadata": {},
     "output_type": "execute_result"
    }
   ],
   "source": [
    "# model.fit(X_train, y_train)\n",
    "model.fit(catboost_pool)"
   ]
  },
  {
   "cell_type": "code",
   "execution_count": null,
   "metadata": {},
   "outputs": [],
   "source": []
  },
  {
   "cell_type": "code",
   "execution_count": null,
   "metadata": {},
   "outputs": [],
   "source": [
    "# import pickle\n",
    "# filename = 'pickles/cat_boost.pickle'\n",
    "# pickling_on = open(filename,'wb')\n",
    "# pickle.dump(model,pickling_on)\n",
    "# pickling_on.close()"
   ]
  },
  {
   "cell_type": "code",
   "execution_count": null,
   "metadata": {},
   "outputs": [],
   "source": [
    "preds_class = model.predict(X_test)\n",
    "preds_proba = model.predict_proba(X_test)\n",
    "\n",
    "print(\"class = \", preds_class)\n",
    "print(\"proba = \", preds_proba)"
   ]
  },
  {
   "cell_type": "markdown",
   "metadata": {},
   "source": [
    "### Simple Decision Tree Classifier"
   ]
  },
  {
   "cell_type": "code",
   "execution_count": null,
   "metadata": {},
   "outputs": [],
   "source": [
    "# from sklearn.tree import DecisionTreeClassifier\n",
    "# tree_clf = DecisionTreeClassifier()"
   ]
  },
  {
   "cell_type": "code",
   "execution_count": null,
   "metadata": {},
   "outputs": [],
   "source": [
    "# params={'max_depth':10}\n",
    "# tree_clf.set_params(**params)"
   ]
  },
  {
   "cell_type": "code",
   "execution_count": null,
   "metadata": {},
   "outputs": [],
   "source": [
    "# tree_clf.fit(X_train, y_train)"
   ]
  },
  {
   "cell_type": "code",
   "execution_count": 76,
   "metadata": {},
   "outputs": [],
   "source": [
    "def plot_feature_importances(model):\n",
    "    n_features = X_train.shape[1]\n",
    "    plt.figure(figsize=(8,8))\n",
    "    plt.barh(range(n_features), model.feature_importances_, align='center') \n",
    "    plt.yticks(np.arange(n_features), X_train.columns.values) \n",
    "    plt.xlabel(\"Feature importance\")\n",
    "    plt.ylabel(\"Feature\")"
   ]
  },
  {
   "cell_type": "code",
   "execution_count": null,
   "metadata": {},
   "outputs": [],
   "source": [
    "# clf_tree."
   ]
  },
  {
   "cell_type": "code",
   "execution_count": null,
   "metadata": {},
   "outputs": [],
   "source": [
    "# plot_feature_importances(tree_clf)"
   ]
  },
  {
   "cell_type": "code",
   "execution_count": null,
   "metadata": {},
   "outputs": [],
   "source": [
    "# from bs_ds.bs_ds import viz_tree\n",
    "# viz_tree(tree_clf)\n"
   ]
  },
  {
   "cell_type": "markdown",
   "metadata": {},
   "source": [
    "### Assessing Model Accuracy"
   ]
  },
  {
   "cell_type": "code",
   "execution_count": 77,
   "metadata": {},
   "outputs": [],
   "source": [
    "from sklearn.metrics import confusion_matrix, classification_report, accuracy_score"
   ]
  },
  {
   "cell_type": "code",
   "execution_count": null,
   "metadata": {},
   "outputs": [],
   "source": [
    "# pred = tree_clf.predict(X_test)\n",
    "# print(confusion_matrix(y_test,pred))\n",
    "# print(classification_report(y_test, pred))\n",
    "# print(accuracy_score(y_test,pred))"
   ]
  },
  {
   "cell_type": "code",
   "execution_count": null,
   "metadata": {},
   "outputs": [],
   "source": [
    "# tree_clf.score(X_test, y_test)"
   ]
  },
  {
   "cell_type": "markdown",
   "metadata": {},
   "source": [
    "## Bagged Trees"
   ]
  },
  {
   "cell_type": "code",
   "execution_count": 78,
   "metadata": {},
   "outputs": [],
   "source": [
    "from sklearn.ensemble import BaggingClassifier\n",
    "from sklearn.tree import  DecisionTreeClassifier\n",
    "bagged_tree = BaggingClassifier(DecisionTreeClassifier(criterion='gini',max_depth=5), n_estimators=20, n_jobs=-1, bootstrap_features=True)"
   ]
  },
  {
   "cell_type": "code",
   "execution_count": 79,
   "metadata": {},
   "outputs": [
    {
     "data": {
      "text/plain": [
       "BaggingClassifier(base_estimator=DecisionTreeClassifier(class_weight=None, criterion='gini', max_depth=5,\n",
       "            max_features=None, max_leaf_nodes=None,\n",
       "            min_impurity_decrease=0.0, min_impurity_split=None,\n",
       "            min_samples_leaf=1, min_samples_split=2,\n",
       "            min_weight_fraction_leaf=0.0, presort=False, random_state=None,\n",
       "            splitter='best'),\n",
       "         bootstrap=True, bootstrap_features=True, max_features=1.0,\n",
       "         max_samples=1.0, n_estimators=20, n_jobs=-1, oob_score=False,\n",
       "         random_state=None, verbose=0, warm_start=False)"
      ]
     },
     "execution_count": 79,
     "metadata": {},
     "output_type": "execute_result"
    }
   ],
   "source": [
    "bagged_tree.fit(X_train, y_train)"
   ]
  },
  {
   "cell_type": "code",
   "execution_count": 80,
   "metadata": {},
   "outputs": [
    {
     "data": {
      "text/plain": [
       "0.6594139032720062"
      ]
     },
     "execution_count": 80,
     "metadata": {},
     "output_type": "execute_result"
    }
   ],
   "source": [
    "bagged_tree.score(X_train,y_train)"
   ]
  },
  {
   "cell_type": "code",
   "execution_count": 81,
   "metadata": {},
   "outputs": [
    {
     "data": {
      "text/plain": [
       "0.6535029742233972"
      ]
     },
     "execution_count": 81,
     "metadata": {},
     "output_type": "execute_result"
    }
   ],
   "source": [
    "y_pred = bagged_tree.predict(X_test)\n",
    "bagged_tree.score(X_test, y_test)"
   ]
  },
  {
   "cell_type": "code",
   "execution_count": null,
   "metadata": {},
   "outputs": [],
   "source": [
    "stop"
   ]
  },
  {
   "cell_type": "code",
   "execution_count": null,
   "metadata": {},
   "outputs": [],
   "source": [
    "from bs_ds.bs_ds import *"
   ]
  },
  {
   "cell_type": "code",
   "execution_count": null,
   "metadata": {
    "scrolled": false
   },
   "outputs": [],
   "source": [
    "# from bs_ds.bs_ds import tune_params_trees\n",
    "config_dict = make_random_config_dict()\n",
    "compare_pipes(X_train,y_train,X_test,y_test,config_dict)\n"
   ]
  },
  {
   "cell_type": "markdown",
   "metadata": {},
   "source": [
    "## Random Forests"
   ]
  },
  {
   "cell_type": "code",
   "execution_count": 82,
   "metadata": {},
   "outputs": [
    {
     "data": {
      "text/plain": [
       "RandomForestClassifier(bootstrap=True, class_weight=None, criterion='gini',\n",
       "            max_depth=5, max_features='auto', max_leaf_nodes=None,\n",
       "            min_impurity_decrease=0.0, min_impurity_split=None,\n",
       "            min_samples_leaf=1, min_samples_split=2,\n",
       "            min_weight_fraction_leaf=0.0, n_estimators=100, n_jobs=None,\n",
       "            oob_score=False, random_state=None, verbose=0,\n",
       "            warm_start=False)"
      ]
     },
     "execution_count": 82,
     "metadata": {},
     "output_type": "execute_result"
    }
   ],
   "source": [
    "from sklearn.ensemble import RandomForestClassifier\n",
    "forest = RandomForestClassifier(n_estimators=100, max_depth=5)\n",
    "forest.fit(X_train, y_train)"
   ]
  },
  {
   "cell_type": "code",
   "execution_count": 83,
   "metadata": {},
   "outputs": [
    {
     "name": "stdout",
     "output_type": "stream",
     "text": [
      "0.657375784950975\n",
      "0.6520158625247852\n"
     ]
    }
   ],
   "source": [
    "print(forest.score(X_train, y_train))\n",
    "print(forest.score(X_test, y_test))"
   ]
  },
  {
   "cell_type": "code",
   "execution_count": null,
   "metadata": {},
   "outputs": [],
   "source": []
  },
  {
   "cell_type": "markdown",
   "metadata": {},
   "source": [
    "## Adding xgb, gbc"
   ]
  },
  {
   "cell_type": "code",
   "execution_count": null,
   "metadata": {},
   "outputs": [],
   "source": [
    "import os\n",
    "import sys\n",
    "sys.path.append('C:\\\\Program\\ Files\\ \\(x86\\)\\\\Graphviz2.38\\\\bin')"
   ]
  },
  {
   "cell_type": "code",
   "execution_count": null,
   "metadata": {},
   "outputs": [],
   "source": [
    "clf_xgb = xgboost.sklearn.XGBClassifier()\n",
    "clf_gbc = GradientBoostingClassifier()"
   ]
  },
  {
   "cell_type": "code",
   "execution_count": null,
   "metadata": {},
   "outputs": [],
   "source": [
    "clf_gbc.fit()"
   ]
  },
  {
   "cell_type": "code",
   "execution_count": null,
   "metadata": {},
   "outputs": [],
   "source": [
    "plot_feature_importances(tree_clf)"
   ]
  }
 ],
 "metadata": {
  "kernelspec": {
   "display_name": "learn-env-ext",
   "language": "python",
   "name": "learn-env-ext"
  },
  "language_info": {
   "codemirror_mode": {
    "name": "ipython",
    "version": 3
   },
   "file_extension": ".py",
   "mimetype": "text/x-python",
   "name": "python",
   "nbconvert_exporter": "python",
   "pygments_lexer": "ipython3",
   "version": "3.6.8"
  },
  "toc": {
   "base_numbering": 1,
   "nav_menu": {},
   "number_sections": false,
   "sideBar": true,
   "skip_h1_title": false,
   "title_cell": "Table of Contents",
   "title_sidebar": "Contents",
   "toc_cell": false,
   "toc_position": {
    "height": "calc(100% - 180px)",
    "left": "10px",
    "top": "150px",
    "width": "307.2px"
   },
   "toc_section_display": true,
   "toc_window_display": true
  },
  "varInspector": {
   "cols": {
    "lenName": 16,
    "lenType": 16,
    "lenVar": 40
   },
   "kernels_config": {
    "python": {
     "delete_cmd_postfix": "",
     "delete_cmd_prefix": "del ",
     "library": "var_list.py",
     "varRefreshCmd": "print(var_dic_list())"
    },
    "r": {
     "delete_cmd_postfix": ") ",
     "delete_cmd_prefix": "rm(",
     "library": "var_list.r",
     "varRefreshCmd": "cat(var_dic_list()) "
    }
   },
   "oldHeight": 572.597222,
   "position": {
    "height": "40px",
    "left": "838.597px",
    "right": "20px",
    "top": "73px",
    "width": "705.347px"
   },
   "types_to_exclude": [
    "module",
    "function",
    "builtin_function_or_method",
    "instance",
    "_Feature"
   ],
   "varInspector_section_display": "none",
   "window_display": true
  }
 },
 "nbformat": 4,
 "nbformat_minor": 2
}
